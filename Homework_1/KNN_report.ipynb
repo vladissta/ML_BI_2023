{
 "cells": [
  {
   "cell_type": "markdown",
   "id": "39a37345-99a6-4b16-9be7-ebdca1414c7f",
   "metadata": {
    "id": "39a37345-99a6-4b16-9be7-ebdca1414c7f"
   },
   "source": [
    "# Домашнее задание №1 - Метод К-ближайших соседей (K-neariest neighbors)\n",
    "\n",
    "Сегодня мы с вами реализуем наш первый алгоритм машинного обучения, метод К-ближайших соседей. Мы попытаемся решить с помощью него задачи:\n",
    "- бинарной классификации (то есть, только двум классам)\n",
    "- многоклассовой классификации (то есть, нескольким классам)\n",
    "- регрессии (когда зависимая переменная - натуральное число)\n",
    "\n",
    "Так как методу необходим гиперпараметр (hyperparameter) - количество соседей, то нам нужно научиться подбирать этот параметр. Мы постараемся научиться пользовать numpy для векторизованных вычислений, а также посмотрим на несколько метрик, которые используются в задачах классификации и регрессии.\n",
    "\n",
    "Перед выполнением задания:\n",
    "- установите все необходимые библиотеки, запустив `pip install -r requirements.txt`\n",
    "\n",
    "Если вы раньше не работали с numpy или позабыли его, то можно вспомнить здесь:  \n",
    "http://cs231n.github.io/python-numpy-tutorial/"
   ]
  },
  {
   "cell_type": "code",
   "execution_count": 1,
   "id": "9638c464-806f-41b5-9dfe-1ea2048a1fa1",
   "metadata": {
    "id": "9638c464-806f-41b5-9dfe-1ea2048a1fa1"
   },
   "outputs": [],
   "source": [
    "import time\n",
    "import matplotlib.pyplot as plt\n",
    "import seaborn as sns\n",
    "import numpy as np\n",
    "import random\n",
    "import pandas as pd\n",
    "\n",
    "\n",
    "from sklearn.datasets import fetch_openml\n",
    "from sklearn.model_selection import train_test_split\n",
    "from knn import KNNClassifier\n",
    "from metrics import binary_classification_metrics, multiclass_accuracy\n",
    "\n"
   ]
  },
  {
   "cell_type": "code",
   "execution_count": 2,
   "id": "43bd8dc9-c430-4313-a6a1-4d3e5a7e9c47",
   "metadata": {
    "id": "43bd8dc9-c430-4313-a6a1-4d3e5a7e9c47"
   },
   "outputs": [],
   "source": [
    "# plt.rcParams[\"figure.figsize\"] = 12, 9\n",
    "sns.set_style(\"whitegrid\")\n",
    "\n",
    "SEED = 111\n",
    "random.seed(SEED)\n",
    "np.random.seed(SEED)"
   ]
  },
  {
   "cell_type": "code",
   "execution_count": 3,
   "id": "0d40d673",
   "metadata": {
    "id": "0d40d673"
   },
   "outputs": [],
   "source": [
    "%load_ext autoreload\n",
    "%autoreload 2"
   ]
  },
  {
   "cell_type": "markdown",
   "id": "2867b963-214c-49ea-9460-5b427b56544d",
   "metadata": {
    "id": "2867b963-214c-49ea-9460-5b427b56544d"
   },
   "source": [
    "## Задание 1. KNN на датасете Fashion-MNIST (10 баллов)"
   ]
  },
  {
   "cell_type": "markdown",
   "id": "60a90da7-87ac-42e6-b376-bb34dac2b10b",
   "metadata": {
    "id": "60a90da7-87ac-42e6-b376-bb34dac2b10b"
   },
   "source": [
    "В этом задании вам предстоит поработать с картинками одежды, среди которых можно выделить 10 классов. Данные уже загружены за вас: в переменной X лежат 70000 картинок размером 28 на 28 пикселей, вытянутые в вектор размерностью 784 (28 * 28). Так как данных довольно много, а наш KNN будет весьма медленный, то возьмем случайно 1000 наблюдений (в реальности в зависимости от вашей реализации можно будет взять больше, но если будет не зватать ОЗУ, то берите меньше)."
   ]
  },
  {
   "cell_type": "code",
   "execution_count": 4,
   "id": "54fa4253-ea6a-4ec4-b914-f7cb2346b195",
   "metadata": {
    "id": "54fa4253-ea6a-4ec4-b914-f7cb2346b195"
   },
   "outputs": [],
   "source": [
    "X, y = fetch_openml(name=\"Fashion-MNIST\", return_X_y=True, as_frame=False)"
   ]
  },
  {
   "cell_type": "code",
   "execution_count": 5,
   "id": "3a188c83-6bf3-485d-9995-9f71d0868d30",
   "metadata": {
    "id": "3a188c83-6bf3-485d-9995-9f71d0868d30"
   },
   "outputs": [],
   "source": [
    "idx_to_stay = np.random.choice(np.arange(X.shape[0]), replace=False, size=1000)\n",
    "X = X[idx_to_stay]\n",
    "y = y[idx_to_stay]"
   ]
  },
  {
   "cell_type": "markdown",
   "id": "4a9e7f89-97f9-4257-94aa-989826258726",
   "metadata": {
    "id": "4a9e7f89-97f9-4257-94aa-989826258726"
   },
   "source": [
    "Давайте посмотрим на какое-нибудь изображение из наших данных:"
   ]
  },
  {
   "cell_type": "code",
   "execution_count": 6,
   "id": "277e132c-b89f-4dbb-8efd-cbcea015876d",
   "metadata": {
    "colab": {
     "base_uri": "https://localhost:8080/",
     "height": 248
    },
    "id": "277e132c-b89f-4dbb-8efd-cbcea015876d",
    "outputId": "f034889c-2093-4b1b-92c4-d1997757cb61"
   },
   "outputs": [
    {
     "data": {
      "image/png": "[encoded data removed]",
      "text/plain": [
       "<Figure size 640x480 with 1 Axes>"
      ]
     },
     "metadata": {},
     "output_type": "display_data"
    }
   ],
   "source": [
    "# возьмем случайную картинку и сделаем reshape\n",
    "# 28, 28, 1 = H, W, C (число каналов, в данном случае 1)\n",
    "image = X[np.random.choice(np.arange(X.shape[0]))].reshape(28, 28, 1)\n",
    "plt.imshow(image)\n",
    "plt.axis(\"off\");"
   ]
  },
  {
   "cell_type": "markdown",
   "id": "236e593f-595e-45f1-a794-4069a16637d7",
   "metadata": {
    "id": "236e593f-595e-45f1-a794-4069a16637d7"
   },
   "source": [
    "### 1.1. Посмотрим на все классы (0.5 баллов)"
   ]
  },
  {
   "cell_type": "markdown",
   "id": "8cdf3ab2-47a4-492f-bf9a-25c4b00eb945",
   "metadata": {
    "id": "8cdf3ab2-47a4-492f-bf9a-25c4b00eb945"
   },
   "source": [
    "Возьмите по одной картинке каждого класса и изобразите их (например, сделайте subplots 5 на 2)."
   ]
  },
  {
   "cell_type": "code",
   "execution_count": 7,
   "id": "362137fb-4577-4a21-8088-98cba79206f2",
   "metadata": {
    "id": "362137fb-4577-4a21-8088-98cba79206f2"
   },
   "outputs": [],
   "source": [
    "classes = np.unique(y)"
   ]
  },
  {
   "cell_type": "code",
   "execution_count": 8,
   "id": "818fdb15",
   "metadata": {
    "id": "818fdb15"
   },
   "outputs": [],
   "source": [
    "Y_series = pd.Series(y)\n",
    "\n",
    "indexes = []\n",
    "for i in range(10):\n",
    "    indexes.append(Y_series.loc[Y_series == str(i)].index[0])    "
   ]
  },
  {
   "cell_type": "code",
   "execution_count": 9,
   "id": "20555dfc",
   "metadata": {
    "colab": {
     "base_uri": "https://localhost:8080/",
     "height": 102
    },
    "id": "20555dfc",
    "outputId": "363504ea-20dd-4249-ea40-3f5c1fc4b6d7"
   },
   "outputs": [
    {
     "data": {
      "image/png": "[encoded data removed]",
      "text/plain": [
       "<Figure size 1500x500 with 10 Axes>"
      ]
     },
     "metadata": {},
     "output_type": "display_data"
    }
   ],
   "source": [
    "images = []\n",
    "for i in indexes:\n",
    "    images.append(X[i])\n",
    "\n",
    "fig, axs = plt.subplots(1, 10, figsize=(15, 5))\n",
    "\n",
    "for i in range(0, 10):\n",
    "    axs[i].imshow(images[i].reshape(28,28,1))\n",
    "    axs[i].axis('off')"
   ]
  },
  {
   "cell_type": "markdown",
   "id": "866ea214-4de8-41b8-a2aa-c86ac0a04b74",
   "metadata": {
    "id": "866ea214-4de8-41b8-a2aa-c86ac0a04b74"
   },
   "source": [
    "### 1.2. Сделайте небольшой EDA (1 балл)"
   ]
  },
  {
   "cell_type": "markdown",
   "id": "1fe3abdf-2c95-4ce8-8fd3-2445d815ea3c",
   "metadata": {
    "id": "1fe3abdf-2c95-4ce8-8fd3-2445d815ea3c"
   },
   "source": [
    "Посмотрите на баланс классов. В дальнейших домашках делайте EDA, когда считаете нужным, он нужен почти всегда, но оцениваться это уже не будет, если не будет указано иное. Делайте EDA, чтобы узнать что-то новое о данных!"
   ]
  },
  {
   "cell_type": "code",
   "execution_count": 14,
   "id": "74595ef7-06ab-4700-b9d9-42db3fdd36d5",
   "metadata": {
    "colab": {
     "base_uri": "https://localhost:8080/"
    },
    "id": "74595ef7-06ab-4700-b9d9-42db3fdd36d5",
    "outputId": "d0512f87-3a28-48b5-a16b-772be6a5b5bd"
   },
   "outputs": [
    {
     "data": {
      "text/plain": [
       "count     1000\n",
       "unique      10\n",
       "top          3\n",
       "freq       121\n",
       "dtype: object"
      ]
     },
     "execution_count": 14,
     "metadata": {},
     "output_type": "execute_result"
    }
   ],
   "source": [
    "pd.Series(y).describe()"
   ]
  },
  {
   "cell_type": "code",
   "execution_count": 15,
   "id": "8f35f04f",
   "metadata": {
    "colab": {
     "base_uri": "https://localhost:8080/",
     "height": 297
    },
    "id": "8f35f04f",
    "outputId": "362ee7b1-7b7c-476c-eab0-3c56d4707253"
   },
   "outputs": [
    {
     "data": {
      "image/png": "[encoded data removed]",
      "text/plain": [
       "<Figure size 432x288 with 1 Axes>"
      ]
     },
     "metadata": {},
     "output_type": "display_data"
    }
   ],
   "source": [
    "fig, axes = plt.subplots(figsize=(6, 4), tight_layout=True);\n",
    "sns.histplot(sorted(y));\n",
    "plt.xlabel('class');"
   ]
  },
  {
   "cell_type": "markdown",
   "id": "68e8f61e-32d5-4ad7-9f2c-f7e0de050d32",
   "metadata": {
    "id": "68e8f61e-32d5-4ad7-9f2c-f7e0de050d32"
   },
   "source": [
    "### 1.3. Разделите данные на train и test (0.5 баллов)"
   ]
  },
  {
   "cell_type": "markdown",
   "id": "25cf3d30-6bd6-4bbb-bba6-4e249da33475",
   "metadata": {
    "id": "25cf3d30-6bd6-4bbb-bba6-4e249da33475"
   },
   "source": [
    "Разделите данные на тренировочную и тестовую выборки, размеры тестовой выборки выберите сами. Здесь вам может помочь функция `train_test_split`"
   ]
  },
  {
   "cell_type": "code",
   "execution_count": 10,
   "id": "1932bd43-16d6-4201-8950-7dbe720a9fa1",
   "metadata": {
    "id": "1932bd43-16d6-4201-8950-7dbe720a9fa1"
   },
   "outputs": [],
   "source": [
    "X_train, X_test, y_train, y_test = train_test_split(X, y, test_size=0.2)"
   ]
  },
  {
   "cell_type": "markdown",
   "id": "7c8e4cd4-b3d7-49b7-9b10-be02991ecfa7",
   "metadata": {
    "id": "7c8e4cd4-b3d7-49b7-9b10-be02991ecfa7"
   },
   "source": [
    "### 1.4. KNN для бинарной классификации (6 баллов)"
   ]
  },
  {
   "cell_type": "markdown",
   "id": "aac2e121-639a-4b0c-8e9c-471ad5a8fac6",
   "metadata": {
    "id": "aac2e121-639a-4b0c-8e9c-471ad5a8fac6"
   },
   "source": [
    "Давайте возьмем для задачи бинарной классификации только объекты с метками классов 0 и 1."
   ]
  },
  {
   "cell_type": "code",
   "execution_count": 17,
   "id": "f40beae7-54a4-4323-b467-3173737dfd84",
   "metadata": {
    "id": "f40beae7-54a4-4323-b467-3173737dfd84"
   },
   "outputs": [],
   "source": [
    "binary_train_y = y_train[(y_train == '1') | (y_train == '0')]\n",
    "binary_train_X = X_train[:binary_train_y.shape[0]]\n",
    "\n",
    "binary_test_y = y_test[(y_test == '1') | (y_test == '0')]\n",
    "binary_test_X = X_test[:binary_test_y.shape[0]]"
   ]
  },
  {
   "cell_type": "markdown",
   "id": "7df7db35-8832-47ec-9955-d0656695e7cd",
   "metadata": {
    "id": "7df7db35-8832-47ec-9955-d0656695e7cd"
   },
   "source": [
    "И вот мы подготовили данные, но модели у нас пока что нет. В нескольких занятиях нашего курса вам придется самостоятельно реализовывать какие-то алгоритмы машинного обучения, а потом сравнивать их с готовыми библиотечными решениями. В остальных заданиях реализовывать алгоритмы будет не обязательно, но может быть полезно, поэтому часто это будут задания на дополнительные баллы, но главное не это, а понимание работы алгоритма после его реализации с нуля на простом numpy. Также это все потом можно оформить в виде репозитория ml_from_scratch и хвастаться перед друзьями."
   ]
  },
  {
   "cell_type": "code",
   "execution_count": 18,
   "id": "44d468e9-2a00-4268-bfdc-fbae3857ce90",
   "metadata": {
    "id": "44d468e9-2a00-4268-bfdc-fbae3857ce90"
   },
   "outputs": [],
   "source": [
    "knn_classifier = KNNClassifier(k=1)\n",
    "knn_classifier.fit(binary_train_X, binary_train_y)"
   ]
  },
  {
   "cell_type": "markdown",
   "id": "c5817a1d-161e-4242-bea5-821f416b3eec",
   "metadata": {
    "id": "c5817a1d-161e-4242-bea5-821f416b3eec"
   },
   "source": [
    "### Настало время писать код!"
   ]
  },
  {
   "cell_type": "markdown",
   "id": "61c760bb-63c9-426d-9f4e-8fab02536da5",
   "metadata": {
    "id": "61c760bb-63c9-426d-9f4e-8fab02536da5"
   },
   "source": [
    "В KNN нам нужно для каждого тестового примера найти расстояния до всех точек обучающей выборки. Допустим у нас 1000 примеров в train'е и 100 в test'е, тогда в итоге мы бы хотели получить матрицу попарных расстояний (например, размерностью 100 на 1000). Это можно сделать несколькими способами, и кому-то наверняка, в голову приходит идея с двумя вложенными циклами (надеюсь, что не больше:). Так можно делать, то можно и эффективнее. Вообще, в реальном KNN используется структура данных [k-d-tree](https://ru.wikipedia.org/wiki/K-d-%D0%B4%D0%B5%D1%80%D0%B5%D0%B2%D0%BE), которая позволяет производить поиск за log(N), а не за N, как будем делать мы (по сути это такое расширение бинарного поиска на многомерное пространство).\n",
    "\n",
    "Вам нужно будет последовательно реализовать методы `compute_distances_two_loops`, `compute_distances_one_loop` и `compute_distances_no_loops` класса `KNN` в файле `knn.py`.\n",
    "\n",
    "Эти функции строят массив расстояний между всеми векторами в тестовом наборе и в тренировочном наборе.  \n",
    "В результате они должны построить массив размера `(num_test, num_train)`, где координата `[i][j]` соотвествует расстоянию между i-м вектором в test (`test[i]`) и j-м вектором в train (`train[j]`).\n",
    "\n",
    "**Обратите внимание** Для простоты реализации мы будем использовать в качестве расстояния меру L1 (ее еще называют [Manhattan distance](https://ru.wikipedia.org/wiki/%D0%A0%D0%B0%D1%81%D1%81%D1%82%D0%BE%D1%8F%D0%BD%D0%B8%D0%B5_%D0%B3%D0%BE%D1%80%D0%BE%D0%B4%D1%81%D0%BA%D0%B8%D1%85_%D0%BA%D0%B2%D0%B0%D1%80%D1%82%D0%B0%D0%BB%D0%BE%D0%B2)).\n",
    "\n",
    "$d_{1}(\\mathbf {p} ,\\mathbf {q} )=\\|\\mathbf {p} -\\mathbf {q} \\|_{1}=\\sum _{i=1}^{n}|p_{i}-q_{i}|$"
   ]
  },
  {
   "cell_type": "markdown",
   "id": "c32db2d0-355c-4d74-961e-22d6f42aa11b",
   "metadata": {
    "id": "c32db2d0-355c-4d74-961e-22d6f42aa11b"
   },
   "source": [
    "В начале я буду иногда писать разные assert'ы, чтобы можно было проверить правильность реализации, в дальнейшем вам нужно будет их писать самим, если нужно будет проверять корректность каких-то вычислений."
   ]
  },
  {
   "cell_type": "code",
   "execution_count": 19,
   "id": "01b1ef27-4284-4d6c-978b-25f0fefd39be",
   "metadata": {
    "id": "01b1ef27-4284-4d6c-978b-25f0fefd39be"
   },
   "outputs": [],
   "source": [
    "dists = knn_classifier.compute_distances_two_loops(binary_test_X)\n",
    "assert np.isclose(dists[0, 100], np.sum(np.abs(binary_test_X[0] - binary_train_X[100])))"
   ]
  },
  {
   "cell_type": "code",
   "execution_count": 20,
   "id": "505e2c4b-1cfe-4e4a-8002-d9ce089d100e",
   "metadata": {
    "id": "505e2c4b-1cfe-4e4a-8002-d9ce089d100e"
   },
   "outputs": [],
   "source": [
    "dists = knn_classifier.compute_distances_one_loop(binary_test_X)\n",
    "assert np.isclose(dists[0, 100], np.sum(np.abs(binary_test_X[0] - binary_train_X[100])))"
   ]
  },
  {
   "cell_type": "code",
   "execution_count": 21,
   "id": "dd81b766-5de2-4f62-82cf-8b6bd52002db",
   "metadata": {
    "id": "dd81b766-5de2-4f62-82cf-8b6bd52002db"
   },
   "outputs": [],
   "source": [
    "dists = knn_classifier.compute_distances_no_loops(binary_test_X)\n",
    "assert np.isclose(dists[0, 100], np.sum(np.abs(binary_test_X[0] - binary_train_X[100])))"
   ]
  },
  {
   "cell_type": "markdown",
   "id": "64d108b7-b132-42b5-bdca-bc91af8ed3d7",
   "metadata": {
    "id": "64d108b7-b132-42b5-bdca-bc91af8ed3d7"
   },
   "source": [
    "Проверим скорость работы реализованных методов"
   ]
  },
  {
   "cell_type": "code",
   "execution_count": 22,
   "id": "8ed08354-d0ef-497a-9d9c-b17c92b7bef9",
   "metadata": {
    "colab": {
     "base_uri": "https://localhost:8080/"
    },
    "id": "8ed08354-d0ef-497a-9d9c-b17c92b7bef9",
    "outputId": "a9301e7c-9256-4228-e554-c9cdbb84d718"
   },
   "outputs": [
    {
     "name": "stdout",
     "output_type": "stream",
     "text": [
      "591 ms ± 28.6 ms per loop (mean ± std. dev. of 7 runs, 1 loop each)\n",
      "11 ms ± 2.7 ms per loop (mean ± std. dev. of 7 runs, 100 loops each)\n",
      "56 ms ± 17.1 ms per loop (mean ± std. dev. of 7 runs, 10 loops each)\n"
     ]
    }
   ],
   "source": [
    "%timeit knn_classifier.compute_distances_two_loops(binary_test_X)\n",
    "%timeit knn_classifier.compute_distances_one_loop(binary_test_X)\n",
    "%timeit knn_classifier.compute_distances_no_loops(binary_test_X)"
   ]
  },
  {
   "cell_type": "markdown",
   "id": "8180ecc3-8c24-4564-8963-1a0123b06043",
   "metadata": {
    "id": "8180ecc3-8c24-4564-8963-1a0123b06043"
   },
   "source": [
    "Реализуем метод для предсказания меток класса"
   ]
  },
  {
   "cell_type": "code",
   "execution_count": 23,
   "id": "9ca2679e-c731-467b-94b5-91a3a0641d7e",
   "metadata": {
    "colab": {
     "base_uri": "https://localhost:8080/"
    },
    "id": "9ca2679e-c731-467b-94b5-91a3a0641d7e",
    "outputId": "252cf94d-9239-47b7-984a-f94784753e77",
    "scrolled": true
   },
   "outputs": [
    {
     "data": {
      "text/plain": [
       "array([1, 0, 1, 0, 1, 1, 0, 0, 0, 0, 0, 0, 1, 1, 1, 0, 1, 1, 1, 1, 1, 0,\n",
       "       1, 0, 0, 1, 1, 0, 0, 1, 0, 0, 1, 0, 1, 0, 1, 1, 0, 0, 1, 0])"
      ]
     },
     "execution_count": 23,
     "metadata": {},
     "output_type": "execute_result"
    }
   ],
   "source": [
    "prediction = knn_classifier.predict(binary_test_X)\n",
    "prediction"
   ]
  },
  {
   "cell_type": "markdown",
   "id": "d746796d-6ca0-4828-be8a-8b9e22999f54",
   "metadata": {
    "id": "d746796d-6ca0-4828-be8a-8b9e22999f54"
   },
   "source": [
    "### Метрика"
   ]
  },
  {
   "cell_type": "markdown",
   "id": "c29f2abf-be34-4273-a7cd-d2c62ba1eecc",
   "metadata": {
    "id": "c29f2abf-be34-4273-a7cd-d2c62ba1eecc"
   },
   "source": [
    "Теперь нужно реализовать несколько метрик для бинарной классификации. Не забудьте подумать о численной нестабильности (деление на 0)."
   ]
  },
  {
   "cell_type": "code",
   "execution_count": 24,
   "id": "7842978b-a328-4035-b9c4-eb3711cb58c4",
   "metadata": {
    "colab": {
     "base_uri": "https://localhost:8080/"
    },
    "id": "7842978b-a328-4035-b9c4-eb3711cb58c4",
    "outputId": "ba94f228-38f8-4e5d-c223-5c947e6fcb3d"
   },
   "outputs": [
    {
     "name": "stdout",
     "output_type": "stream",
     "text": [
      "Accuracy = 0.6428571428571429\n",
      "precision = 0.7142857142857143\n",
      "recall = 0.625\n",
      "f1 = 0.6666666666666666\n"
     ]
    }
   ],
   "source": [
    "binary_classification_metrics(prediction, binary_test_y.astype('int64'))"
   ]
  },
  {
   "cell_type": "markdown",
   "id": "71dbca1f-9ad4-4059-9b1c-0c0c85d7d816",
   "metadata": {
    "id": "71dbca1f-9ad4-4059-9b1c-0c0c85d7d816"
   },
   "source": [
    "Все ли хорошо с моделью? Можно проверить свою реализацию с функциями из библиотеки `sklearn`:"
   ]
  },
  {
   "cell_type": "markdown",
   "id": "5982d081-ddf9-4522-99b0-459a5cee087c",
   "metadata": {
    "id": "5982d081-ddf9-4522-99b0-459a5cee087c"
   },
   "source": [
    "<img src=\"https://i.imgflip.com/406fu9.jpg\" width=\"800\" height=\"400\">"
   ]
  },
  {
   "cell_type": "code",
   "execution_count": 25,
   "id": "5caeb94f-6464-4adf-b3b6-8e12bf4a50b4",
   "metadata": {
    "id": "5caeb94f-6464-4adf-b3b6-8e12bf4a50b4"
   },
   "outputs": [],
   "source": [
    "from sklearn.metrics import precision_score, recall_score, f1_score, accuracy_score"
   ]
  },
  {
   "cell_type": "code",
   "execution_count": 26,
   "id": "d4214cca",
   "metadata": {
    "colab": {
     "base_uri": "https://localhost:8080/"
    },
    "id": "d4214cca",
    "outputId": "aeee9b8f-7c3f-48d4-edfd-2e398db9c0cc"
   },
   "outputs": [
    {
     "data": {
      "text/plain": [
       "0.6428571428571429"
      ]
     },
     "execution_count": 26,
     "metadata": {},
     "output_type": "execute_result"
    }
   ],
   "source": [
    "accuracy_score(binary_test_y.astype('int64'), prediction)"
   ]
  },
  {
   "cell_type": "code",
   "execution_count": 27,
   "id": "8afc04b5",
   "metadata": {
    "colab": {
     "base_uri": "https://localhost:8080/"
    },
    "id": "8afc04b5",
    "outputId": "32dc1bb7-a9d3-40f1-a00b-7571c5bb2d82"
   },
   "outputs": [
    {
     "data": {
      "text/plain": [
       "0.7142857142857143"
      ]
     },
     "execution_count": 27,
     "metadata": {},
     "output_type": "execute_result"
    }
   ],
   "source": [
    "precision_score(binary_test_y.astype('int64'), prediction)"
   ]
  },
  {
   "cell_type": "code",
   "execution_count": 28,
   "id": "83afd2fe",
   "metadata": {
    "colab": {
     "base_uri": "https://localhost:8080/"
    },
    "id": "83afd2fe",
    "outputId": "5a5737b7-8ded-455b-c6e8-a4eea27b5367"
   },
   "outputs": [
    {
     "data": {
      "text/plain": [
       "0.625"
      ]
     },
     "execution_count": 28,
     "metadata": {},
     "output_type": "execute_result"
    }
   ],
   "source": [
    "recall_score(binary_test_y.astype('int64'), prediction)"
   ]
  },
  {
   "cell_type": "code",
   "execution_count": 30,
   "id": "344db9cd",
   "metadata": {
    "colab": {
     "base_uri": "https://localhost:8080/"
    },
    "id": "344db9cd",
    "outputId": "c0787dd3-e300-484f-a42d-28154caa5da5"
   },
   "outputs": [
    {
     "data": {
      "text/plain": [
       "0.6666666666666666"
      ]
     },
     "execution_count": 30,
     "metadata": {},
     "output_type": "execute_result"
    }
   ],
   "source": [
    "f1_score(binary_test_y.astype('int64'), prediction)"
   ]
  },
  {
   "cell_type": "markdown",
   "id": "2d9c55f6",
   "metadata": {
    "id": "2d9c55f6"
   },
   "source": [
    "СОВПАДАЕТ!"
   ]
  },
  {
   "cell_type": "markdown",
   "id": "6e9b0e1a-3c67-4cc3-bf75-6848f43e8256",
   "metadata": {
    "id": "6e9b0e1a-3c67-4cc3-bf75-6848f43e8256"
   },
   "source": [
    "### Подбор оптимального k"
   ]
  },
  {
   "cell_type": "markdown",
   "id": "4069069e-f200-4673-a99c-745e7a5b6b36",
   "metadata": {
    "id": "4069069e-f200-4673-a99c-745e7a5b6b36"
   },
   "source": [
    "Чтобы подрбрать оптимальное значение параметра k можно сделать следующее: задать область допустимых значений k, например, `[1, 3, 5, 10]`. Дальше для каждого k обучить модель на тренировочных данных, сделать предсказания на тестовых и посчитать какую-нибудь метрику (метрику выберите сами исходя из задачи, но постарайтесь обосновать выбор). В конце нужно посмотреть на зависимость метрики на train'е и test'е от k и выбрать подходящее значение.\n",
    "\n",
    "Реализуйте функцию `choose_best_k` прямо в ноутбуке."
   ]
  },
  {
   "cell_type": "code",
   "execution_count": 49,
   "id": "374d6fcf-21f2-433c-b011-76019201ce52",
   "metadata": {
    "id": "374d6fcf-21f2-433c-b011-76019201ce52"
   },
   "outputs": [],
   "source": [
    "def find_best_k(X_train, y_train, X_test, y_test, params, metric):\n",
    "    \"\"\"\n",
    "    Choose the best k for KKNClassifier\n",
    "    Arguments:\n",
    "    X_train, np array (num_train_samples, num_features) - train data\n",
    "    y_train, np array (num_train_samples) - train labels\n",
    "    X_test, np array (num_test_samples, num_features) - test data\n",
    "    y_test, np array (num_test_samples) - test labels\n",
    "    params, list of hyperparameters for KNN, here it is list of k values\n",
    "    metric, function for metric calculation\n",
    "    Returns:\n",
    "    train_metrics the list of metric values on train data set for each k in params\n",
    "    test_metrics the list of metric values on test data set for each k in params\n",
    "    \"\"\"\n",
    "    train_metrics, test_metrics = [], []\n",
    "    \n",
    "    for k in params:\n",
    "        knn_classifier = KNNClassifier(k=k)\n",
    "        knn_classifier.fit(X_train, y_train)\n",
    "        \n",
    "        y_pred_train = knn_classifier.predict(X_train)\n",
    "        y_pred_test = knn_classifier.predict(X_test)\n",
    "        \n",
    "        train_metrics.append(metric(y_train.astype('int64'), y_pred_train.astype('int64')))\n",
    "        test_metrics.append(metric(y_test.astype('int64'), y_pred_test.astype('int64')))\n",
    "    \n",
    "    return train_metrics, test_metrics\n",
    "        "
   ]
  },
  {
   "cell_type": "markdown",
   "id": "554543e1",
   "metadata": {
    "id": "554543e1"
   },
   "source": [
    "**Я выбрал метрику accuracy, потому что здесь нет \"позитивных и отрицательных\" исходов, здесь 2 равнозначных класса**  \n",
    "То есть True Negative и True Positive имеют одинаковый вклад"
   ]
  },
  {
   "cell_type": "code",
   "execution_count": 50,
   "id": "a2418dd8-93f1-4a11-8488-a8bce98e7d5f",
   "metadata": {
    "id": "a2418dd8-93f1-4a11-8488-a8bce98e7d5f",
    "tags": []
   },
   "outputs": [],
   "source": [
    "params = [1, 2, 4, 5, 8, 10, 15, 20, 25, 30, 50]\n",
    "train_metrics, test_metrics = find_best_k(binary_train_X, binary_train_y, binary_test_X, binary_test_y, params, accuracy_score)"
   ]
  },
  {
   "cell_type": "code",
   "execution_count": 51,
   "id": "7053ce06-854c-412b-8559-833595b1d6c0",
   "metadata": {
    "colab": {
     "base_uri": "https://localhost:8080/",
     "height": 279
    },
    "id": "7053ce06-854c-412b-8559-833595b1d6c0",
    "outputId": "867e8d1a-a215-4200-812d-c21cdaa42d20"
   },
   "outputs": [
    {
     "data": {
      "image/png": "[encoded data removed]",
      "text/plain": [
       "<Figure size 432x288 with 1 Axes>"
      ]
     },
     "metadata": {},
     "output_type": "display_data"
    }
   ],
   "source": [
    "plt.plot(params, train_metrics, label=\"train\")\n",
    "plt.plot(params, test_metrics, label=\"test\")\n",
    "plt.legend()\n",
    "plt.xlabel(\"K in KNN\")\n",
    "plt.ylabel(\"ACCURACY\");"
   ]
  },
  {
   "cell_type": "markdown",
   "id": "M0UABL7HAfLB",
   "metadata": {
    "id": "M0UABL7HAfLB"
   },
   "source": [
    "**k = 5 - вполне нормально**"
   ]
  },
  {
   "cell_type": "markdown",
   "id": "73fdecd7-a4b6-4ca9-8688-d1ae2195647f",
   "metadata": {
    "id": "73fdecd7-a4b6-4ca9-8688-d1ae2195647f"
   },
   "source": [
    "На самом деле, это не самый лучший способ подбирать гиперпараметры, но способы получше мы рассмотрим в следующий раз, а пока что выберите оптимальное значение k, сделайте предсказания и посмотрите, насколько хорошо ваша модель предсказывает каждый из классов."
   ]
  },
  {
   "cell_type": "markdown",
   "id": "0bc98c29-3217-407c-a466-58072bb7b8cc",
   "metadata": {
    "id": "0bc98c29-3217-407c-a466-58072bb7b8cc"
   },
   "source": [
    "### 1.5. Многоклассоввая классификация (2 балла)"
   ]
  },
  {
   "cell_type": "markdown",
   "id": "aa0fa9bf-3002-4b0e-8e52-1d9e70795092",
   "metadata": {
    "id": "aa0fa9bf-3002-4b0e-8e52-1d9e70795092"
   },
   "source": [
    "Теперь нужно научиться предсказывать все 10 классов. Для этого в начале напишем соответствующий метод у нашего классификатора."
   ]
  },
  {
   "cell_type": "code",
   "execution_count": 52,
   "id": "f5a849d7",
   "metadata": {
    "id": "f5a849d7"
   },
   "outputs": [],
   "source": [
    "knn_classifier = KNNClassifier(k=2)\n",
    "knn_classifier.fit(X_train, y_train)"
   ]
  },
  {
   "cell_type": "code",
   "execution_count": 53,
   "id": "88b37ef1-fa15-4cc5-8558-0254890c899d",
   "metadata": {
    "colab": {
     "base_uri": "https://localhost:8080/"
    },
    "id": "88b37ef1-fa15-4cc5-8558-0254890c899d",
    "outputId": "98b6a174-5603-4232-f09e-6442fe8a4495"
   },
   "outputs": [
    {
     "data": {
      "text/plain": [
       "array(['8', '1', '3', '6', '9', '5', '5', '7', '0', '0', '0', '6', '0',\n",
       "       '8', '2', '3', '9', '1', '1', '2', '8', '4', '2', '5', '6', '0',\n",
       "       '2', '1', '2', '7', '0', '7', '4', '0', '4', '8', '4', '9', '7',\n",
       "       '3', '0', '5', '1', '0', '8', '2', '0', '3', '0', '7', '7', '1',\n",
       "       '9', '7', '1', '4', '3', '8', '4', '1', '2', '9', '1', '0', '1',\n",
       "       '8', '9', '5', '5', '6', '6', '1', '2', '4', '7', '3', '3', '9',\n",
       "       '8', '1', '2', '2', '8', '3', '8', '9', '2', '3', '0', '2', '5',\n",
       "       '8', '8', '0', '7', '3', '6', '8', '1', '1', '0', '3', '8', '2',\n",
       "       '7', '0', '9', '5', '1', '3', '3', '9', '4', '4', '2', '3', '4',\n",
       "       '4', '0', '7', '2', '5', '4', '3', '6', '0', '1', '2', '8', '0',\n",
       "       '4', '5', '1', '8', '4', '2', '2', '1', '7', '3', '2', '8', '0',\n",
       "       '2', '9', '2', '4', '1', '4', '3', '0', '8', '0', '5', '9', '9',\n",
       "       '0', '8', '3', '4', '3', '0', '7', '7', '7', '7', '3', '2', '1',\n",
       "       '3', '4', '9', '1', '9', '9', '1', '0', '1', '2', '4', '0', '0',\n",
       "       '7', '7', '3', '2', '3', '1', '3', '2', '8', '5', '5', '5', '9',\n",
       "       '3', '3', '3', '6', '1'], dtype=object)"
      ]
     },
     "execution_count": 53,
     "metadata": {},
     "output_type": "execute_result"
    }
   ],
   "source": [
    "predictions = knn_classifier.predict(X_test)\n",
    "predictions"
   ]
  },
  {
   "cell_type": "markdown",
   "id": "fa8ed7ad-e347-4f78-b34f-88febee9e94b",
   "metadata": {
    "id": "fa8ed7ad-e347-4f78-b34f-88febee9e94b"
   },
   "source": [
    "Осталось реализовать метрику качества для многоклассовой классификации, для этого реализуйте функцию `multiclass_accuracy` в `metrics.py`."
   ]
  },
  {
   "cell_type": "code",
   "execution_count": 43,
   "id": "65887922-a799-4042-902e-f63f69508beb",
   "metadata": {
    "colab": {
     "base_uri": "https://localhost:8080/"
    },
    "id": "65887922-a799-4042-902e-f63f69508beb",
    "outputId": "5eefef1b-b2ba-41b3-fd66-9cf6c54fa570"
   },
   "outputs": [
    {
     "data": {
      "text/plain": [
       "0.74"
      ]
     },
     "execution_count": 43,
     "metadata": {},
     "output_type": "execute_result"
    }
   ],
   "source": [
    "multiclass_accuracy(predictions, y_test)"
   ]
  },
  {
   "cell_type": "markdown",
   "id": "a6fe44f6-e056-4f17-beb6-0ce65fab268f",
   "metadata": {
    "id": "a6fe44f6-e056-4f17-beb6-0ce65fab268f"
   },
   "source": [
    "Снова выберите оптимальное значение K как мы делали для бинарной классификации."
   ]
  },
  {
   "cell_type": "code",
   "execution_count": 54,
   "id": "20e7ac94",
   "metadata": {
    "id": "20e7ac94"
   },
   "outputs": [],
   "source": [
    "params = [1, 2, 4, 5, 8, 10, 20, 30]\n",
    "train_metrics, test_metrics = find_best_k(X_train, y_train, X_test, y_test, params, accuracy_score)"
   ]
  },
  {
   "cell_type": "code",
   "execution_count": 55,
   "id": "7f96cd2e",
   "metadata": {
    "colab": {
     "base_uri": "https://localhost:8080/",
     "height": 279
    },
    "id": "7f96cd2e",
    "outputId": "8094037f-7c33-4530-9dea-b1ff4b8a4503"
   },
   "outputs": [
    {
     "data": {
      "image/png": "[encoded data removed]",
      "text/plain": [
       "<Figure size 432x288 with 1 Axes>"
      ]
     },
     "metadata": {},
     "output_type": "display_data"
    }
   ],
   "source": [
    "plt.plot(params, train_metrics, label=\"train\")\n",
    "plt.plot(params, test_metrics, label=\"test\")\n",
    "plt.legend()\n",
    "plt.xlabel(\"K in KNN\")\n",
    "plt.ylabel(\"ACCURACY\");"
   ]
  },
  {
   "cell_type": "markdown",
   "id": "UXPuS0WCAPmD",
   "metadata": {
    "id": "UXPuS0WCAPmD"
   },
   "source": [
    "**k= 5 - вполне нормально**"
   ]
  },
  {
   "cell_type": "markdown",
   "id": "daa8ee4a-88c1-4967-84f1-6f7ec223db7e",
   "metadata": {
    "id": "daa8ee4a-88c1-4967-84f1-6f7ec223db7e"
   },
   "source": [
    "## Задание 2. KNN на датасете diabetes (10 баллов)"
   ]
  },
  {
   "cell_type": "markdown",
   "id": "d3dac1f9-42ef-406f-988c-2d663b8b2806",
   "metadata": {
    "id": "d3dac1f9-42ef-406f-988c-2d663b8b2806"
   },
   "source": [
    "Теперь попробуем применить KNN к задаче регрессии. Будем работать с [данными](https://scikit-learn.org/stable/datasets/toy_dataset.html#diabetes-dataset) о диабете. В этом задании будем использовать класс `KNeighborsRegressor` из библиотеки `sklearn`. Загрузим необходимые библиотеки:"
   ]
  },
  {
   "cell_type": "code",
   "execution_count": 56,
   "id": "8ab4c84e-6036-4fe2-b81f-8115bf0a4774",
   "metadata": {
    "id": "8ab4c84e-6036-4fe2-b81f-8115bf0a4774"
   },
   "outputs": [],
   "source": [
    "from sklearn.datasets import load_diabetes\n",
    "from sklearn.metrics import r2_score, mean_absolute_error, mean_squared_error\n",
    "from sklearn.preprocessing import StandardScaler\n",
    "from sklearn.neighbors import KNeighborsRegressor\n",
    "\n",
    "from metrics import r_squared, mse, mae"
   ]
  },
  {
   "cell_type": "code",
   "execution_count": 57,
   "id": "4136b3bb-e482-4102-ad5f-af5b3b1a030a",
   "metadata": {
    "id": "4136b3bb-e482-4102-ad5f-af5b3b1a030a"
   },
   "outputs": [],
   "source": [
    "X, y = load_diabetes(as_frame=True, return_X_y=True)"
   ]
  },
  {
   "cell_type": "code",
   "execution_count": 58,
   "id": "c490d216",
   "metadata": {
    "colab": {
     "base_uri": "https://localhost:8080/",
     "height": 206
    },
    "id": "c490d216",
    "outputId": "5df4b27d-6306-4f29-cf1b-4e3e80384bf5"
   },
   "outputs": [
    {
     "data": {
      "text/html": [
       "\n",
       "  <div id=\"df-4cd2daa4-8a91-4561-923d-88b545571d6f\">\n",
       "    <div class=\"colab-df-container\">\n",
       "      <div>\n",
       "<style scoped>\n",
       "    .dataframe tbody tr th:only-of-type {\n",
       "        vertical-align: middle;\n",
       "    }\n",
       "\n",
       "    .dataframe tbody tr th {\n",
       "        vertical-align: top;\n",
       "    }\n",
       "\n",
       "    .dataframe thead th {\n",
       "        text-align: right;\n",
       "    }\n",
       "</style>\n",
       "<table border=\"1\" class=\"dataframe\">\n",
       "  <thead>\n",
       "    <tr style=\"text-align: right;\">\n",
       "      <th></th>\n",
       "      <th>age</th>\n",
       "      <th>sex</th>\n",
       "      <th>bmi</th>\n",
       "      <th>bp</th>\n",
       "      <th>tc</th>\n",
       "      <th>ldl</th>\n",
       "      <th>hdl</th>\n",
       "      <th>tch</th>\n",
       "      <th>ltg</th>\n",
       "      <th>glu</th>\n",
       "    </tr>\n",
       "  </thead>\n",
       "  <tbody>\n",
       "    <tr>\n",
       "      <th>0</th>\n",
       "      <td>0.038076</td>\n",
       "      <td>0.050680</td>\n",
       "      <td>0.061696</td>\n",
       "      <td>0.021872</td>\n",
       "      <td>-0.044223</td>\n",
       "      <td>-0.034821</td>\n",
       "      <td>-0.043401</td>\n",
       "      <td>-0.002592</td>\n",
       "      <td>0.019908</td>\n",
       "      <td>-0.017646</td>\n",
       "    </tr>\n",
       "    <tr>\n",
       "      <th>1</th>\n",
       "      <td>-0.001882</td>\n",
       "      <td>-0.044642</td>\n",
       "      <td>-0.051474</td>\n",
       "      <td>-0.026328</td>\n",
       "      <td>-0.008449</td>\n",
       "      <td>-0.019163</td>\n",
       "      <td>0.074412</td>\n",
       "      <td>-0.039493</td>\n",
       "      <td>-0.068330</td>\n",
       "      <td>-0.092204</td>\n",
       "    </tr>\n",
       "    <tr>\n",
       "      <th>2</th>\n",
       "      <td>0.085299</td>\n",
       "      <td>0.050680</td>\n",
       "      <td>0.044451</td>\n",
       "      <td>-0.005671</td>\n",
       "      <td>-0.045599</td>\n",
       "      <td>-0.034194</td>\n",
       "      <td>-0.032356</td>\n",
       "      <td>-0.002592</td>\n",
       "      <td>0.002864</td>\n",
       "      <td>-0.025930</td>\n",
       "    </tr>\n",
       "    <tr>\n",
       "      <th>3</th>\n",
       "      <td>-0.089063</td>\n",
       "      <td>-0.044642</td>\n",
       "      <td>-0.011595</td>\n",
       "      <td>-0.036656</td>\n",
       "      <td>0.012191</td>\n",
       "      <td>0.024991</td>\n",
       "      <td>-0.036038</td>\n",
       "      <td>0.034309</td>\n",
       "      <td>0.022692</td>\n",
       "      <td>-0.009362</td>\n",
       "    </tr>\n",
       "    <tr>\n",
       "      <th>4</th>\n",
       "      <td>0.005383</td>\n",
       "      <td>-0.044642</td>\n",
       "      <td>-0.036385</td>\n",
       "      <td>0.021872</td>\n",
       "      <td>0.003935</td>\n",
       "      <td>0.015596</td>\n",
       "      <td>0.008142</td>\n",
       "      <td>-0.002592</td>\n",
       "      <td>-0.031991</td>\n",
       "      <td>-0.046641</td>\n",
       "    </tr>\n",
       "  </tbody>\n",
       "</table>\n",
       "</div>\n",
       "      <button class=\"colab-df-convert\" onclick=\"convertToInteractive('df-4cd2daa4-8a91-4561-923d-88b545571d6f')\"\n",
       "              title=\"Convert this dataframe to an interactive table.\"\n",
       "              style=\"display:none;\">\n",
       "        \n",
       "  <svg xmlns=\"http://www.w3.org/2000/svg\" height=\"24px\"viewBox=\"0 0 24 24\"\n",
       "       width=\"24px\">\n",
       "    <path d=\"M0 0h24v24H0V0z\" fill=\"none\"/>\n",
       "    <path d=\"M18.56 5.44l.94 2.06.94-2.06 2.06-.94-2.06-.94-.94-2.06-.94 2.06-2.06.94zm-11 1L8.5 8.5l.94-2.06 2.06-.94-2.06-.94L8.5 2.5l-.94 2.06-2.06.94zm10 10l.94 2.06.94-2.06 2.06-.94-2.06-.94-.94-2.06-.94 2.06-2.06.94z\"/><path d=\"M17.41 7.96l-1.37-1.37c-.4-.4-.92-.59-1.43-.59-.52 0-1.04.2-1.43.59L10.3 9.45l-7.72 7.72c-.78.78-.78 2.05 0 2.83L4 21.41c.39.39.9.59 1.41.59.51 0 1.02-.2 1.41-.59l7.78-7.78 2.81-2.81c.8-.78.8-2.07 0-2.86zM5.41 20L4 18.59l7.72-7.72 1.47 1.35L5.41 20z\"/>\n",
       "  </svg>\n",
       "      </button>\n",
       "      \n",
       "  <style>\n",
       "    .colab-df-container {\n",
       "      display:flex;\n",
       "      flex-wrap:wrap;\n",
       "      gap: 12px;\n",
       "    }\n",
       "\n",
       "    .colab-df-convert {\n",
       "      background-color: #E8F0FE;\n",
       "      border: none;\n",
       "      border-radius: 50%;\n",
       "      cursor: pointer;\n",
       "      display: none;\n",
       "      fill: #1967D2;\n",
       "      height: 32px;\n",
       "      padding: 0 0 0 0;\n",
       "      width: 32px;\n",
       "    }\n",
       "\n",
       "    .colab-df-convert:hover {\n",
       "      background-color: #E2EBFA;\n",
       "      box-shadow: 0px 1px 2px rgba(60, 64, 67, 0.3), 0px 1px 3px 1px rgba(60, 64, 67, 0.15);\n",
       "      fill: #174EA6;\n",
       "    }\n",
       "\n",
       "    [theme=dark] .colab-df-convert {\n",
       "      background-color: #3B4455;\n",
       "      fill: #D2E3FC;\n",
       "    }\n",
       "\n",
       "    [theme=dark] .colab-df-convert:hover {\n",
       "      background-color: #434B5C;\n",
       "      box-shadow: 0px 1px 3px 1px rgba(0, 0, 0, 0.15);\n",
       "      filter: drop-shadow(0px 1px 2px rgba(0, 0, 0, 0.3));\n",
       "      fill: #FFFFFF;\n",
       "    }\n",
       "  </style>\n",
       "\n",
       "      <script>\n",
       "        const buttonEl =\n",
       "          document.querySelector('#df-4cd2daa4-8a91-4561-923d-88b545571d6f button.colab-df-convert');\n",
       "        buttonEl.style.display =\n",
       "          google.colab.kernel.accessAllowed ? 'block' : 'none';\n",
       "\n",
       "        async function convertToInteractive(key) {\n",
       "          const element = document.querySelector('#df-4cd2daa4-8a91-4561-923d-88b545571d6f');\n",
       "          const dataTable =\n",
       "            await google.colab.kernel.invokeFunction('convertToInteractive',\n",
       "                                                     [key], {});\n",
       "          if (!dataTable) return;\n",
       "\n",
       "          const docLinkHtml = 'Like what you see? Visit the ' +\n",
       "            '<a target=\"_blank\" href=https://colab.research.google.com/notebooks/data_table.ipynb>data table notebook</a>'\n",
       "            + ' to learn more about interactive tables.';\n",
       "          element.innerHTML = '';\n",
       "          dataTable['output_type'] = 'display_data';\n",
       "          await google.colab.output.renderOutput(dataTable, element);\n",
       "          const docLink = document.createElement('div');\n",
       "          docLink.innerHTML = docLinkHtml;\n",
       "          element.appendChild(docLink);\n",
       "        }\n",
       "      </script>\n",
       "    </div>\n",
       "  </div>\n",
       "  "
      ],
      "text/plain": [
       "        age       sex       bmi        bp        tc       ldl       hdl  \\\n",
       "0  0.038076  0.050680  0.061696  0.021872 -0.044223 -0.034821 -0.043401   \n",
       "1 -0.001882 -0.044642 -0.051474 -0.026328 -0.008449 -0.019163  0.074412   \n",
       "2  0.085299  0.050680  0.044451 -0.005671 -0.045599 -0.034194 -0.032356   \n",
       "3 -0.089063 -0.044642 -0.011595 -0.036656  0.012191  0.024991 -0.036038   \n",
       "4  0.005383 -0.044642 -0.036385  0.021872  0.003935  0.015596  0.008142   \n",
       "\n",
       "        tch       ltg       glu  \n",
       "0 -0.002592  0.019908 -0.017646  \n",
       "1 -0.039493 -0.068330 -0.092204  \n",
       "2 -0.002592  0.002864 -0.025930  \n",
       "3  0.034309  0.022692 -0.009362  \n",
       "4 -0.002592 -0.031991 -0.046641  "
      ]
     },
     "execution_count": 58,
     "metadata": {},
     "output_type": "execute_result"
    }
   ],
   "source": [
    "new_colnames = dict(zip(X.columns[4:],[\"tc\", \"ldl\", \"hdl\",\"tch\", \"ltg\", \"glu\"]))\n",
    "X = X.rename(columns=new_colnames)\n",
    "X.head()"
   ]
  },
  {
   "cell_type": "markdown",
   "id": "9ce6cd71-dd17-40af-b7cc-c48e61d31719",
   "metadata": {
    "id": "9ce6cd71-dd17-40af-b7cc-c48e61d31719"
   },
   "source": [
    "### 2.1. EDA (2 обязательных балла + 2 доп. балла за Pipeline)"
   ]
  },
  {
   "cell_type": "markdown",
   "id": "4397b3ad-63f9-4b25-ab7e-d572216e21c5",
   "metadata": {
    "id": "4397b3ad-63f9-4b25-ab7e-d572216e21c5"
   },
   "source": [
    "Сделайте EDA, предобработайте данные так, как считаете нужным, нужна ли в данном случае стандартизация и почему? Не забудте, что если вы стандартизуете данные, то нужно считать среднее и сдандартное отклонение на тренировочной части и с помощью них трансформировать и train, и test (**если не поняли это предложение, то обязательно разберитесь**).\n",
    "\n",
    "**Дополнительно**:\n",
    "Попробуйте разобраться с [`Pipeline`](https://scikit-learn.org/stable/modules/generated/sklearn.pipeline.Pipeline.html), чтобы можно было создать класс, который сразу проводит стандартизацию и обучает модель (или делает предсказание). Пайплайны очень удобны, когда нужно применять различные методы предобработки данных (в том числе и к разным столбцам), а также они позволяют правильно интегрировать предобработку данных в различные классы для поиска наилучших гиперпараметров модели (например, `GridSearchCV`)."
   ]
  },
  {
   "cell_type": "code",
   "execution_count": 59,
   "id": "a4aa413d-d830-4355-a063-9c5d6d5a6c9a",
   "metadata": {
    "id": "a4aa413d-d830-4355-a063-9c5d6d5a6c9a"
   },
   "outputs": [],
   "source": [
    "from sklearn.pipeline import Pipeline"
   ]
  },
  {
   "cell_type": "code",
   "execution_count": 60,
   "id": "d9d44fdf",
   "metadata": {
    "colab": {
     "base_uri": "https://localhost:8080/"
    },
    "id": "d9d44fdf",
    "outputId": "72f4544b-9f7a-4c6a-f935-0fe7691f3f08"
   },
   "outputs": [
    {
     "name": "stdout",
     "output_type": "stream",
     "text": [
      "<class 'pandas.core.frame.DataFrame'>\n",
      "RangeIndex: 442 entries, 0 to 441\n",
      "Data columns (total 10 columns):\n",
      " #   Column  Non-Null Count  Dtype  \n",
      "---  ------  --------------  -----  \n",
      " 0   age     442 non-null    float64\n",
      " 1   sex     442 non-null    float64\n",
      " 2   bmi     442 non-null    float64\n",
      " 3   bp      442 non-null    float64\n",
      " 4   tc      442 non-null    float64\n",
      " 5   ldl     442 non-null    float64\n",
      " 6   hdl     442 non-null    float64\n",
      " 7   tch     442 non-null    float64\n",
      " 8   ltg     442 non-null    float64\n",
      " 9   glu     442 non-null    float64\n",
      "dtypes: float64(10)\n",
      "memory usage: 34.7 KB\n"
     ]
    }
   ],
   "source": [
    "X.info()"
   ]
  },
  {
   "cell_type": "markdown",
   "id": "e8c49512",
   "metadata": {
    "id": "e8c49512"
   },
   "source": [
    "### Мультиколинеарность"
   ]
  },
  {
   "cell_type": "code",
   "execution_count": 61,
   "id": "20da5d49",
   "metadata": {
    "colab": {
     "base_uri": "https://localhost:8080/",
     "height": 378
    },
    "id": "20da5d49",
    "outputId": "b3c6cc35-28b0-4f17-ccb1-60d7f721819f"
   },
   "outputs": [
    {
     "data": {
      "image/png": "[encoded data removed]",
      "text/plain": [
       "<Figure size 576x432 with 2 Axes>"
      ]
     },
     "metadata": {},
     "output_type": "display_data"
    }
   ],
   "source": [
    "plt.rcParams['figure.figsize'] = (8,6)\n",
    "sns.heatmap(X.corr(), annot=True, fmt='.2f');"
   ]
  },
  {
   "cell_type": "markdown",
   "id": "4b1f80ba",
   "metadata": {
    "id": "4b1f80ba"
   },
   "source": [
    "**tc, hdl, ldl, tch сильно коррелированы друг с другом, так как обозначают схожые параметры**"
   ]
  },
  {
   "cell_type": "markdown",
   "id": "e2a74257",
   "metadata": {
    "id": "e2a74257"
   },
   "source": [
    "### Распределение целевой переменной"
   ]
  },
  {
   "cell_type": "code",
   "execution_count": 62,
   "id": "143210c5",
   "metadata": {
    "colab": {
     "base_uri": "https://localhost:8080/",
     "height": 388
    },
    "id": "143210c5",
    "outputId": "ff52550c-4ba0-4696-b84a-a8c41c5f9982",
    "scrolled": false
   },
   "outputs": [
    {
     "data": {
      "image/png": "[encoded data removed]",
      "text/plain": [
       "<Figure size 576x432 with 1 Axes>"
      ]
     },
     "metadata": {},
     "output_type": "display_data"
    }
   ],
   "source": [
    "sns.histplot(y);"
   ]
  },
  {
   "cell_type": "markdown",
   "id": "8af30c26",
   "metadata": {
    "id": "8af30c26"
   },
   "source": [
    "В описании данных написано:  \n",
    "**Note: Each of these 10 feature variables have been mean centered and scaled by the standard deviation times the square root of n_samples (i.e. the sum of squares of each column totals 1).**  \n",
    "Поэтому стандартизация уже не нужна\n",
    "\n",
    "НО! Я все равно сделаю, чтобы потренироваться в пайплайнах))\n",
    "\n",
    "### Пусть k=5"
   ]
  },
  {
   "cell_type": "code",
   "execution_count": 63,
   "id": "1406b830",
   "metadata": {
    "id": "1406b830"
   },
   "outputs": [],
   "source": [
    "knn_pipeline = Pipeline(steps=[\n",
    "    (\"scaler\", StandardScaler()),\n",
    "    (\"knn\", KNeighborsRegressor(n_neighbors=5))\n",
    "])"
   ]
  },
  {
   "cell_type": "markdown",
   "id": "8e1fa5ec-18db-4e7b-88f1-6d010f449488",
   "metadata": {
    "id": "8e1fa5ec-18db-4e7b-88f1-6d010f449488"
   },
   "source": [
    "### 2.2. Регрессионная модель (1 балл)"
   ]
  },
  {
   "cell_type": "markdown",
   "id": "3d79f583-5feb-4eeb-b748-9b4cdea9150d",
   "metadata": {
    "id": "3d79f583-5feb-4eeb-b748-9b4cdea9150d"
   },
   "source": [
    "Создайте модель `KNeighborsRegressor`, обучите ее на треноровочных данных и сделайте предсказания."
   ]
  },
  {
   "cell_type": "code",
   "execution_count": 64,
   "id": "b810e3f1",
   "metadata": {
    "id": "b810e3f1"
   },
   "outputs": [],
   "source": [
    "X_train, X_test, y_train, y_test = train_test_split(X, y, test_size=0.2)"
   ]
  },
  {
   "cell_type": "code",
   "execution_count": 65,
   "id": "d9663f5f",
   "metadata": {
    "id": "d9663f5f"
   },
   "outputs": [],
   "source": [
    "# knn_regressor = KNeighborsRegressor(n_neighbors=5);\n",
    "# knn_regressor.fit(X_train, y_train);\n",
    "knn_pipeline.fit(X_train, y_train);"
   ]
  },
  {
   "cell_type": "code",
   "execution_count": 66,
   "id": "73d29a45",
   "metadata": {
    "id": "73d29a45"
   },
   "outputs": [],
   "source": [
    "y_pred = knn_pipeline.predict(X_test)\n",
    "# y_pred = knn_regressor.predict(X_test)"
   ]
  },
  {
   "cell_type": "markdown",
   "id": "5ed4a2ea-4f42-43cb-95d7-50cdeab5f284",
   "metadata": {
    "id": "5ed4a2ea-4f42-43cb-95d7-50cdeab5f284"
   },
   "source": [
    "### 2.3. Метрики регресии (3 балла)"
   ]
  },
  {
   "cell_type": "markdown",
   "id": "cbf563ad-1b71-464c-8359-75fa4da268d3",
   "metadata": {
    "id": "cbf563ad-1b71-464c-8359-75fa4da268d3"
   },
   "source": [
    "Реализуйте метрики $R^2$, MSE и  MAE в `metrics.py`. Примените их для оценки качества полученной модели. Все ли хорошо?\n",
    "\n",
    "Напомню, что:\n",
    "\n",
    "$R^2 = 1 - \\frac{\\sum_i^n{(y_i - \\hat{y_i})^2}}{\\sum_i^n{(y_i - \\overline{y})^2}}$\n",
    "\n",
    "$MSE = \\frac{1}{n}\\sum_i^n{(y_i - \\hat{y_i})^2}$\n",
    "\n",
    "$MAE = \\frac{1}{n}\\sum_i^n{|y_i - \\hat{y_i}|}$"
   ]
  },
  {
   "cell_type": "markdown",
   "id": "4c2637fe",
   "metadata": {
    "id": "4c2637fe"
   },
   "source": [
    "### Для k = 5"
   ]
  },
  {
   "cell_type": "code",
   "execution_count": 67,
   "id": "580f604f-e9c5-4109-8b9f-235369836057",
   "metadata": {
    "colab": {
     "base_uri": "https://localhost:8080/"
    },
    "id": "580f604f-e9c5-4109-8b9f-235369836057",
    "outputId": "7bd22a37-f317-4b14-b130-5712a31dc328"
   },
   "outputs": [
    {
     "data": {
      "text/plain": [
       "0.4628811790427807"
      ]
     },
     "execution_count": 67,
     "metadata": {},
     "output_type": "execute_result"
    }
   ],
   "source": [
    "r_squared(y_pred, y_test)"
   ]
  },
  {
   "cell_type": "code",
   "execution_count": 68,
   "id": "29cc6cbc",
   "metadata": {
    "colab": {
     "base_uri": "https://localhost:8080/"
    },
    "id": "29cc6cbc",
    "outputId": "31b23679-35ec-4c34-9405-b765e0aefd27",
    "scrolled": true
   },
   "outputs": [
    {
     "data": {
      "text/plain": [
       "0.4628811790427807"
      ]
     },
     "execution_count": 68,
     "metadata": {},
     "output_type": "execute_result"
    }
   ],
   "source": [
    "r2_score(y_test, y_pred)"
   ]
  },
  {
   "cell_type": "code",
   "execution_count": 69,
   "id": "3fc590e7",
   "metadata": {
    "colab": {
     "base_uri": "https://localhost:8080/"
    },
    "id": "3fc590e7",
    "outputId": "0bea4502-f00a-460a-aa28-abb651b42574"
   },
   "outputs": [
    {
     "data": {
      "text/plain": [
       "3776.9114606741573"
      ]
     },
     "execution_count": 69,
     "metadata": {},
     "output_type": "execute_result"
    }
   ],
   "source": [
    "mse(y_pred, y_test)"
   ]
  },
  {
   "cell_type": "code",
   "execution_count": 70,
   "id": "18001a09",
   "metadata": {
    "colab": {
     "base_uri": "https://localhost:8080/"
    },
    "id": "18001a09",
    "outputId": "ce87baf9-048a-4301-a99c-965f4e7d0d78"
   },
   "outputs": [
    {
     "data": {
      "text/plain": [
       "3776.9114606741573"
      ]
     },
     "execution_count": 70,
     "metadata": {},
     "output_type": "execute_result"
    }
   ],
   "source": [
    "mean_squared_error(y_test, y_pred)"
   ]
  },
  {
   "cell_type": "code",
   "execution_count": 71,
   "id": "4c02a408",
   "metadata": {
    "colab": {
     "base_uri": "https://localhost:8080/"
    },
    "id": "4c02a408",
    "outputId": "708667e0-2bdf-4053-d660-23cce1de9083"
   },
   "outputs": [
    {
     "data": {
      "text/plain": [
       "48.997752808988764"
      ]
     },
     "execution_count": 71,
     "metadata": {},
     "output_type": "execute_result"
    }
   ],
   "source": [
    "mae(y_pred, y_test)"
   ]
  },
  {
   "cell_type": "code",
   "execution_count": 72,
   "id": "867a6426",
   "metadata": {
    "colab": {
     "base_uri": "https://localhost:8080/"
    },
    "id": "867a6426",
    "outputId": "1933db54-dd41-40bb-fe7e-3d92bf6317d8"
   },
   "outputs": [
    {
     "data": {
      "text/plain": [
       "48.997752808988764"
      ]
     },
     "execution_count": 72,
     "metadata": {},
     "output_type": "execute_result"
    }
   ],
   "source": [
    "mean_absolute_error(y_test, y_pred)"
   ]
  },
  {
   "cell_type": "markdown",
   "id": "a6568d8d-a9ec-4639-aac1-0ea18a644f9e",
   "metadata": {
    "id": "a6568d8d-a9ec-4639-aac1-0ea18a644f9e"
   },
   "source": [
    "### 2.4. Подбор оптимального числа соседей (2 балла)"
   ]
  },
  {
   "cell_type": "markdown",
   "id": "d82f145d-41f5-4bbe-b553-1d05d90ec2a2",
   "metadata": {
    "id": "d82f145d-41f5-4bbe-b553-1d05d90ec2a2"
   },
   "source": [
    "Мы почти дошли до конца. Теперь осталось при помощи реализованных нами метрик выбрать лучшее количество соседей для нашей модели.\n",
    "\n",
    "!!! Обратите внимание на то, что значат наши метрики, для некоторых хорошо, когда они уменьшаются, для других наоборот."
   ]
  },
  {
   "cell_type": "code",
   "execution_count": 73,
   "id": "138a7969-8079-4a38-b92e-8eae5d246325",
   "metadata": {
    "id": "138a7969-8079-4a38-b92e-8eae5d246325"
   },
   "outputs": [],
   "source": [
    "from metrics import r_squared, mse, mae"
   ]
  },
  {
   "cell_type": "code",
   "execution_count": 74,
   "id": "03368892",
   "metadata": {
    "id": "03368892"
   },
   "outputs": [],
   "source": [
    "def find_best_k(X_train, y_train, X_test, y_test, params, r2=r_squared, mae=mae, mse=mse):\n",
    "    \"\"\"\n",
    "    Choose the best k for KNeighborsRegressor\n",
    "    \n",
    "    Arguments:\n",
    "    X_train, np array (num_train_samples, num_features) - train data\n",
    "    y_train, np array (num_train_samples) - train labels\n",
    "    X_test, np array (num_test_samples, num_features) - test data\n",
    "    y_test, np array (num_test_samples) - test labels\n",
    "    params, list of hyperparameters for KNN, here it is list of k values\n",
    "    r2, function calculates the R squared value, r2(y_pred, y_test)\n",
    "    mse, function calculates the Mean squared error value, mse(y_pred, y_test)\n",
    "    mae, function calculates the Mean absolute error value, mae(y_pred, y_test)\n",
    "    \n",
    "    Returns:\n",
    "    None\n",
    "    \"\"\"\n",
    "    train_r2, test_r2, train_mse, test_mse, train_mae, test_mae = [], [], [], [], [], []\n",
    "    \n",
    "    for k in params:\n",
    "        knn_pipeline = Pipeline(steps=[(\"scaler\", StandardScaler()),\n",
    "                                       (\"knn\", KNeighborsRegressor(n_neighbors=k))])\n",
    "        \n",
    "        knn_pipeline.fit(X_train, y_train)\n",
    "        \n",
    "        y_pred_train = knn_pipeline.predict(X_train)\n",
    "        y_pred_test = knn_pipeline.predict(X_test)\n",
    "        \n",
    "        r_sq_train = r2(y_pred_train, y_train)\n",
    "        r_sq_test = r2(y_pred_test, y_test)\n",
    "        \n",
    "        mse_train = mse(y_pred_train, y_train)\n",
    "        mse_test = mse(y_pred_test, y_test)\n",
    "        \n",
    "        mae_train = mae(y_pred_train, y_train)\n",
    "        mae_test = mae(y_pred_test, y_test)\n",
    "        \n",
    "        print(\n",
    "            f''' \n",
    "            <------- for k = {k} ------>:\n",
    "            \n",
    "            R2 for train data = {r_sq_train}\n",
    "            R2 for test data = {r_sq_test}\n",
    "            \n",
    "            MSE for train data = {mse_train}\n",
    "            MSE for test data = {mse_test}\n",
    "            \n",
    "            MAE for train data = {mae_train}\n",
    "            MAE for test data = {mae_test}'''\n",
    "             )\n",
    "        \n",
    "        train_r2.append(r_sq_train)\n",
    "        test_r2.append(r_sq_test)\n",
    "        \n",
    "        train_mse.append(mse_train)\n",
    "        test_mse.append(mse_test)\n",
    "        \n",
    "        train_mae.append(mae_train)\n",
    "        test_mae.append(mae_test)\n",
    "    \n",
    "    return train_r2, test_r2, train_mse, test_mse, train_mae, test_mae"
   ]
  },
  {
   "cell_type": "markdown",
   "id": "1b4bbef7-35a4-4f05-abf8-5d2b450c86f2",
   "metadata": {
    "id": "1b4bbef7-35a4-4f05-abf8-5d2b450c86f2"
   },
   "source": [
    "Для поиска лучшего k вы можете воспользоваться функцией `find_best_k`, которую вы реализовали выше."
   ]
  },
  {
   "cell_type": "code",
   "execution_count": 75,
   "id": "1a930aec",
   "metadata": {
    "colab": {
     "base_uri": "https://localhost:8080/"
    },
    "id": "1a930aec",
    "outputId": "19a400ff-3837-486b-bf74-c6111a8b7cda"
   },
   "outputs": [
    {
     "name": "stdout",
     "output_type": "stream",
     "text": [
      " \n",
      "            <------- for k = 1 ------>:\n",
      "            \n",
      "            R2 for train data = 1.0\n",
      "            R2 for test data = 0.11841567077886195\n",
      "            \n",
      "            MSE for train data = 0.0\n",
      "            MSE for test data = 6199.123595505618\n",
      "            \n",
      "            MAE for train data = 0.0\n",
      "            MAE for test data = 58.247191011235955\n",
      " \n",
      "            <------- for k = 2 ------>:\n",
      "            \n",
      "            R2 for train data = 0.7277141388907948\n",
      "            R2 for test data = 0.3687555833709971\n",
      "            \n",
      "            MSE for train data = 1533.520538243626\n",
      "            MSE for test data = 4438.783707865168\n",
      "            \n",
      "            MAE for train data = 29.491501416430594\n",
      "            MAE for test data = 49.97191011235955\n",
      " \n",
      "            <------- for k = 4 ------>:\n",
      "            \n",
      "            R2 for train data = 0.5766528842402701\n",
      "            R2 for test data = 0.4469956692843974\n",
      "            \n",
      "            MSE for train data = 2384.301168555241\n",
      "            MSE for test data = 3888.6151685393256\n",
      "            \n",
      "            MAE for train data = 37.57577903682719\n",
      "            MAE for test data = 48.89887640449438\n",
      " \n",
      "            <------- for k = 5 ------>:\n",
      "            \n",
      "            R2 for train data = 0.5516096095483172\n",
      "            R2 for test data = 0.4628811790427807\n",
      "            \n",
      "            MSE for train data = 2525.3454957507083\n",
      "            MSE for test data = 3776.9114606741573\n",
      "            \n",
      "            MAE for train data = 39.563739376770535\n",
      "            MAE for test data = 48.997752808988764\n",
      " \n",
      "            <------- for k = 8 ------>:\n",
      "            \n",
      "            R2 for train data = 0.5231923051222986\n",
      "            R2 for test data = 0.45866432163588644\n",
      "            \n",
      "            MSE for train data = 2685.3924398016998\n",
      "            MSE for test data = 3806.5635533707864\n",
      "            \n",
      "            MAE for train data = 40.830736543909346\n",
      "            MAE for test data = 49.94101123595506\n",
      " \n",
      "            <------- for k = 10 ------>:\n",
      "            \n",
      "            R2 for train data = 0.5104609529465775\n",
      "            R2 for test data = 0.45975930933474096\n",
      "            \n",
      "            MSE for train data = 2757.0957223796036\n",
      "            MSE for test data = 3798.8638202247193\n",
      "            \n",
      "            MAE for train data = 41.54249291784703\n",
      "            MAE for test data = 50.59775280898876\n",
      " \n",
      "            <------- for k = 30 ------>:\n",
      "            \n",
      "            R2 for train data = 0.4690172615539585\n",
      "            R2 for test data = 0.39211302177796503\n",
      "            \n",
      "            MSE for train data = 2990.507592067989\n",
      "            MSE for test data = 4274.538901373284\n",
      "            \n",
      "            MAE for train data = 44.446836638338056\n",
      "            MAE for test data = 55.09213483146067\n"
     ]
    }
   ],
   "source": [
    "params = [1, 2, 4, 5, 8, 10, 30]\n",
    "train_r2, test_r2, train_mse, test_mse, train_mae, test_mae = find_best_k(X_train, y_train, X_test, y_test, params)"
   ]
  },
  {
   "cell_type": "code",
   "execution_count": 76,
   "id": "5948d771",
   "metadata": {
    "colab": {
     "base_uri": "https://localhost:8080/",
     "height": 404
    },
    "id": "5948d771",
    "outputId": "97d1cfc5-4a9d-4644-c529-cf0eb4b4474b",
    "scrolled": false
   },
   "outputs": [
    {
     "data": {
      "image/png": "[encoded data removed]",
      "text/plain": [
       "<Figure size 576x432 with 1 Axes>"
      ]
     },
     "metadata": {},
     "output_type": "display_data"
    }
   ],
   "source": [
    "plt.plot(params, train_r2, label=\"train\")\n",
    "plt.plot(params, test_r2, label=\"test\")\n",
    "plt.legend()\n",
    "plt.xlabel(\"K in KNN\")\n",
    "plt.ylabel(\"R2\");\n",
    "plt.title('R Squared');"
   ]
  },
  {
   "cell_type": "code",
   "execution_count": 77,
   "id": "430c625c",
   "metadata": {
    "colab": {
     "base_uri": "https://localhost:8080/",
     "height": 404
    },
    "id": "430c625c",
    "outputId": "e48ca492-2b82-4bbb-cf09-0cbc742cc5a1"
   },
   "outputs": [
    {
     "data": {
      "image/png": "[encoded data removed]",
      "text/plain": [
       "<Figure size 576x432 with 1 Axes>"
      ]
     },
     "metadata": {},
     "output_type": "display_data"
    }
   ],
   "source": [
    "plt.plot(params, train_mse, label=\"train\")\n",
    "plt.plot(params, test_mse, label=\"test\")\n",
    "plt.legend()\n",
    "plt.xlabel(\"K in KNN\")\n",
    "plt.ylabel(\"MSE\");\n",
    "plt.title('MSE');"
   ]
  },
  {
   "cell_type": "code",
   "execution_count": 78,
   "id": "668cd8c6",
   "metadata": {
    "colab": {
     "base_uri": "https://localhost:8080/",
     "height": 404
    },
    "id": "668cd8c6",
    "outputId": "95f74758-270f-4e8b-bf84-426cf0af3c45"
   },
   "outputs": [
    {
     "data": {
      "image/png": "[encoded data removed]",
      "text/plain": [
       "<Figure size 576x432 with 1 Axes>"
      ]
     },
     "metadata": {},
     "output_type": "display_data"
    }
   ],
   "source": [
    "plt.plot(params, train_mae, label=\"train\")\n",
    "plt.plot(params, test_mae, label=\"test\")\n",
    "plt.legend()\n",
    "plt.xlabel(\"K in KNN\")\n",
    "plt.ylabel(\"MAE\");\n",
    "plt.title('MAE');"
   ]
  },
  {
   "cell_type": "markdown",
   "id": "5c8fb58f",
   "metadata": {
    "id": "5c8fb58f"
   },
   "source": [
    " ### Кажется, значение k = 10 будет вполне приемлимо"
   ]
  },
  {
   "cell_type": "markdown",
   "id": "2cb77960-fa30-4a29-9a1b-7c195cc867cb",
   "metadata": {
    "id": "2cb77960-fa30-4a29-9a1b-7c195cc867cb"
   },
   "source": [
    "### 3. Социализация (0.5 доп. балла)\n",
    "\n",
    "Так как у нас теперь большая группа, то было бы здорово всем познакомиться получше (так как выпускной не за горами). Соберитесь с одногруппниками в зуме (желательно, чтобы были люди и с Онлайна, и с Питера), познакомьтесь, а сюда прикрепите скриншот с камерами всех участников."
   ]
  },
  {
   "cell_type": "markdown",
   "id": "e116a42f-fae8-499c-a985-dc09e66a29b0",
   "metadata": {
    "id": "e116a42f-fae8-499c-a985-dc09e66a29b0"
   },
   "source": [
    "## Therapy time"
   ]
  },
  {
   "cell_type": "markdown",
   "id": "031c493b-26f3-4622-a1f4-affee64f81db",
   "metadata": {
    "id": "031c493b-26f3-4622-a1f4-affee64f81db"
   },
   "source": [
    "Напишите здесь ваши впечатления о задании: было ли интересно, было ли слишком легко или наоборот сложно и тд. Также сюда можно написать свои идеи по улучшению заданий, а также предложить данные, на основе которых вы бы хотели построить следующие дз. "
   ]
  },
  {
   "cell_type": "markdown",
   "id": "6d1c75b8",
   "metadata": {
    "id": "6d1c75b8"
   },
   "source": [
    "**Ваши мысли:**"
   ]
  },
  {
   "cell_type": "markdown",
   "id": "1707dc36",
   "metadata": {
    "id": "1707dc36"
   },
   "source": [
    "# Спасибо, что отвечаете на вопросы!"
   ]
  }
 ],
 "metadata": {
  "colab": {
   "provenance": []
  },
  "kernelspec": {
   "display_name": "Python 3 (ipykernel)",
   "language": "python",
   "name": "python3"
  },
  "language_info": {
   "codemirror_mode": {
    "name": "ipython",
    "version": 3
   },
   "file_extension": ".py",
   "mimetype": "text/x-python",
   "name": "python",
   "nbconvert_exporter": "python",
   "pygments_lexer": "ipython3",
   "version": "3.10.6"
  }
 },
 "nbformat": 4,
 "nbformat_minor": 5
}
