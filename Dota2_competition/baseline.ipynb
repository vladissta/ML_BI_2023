{
 "cells": [
  {
   "cell_type": "markdown",
   "id": "4ad7e1b3",
   "metadata": {
    "papermill": {
     "duration": 0.044486,
     "end_time": "2022-02-13T23:28:22.423626",
     "exception": false,
     "start_time": "2022-02-13T23:28:22.379140",
     "status": "completed"
    },
    "tags": []
   },
   "source": [
    "# <center> Предсказание победителя в Dota 2\n",
    "<center> <img src=\"https://meduza.io/impro/YnJZAHUW6WHz_JQm1uRPkTql_qAhbfxt3oFJLGH7CJg/fill/980/0/ce/1/aHR0cHM6Ly9tZWR1/emEuaW8vaW1hZ2Uv/YXR0YWNobWVudHMv/aW1hZ2VzLzAwNy8x/NTcvNjk1L29yaWdp/bmFsL0tMVThLbUti/ZG5pSzlibDA0Wmlw/WXcuanBn.webp\" width=\"700\" height=\"700\">"
   ]
  },
  {
   "cell_type": "markdown",
   "id": "dd0d6f8f",
   "metadata": {
    "papermill": {
     "duration": 0.042953,
     "end_time": "2022-02-13T23:28:22.510310",
     "exception": false,
     "start_time": "2022-02-13T23:28:22.467357",
     "status": "completed"
    },
    "tags": []
   },
   "source": [
    "[Почитать подбробнее](https://meduza.io/feature/2021/10/19/rossiyskaya-komanda-vyigrala-chempionat-mira-po-dota-2-i-poluchila-18-millionov-dollarov-postoyte-otkuda-takie-dengi-neuzheli-igrat-v-dotu-tak-slozhno)"
   ]
  },
  {
   "cell_type": "markdown",
   "id": "78cb16cc",
   "metadata": {
    "papermill": {
     "duration": 0.042954,
     "end_time": "2022-02-13T23:28:22.598330",
     "exception": false,
     "start_time": "2022-02-13T23:28:22.555376",
     "status": "completed"
    },
    "tags": []
   },
   "source": [
    "#### [Оригинальная статья](https://arxiv.org/pdf/2106.01782.pdf)\n",
    "    \n",
    "### Начало\n",
    "\n",
    "Посмотрим на готовые признаки и сделаем первую посылку. \n",
    "\n",
    "1. [Описание данных](#Описание-данных)\n",
    "2. [Описание признаков](#Описание-признаков)\n",
    "3. [Наша первая модель](#Наша-первая-модель)\n",
    "4. [Посылка](#Посылка)\n",
    "\n",
    "### Первые шаги на пути в датасайенс\n",
    "\n",
    "5. [Кросс-валидация](#Кросс-валидация)\n",
    "6. [Что есть в json файлах?](#Что-есть-в-json-файлах?)\n",
    "7. [Feature engineering](#Feature-engineering)"
   ]
  },
  {
   "cell_type": "markdown",
   "id": "3661e23a",
   "metadata": {
    "papermill": {
     "duration": 0.045141,
     "end_time": "2022-02-13T23:28:22.688388",
     "exception": false,
     "start_time": "2022-02-13T23:28:22.643247",
     "status": "completed"
    },
    "tags": []
   },
   "source": [
    "### Импорты"
   ]
  },
  {
   "cell_type": "code",
   "execution_count": 1,
   "id": "feec6d70",
   "metadata": {
    "execution": {
     "iopub.execute_input": "2022-02-13T23:28:22.779257Z",
     "iopub.status.busy": "2022-02-13T23:28:22.778075Z",
     "iopub.status.idle": "2022-02-13T23:28:24.258416Z",
     "shell.execute_reply": "2022-02-13T23:28:24.257521Z",
     "shell.execute_reply.started": "2022-02-13T22:54:24.504400Z"
    },
    "papermill": {
     "duration": 1.526998,
     "end_time": "2022-02-13T23:28:24.258607",
     "exception": false,
     "start_time": "2022-02-13T23:28:22.731609",
     "status": "completed"
    },
    "tags": []
   },
   "outputs": [],
   "source": [
    "import os\n",
    "import json\n",
    "import pandas as pd\n",
    "import datetime\n",
    "import warnings\n",
    "import seaborn as sns\n",
    "import matplotlib.pyplot as plt\n",
    "from sklearn.model_selection import train_test_split, ShuffleSplit, cross_val_score\n",
    "from sklearn.ensemble import RandomForestClassifier\n",
    "from sklearn.metrics import roc_auc_score, accuracy_score\n",
    "\n",
    "%matplotlib inline"
   ]
  },
  {
   "cell_type": "code",
   "execution_count": 2,
   "id": "5864ed27",
   "metadata": {
    "execution": {
     "iopub.execute_input": "2022-02-13T23:28:24.349946Z",
     "iopub.status.busy": "2022-02-13T23:28:24.349155Z",
     "iopub.status.idle": "2022-02-13T23:28:24.354489Z",
     "shell.execute_reply": "2022-02-13T23:28:24.353950Z",
     "shell.execute_reply.started": "2022-02-13T22:54:27.968328Z"
    },
    "papermill": {
     "duration": 0.051811,
     "end_time": "2022-02-13T23:28:24.354647",
     "exception": false,
     "start_time": "2022-02-13T23:28:24.302836",
     "status": "completed"
    },
    "tags": []
   },
   "outputs": [],
   "source": [
    "SEED = 10801\n",
    "sns.set_style(style=\"whitegrid\")\n",
    "plt.rcParams[\"figure.figsize\"] = 12, 8\n",
    "warnings.filterwarnings(\"ignore\")"
   ]
  },
  {
   "cell_type": "markdown",
   "id": "3dcd1f6a",
   "metadata": {
    "papermill": {
     "duration": 0.042707,
     "end_time": "2022-02-13T23:28:24.441767",
     "exception": false,
     "start_time": "2022-02-13T23:28:24.399060",
     "status": "completed"
    },
    "tags": []
   },
   "source": [
    "## <left>Описание данных\n",
    "\n",
    "Файлы:\n",
    "\n",
    "- `sample_submission.csv`: пример файла-посылки\n",
    "- `train_raw_data.jsonl`, `test_raw_data.jsonl`: \"сырые\" данные \n",
    "- `train_data.csv`, `test_data.csv`: признаки, созданные авторами\n",
    "- `train_targets.csv`: результаты тренировочных игр"
   ]
  },
  {
   "cell_type": "markdown",
   "id": "fd672c67",
   "metadata": {
    "papermill": {
     "duration": 0.042685,
     "end_time": "2022-02-13T23:28:24.527617",
     "exception": false,
     "start_time": "2022-02-13T23:28:24.484932",
     "status": "completed"
    },
    "tags": []
   },
   "source": [
    "## <left>Описание признаков\n",
    "    \n",
    "Набор простых признаков, описывающих игроков и команды в целом"
   ]
  },
  {
   "cell_type": "code",
   "execution_count": 3,
   "id": "a07c2bed",
   "metadata": {
    "execution": {
     "iopub.execute_input": "2022-02-13T23:28:24.621037Z",
     "iopub.status.busy": "2022-02-13T23:28:24.617940Z",
     "iopub.status.idle": "2022-02-13T23:28:25.955763Z",
     "shell.execute_reply": "2022-02-13T23:28:25.955019Z",
     "shell.execute_reply.started": "2022-02-13T22:54:30.336618Z"
    },
    "papermill": {
     "duration": 1.383765,
     "end_time": "2022-02-13T23:28:25.955912",
     "exception": false,
     "start_time": "2022-02-13T23:28:24.572147",
     "status": "completed"
    },
    "tags": []
   },
   "outputs": [],
   "source": [
    "PATH_TO_DATA = \"bi-ml-competition-2023\"\n",
    "\n",
    "df_train_features = pd.read_csv(os.path.join(PATH_TO_DATA, \n",
    "                                             \"train_data.csv\"), \n",
    "                                    index_col=\"match_id_hash\")\n",
    "df_train_targets = pd.read_csv(os.path.join(PATH_TO_DATA, \n",
    "                                            \"train_targets.csv\"), \n",
    "                                   index_col=\"match_id_hash\")"
   ]
  },
  {
   "cell_type": "code",
   "execution_count": 4,
   "id": "30d43528",
   "metadata": {
    "execution": {
     "iopub.execute_input": "2022-02-13T23:28:26.051436Z",
     "iopub.status.busy": "2022-02-13T23:28:26.050453Z",
     "iopub.status.idle": "2022-02-13T23:28:26.054853Z",
     "shell.execute_reply": "2022-02-13T23:28:26.055390Z",
     "shell.execute_reply.started": "2022-02-13T22:54:33.105218Z"
    },
    "papermill": {
     "duration": 0.055919,
     "end_time": "2022-02-13T23:28:26.055573",
     "exception": false,
     "start_time": "2022-02-13T23:28:25.999654",
     "status": "completed"
    },
    "tags": []
   },
   "outputs": [
    {
     "data": {
      "text/plain": [
       "(31698, 245)"
      ]
     },
     "execution_count": 4,
     "metadata": {},
     "output_type": "execute_result"
    }
   ],
   "source": [
    "df_train_features.shape"
   ]
  },
  {
   "cell_type": "code",
   "execution_count": 5,
   "id": "8528f9b0",
   "metadata": {
    "execution": {
     "iopub.execute_input": "2022-02-13T23:28:26.154088Z",
     "iopub.status.busy": "2022-02-13T23:28:26.153391Z",
     "iopub.status.idle": "2022-02-13T23:28:26.173095Z",
     "shell.execute_reply": "2022-02-13T23:28:26.173612Z",
     "shell.execute_reply.started": "2022-02-13T22:54:34.150651Z"
    },
    "papermill": {
     "duration": 0.073611,
     "end_time": "2022-02-13T23:28:26.173793",
     "exception": false,
     "start_time": "2022-02-13T23:28:26.100182",
     "status": "completed"
    },
    "tags": []
   },
   "outputs": [
    {
     "data": {
      "text/html": [
       "<div>\n",
       "<style scoped>\n",
       "    .dataframe tbody tr th:only-of-type {\n",
       "        vertical-align: middle;\n",
       "    }\n",
       "\n",
       "    .dataframe tbody tr th {\n",
       "        vertical-align: top;\n",
       "    }\n",
       "\n",
       "    .dataframe thead th {\n",
       "        text-align: right;\n",
       "    }\n",
       "</style>\n",
       "<table border=\"1\" class=\"dataframe\">\n",
       "  <thead>\n",
       "    <tr style=\"text-align: right;\">\n",
       "      <th></th>\n",
       "      <th>game_time</th>\n",
       "      <th>game_mode</th>\n",
       "      <th>lobby_type</th>\n",
       "      <th>objectives_len</th>\n",
       "      <th>chat_len</th>\n",
       "      <th>r1_hero_id</th>\n",
       "      <th>r1_kills</th>\n",
       "      <th>r1_deaths</th>\n",
       "      <th>r1_assists</th>\n",
       "      <th>r1_denies</th>\n",
       "      <th>...</th>\n",
       "      <th>d5_stuns</th>\n",
       "      <th>d5_creeps_stacked</th>\n",
       "      <th>d5_camps_stacked</th>\n",
       "      <th>d5_rune_pickups</th>\n",
       "      <th>d5_firstblood_claimed</th>\n",
       "      <th>d5_teamfight_participation</th>\n",
       "      <th>d5_towers_killed</th>\n",
       "      <th>d5_roshans_killed</th>\n",
       "      <th>d5_obs_placed</th>\n",
       "      <th>d5_sen_placed</th>\n",
       "    </tr>\n",
       "    <tr>\n",
       "      <th>match_id_hash</th>\n",
       "      <th></th>\n",
       "      <th></th>\n",
       "      <th></th>\n",
       "      <th></th>\n",
       "      <th></th>\n",
       "      <th></th>\n",
       "      <th></th>\n",
       "      <th></th>\n",
       "      <th></th>\n",
       "      <th></th>\n",
       "      <th></th>\n",
       "      <th></th>\n",
       "      <th></th>\n",
       "      <th></th>\n",
       "      <th></th>\n",
       "      <th></th>\n",
       "      <th></th>\n",
       "      <th></th>\n",
       "      <th></th>\n",
       "      <th></th>\n",
       "      <th></th>\n",
       "    </tr>\n",
       "  </thead>\n",
       "  <tbody>\n",
       "    <tr>\n",
       "      <th>b9c57c450ce74a2af79c9ce96fac144d</th>\n",
       "      <td>658</td>\n",
       "      <td>4</td>\n",
       "      <td>0</td>\n",
       "      <td>3</td>\n",
       "      <td>10</td>\n",
       "      <td>15</td>\n",
       "      <td>7</td>\n",
       "      <td>2</td>\n",
       "      <td>0</td>\n",
       "      <td>7</td>\n",
       "      <td>...</td>\n",
       "      <td>0.000000</td>\n",
       "      <td>0</td>\n",
       "      <td>0</td>\n",
       "      <td>0</td>\n",
       "      <td>0</td>\n",
       "      <td>0.00</td>\n",
       "      <td>0</td>\n",
       "      <td>0</td>\n",
       "      <td>0</td>\n",
       "      <td>0</td>\n",
       "    </tr>\n",
       "    <tr>\n",
       "      <th>6db558535151ea18ca70a6892197db41</th>\n",
       "      <td>21</td>\n",
       "      <td>23</td>\n",
       "      <td>0</td>\n",
       "      <td>0</td>\n",
       "      <td>0</td>\n",
       "      <td>101</td>\n",
       "      <td>0</td>\n",
       "      <td>0</td>\n",
       "      <td>0</td>\n",
       "      <td>0</td>\n",
       "      <td>...</td>\n",
       "      <td>0.000000</td>\n",
       "      <td>0</td>\n",
       "      <td>0</td>\n",
       "      <td>0</td>\n",
       "      <td>0</td>\n",
       "      <td>0.00</td>\n",
       "      <td>0</td>\n",
       "      <td>0</td>\n",
       "      <td>0</td>\n",
       "      <td>0</td>\n",
       "    </tr>\n",
       "    <tr>\n",
       "      <th>19c39fe2af2b547e48708ca005c6ae74</th>\n",
       "      <td>160</td>\n",
       "      <td>22</td>\n",
       "      <td>7</td>\n",
       "      <td>0</td>\n",
       "      <td>0</td>\n",
       "      <td>57</td>\n",
       "      <td>0</td>\n",
       "      <td>0</td>\n",
       "      <td>0</td>\n",
       "      <td>1</td>\n",
       "      <td>...</td>\n",
       "      <td>0.000000</td>\n",
       "      <td>0</td>\n",
       "      <td>0</td>\n",
       "      <td>0</td>\n",
       "      <td>0</td>\n",
       "      <td>0.00</td>\n",
       "      <td>0</td>\n",
       "      <td>0</td>\n",
       "      <td>0</td>\n",
       "      <td>0</td>\n",
       "    </tr>\n",
       "    <tr>\n",
       "      <th>c96d629dc0c39f0c616d1949938a6ba6</th>\n",
       "      <td>1016</td>\n",
       "      <td>22</td>\n",
       "      <td>0</td>\n",
       "      <td>1</td>\n",
       "      <td>0</td>\n",
       "      <td>119</td>\n",
       "      <td>0</td>\n",
       "      <td>3</td>\n",
       "      <td>3</td>\n",
       "      <td>5</td>\n",
       "      <td>...</td>\n",
       "      <td>8.264696</td>\n",
       "      <td>0</td>\n",
       "      <td>0</td>\n",
       "      <td>3</td>\n",
       "      <td>0</td>\n",
       "      <td>0.25</td>\n",
       "      <td>0</td>\n",
       "      <td>0</td>\n",
       "      <td>3</td>\n",
       "      <td>0</td>\n",
       "    </tr>\n",
       "    <tr>\n",
       "      <th>156c88bff4e9c4668b0f53df3d870f1b</th>\n",
       "      <td>582</td>\n",
       "      <td>22</td>\n",
       "      <td>7</td>\n",
       "      <td>2</td>\n",
       "      <td>2</td>\n",
       "      <td>12</td>\n",
       "      <td>3</td>\n",
       "      <td>1</td>\n",
       "      <td>2</td>\n",
       "      <td>9</td>\n",
       "      <td>...</td>\n",
       "      <td>15.762911</td>\n",
       "      <td>3</td>\n",
       "      <td>1</td>\n",
       "      <td>0</td>\n",
       "      <td>1</td>\n",
       "      <td>0.50</td>\n",
       "      <td>0</td>\n",
       "      <td>0</td>\n",
       "      <td>3</td>\n",
       "      <td>0</td>\n",
       "    </tr>\n",
       "  </tbody>\n",
       "</table>\n",
       "<p>5 rows × 245 columns</p>\n",
       "</div>"
      ],
      "text/plain": [
       "                                  game_time  game_mode  lobby_type  \\\n",
       "match_id_hash                                                        \n",
       "b9c57c450ce74a2af79c9ce96fac144d        658          4           0   \n",
       "6db558535151ea18ca70a6892197db41         21         23           0   \n",
       "19c39fe2af2b547e48708ca005c6ae74        160         22           7   \n",
       "c96d629dc0c39f0c616d1949938a6ba6       1016         22           0   \n",
       "156c88bff4e9c4668b0f53df3d870f1b        582         22           7   \n",
       "\n",
       "                                  objectives_len  chat_len  r1_hero_id  \\\n",
       "match_id_hash                                                            \n",
       "b9c57c450ce74a2af79c9ce96fac144d               3        10          15   \n",
       "6db558535151ea18ca70a6892197db41               0         0         101   \n",
       "19c39fe2af2b547e48708ca005c6ae74               0         0          57   \n",
       "c96d629dc0c39f0c616d1949938a6ba6               1         0         119   \n",
       "156c88bff4e9c4668b0f53df3d870f1b               2         2          12   \n",
       "\n",
       "                                  r1_kills  r1_deaths  r1_assists  r1_denies  \\\n",
       "match_id_hash                                                                  \n",
       "b9c57c450ce74a2af79c9ce96fac144d         7          2           0          7   \n",
       "6db558535151ea18ca70a6892197db41         0          0           0          0   \n",
       "19c39fe2af2b547e48708ca005c6ae74         0          0           0          1   \n",
       "c96d629dc0c39f0c616d1949938a6ba6         0          3           3          5   \n",
       "156c88bff4e9c4668b0f53df3d870f1b         3          1           2          9   \n",
       "\n",
       "                                  ...   d5_stuns  d5_creeps_stacked  \\\n",
       "match_id_hash                     ...                                 \n",
       "b9c57c450ce74a2af79c9ce96fac144d  ...   0.000000                  0   \n",
       "6db558535151ea18ca70a6892197db41  ...   0.000000                  0   \n",
       "19c39fe2af2b547e48708ca005c6ae74  ...   0.000000                  0   \n",
       "c96d629dc0c39f0c616d1949938a6ba6  ...   8.264696                  0   \n",
       "156c88bff4e9c4668b0f53df3d870f1b  ...  15.762911                  3   \n",
       "\n",
       "                                  d5_camps_stacked  d5_rune_pickups  \\\n",
       "match_id_hash                                                         \n",
       "b9c57c450ce74a2af79c9ce96fac144d                 0                0   \n",
       "6db558535151ea18ca70a6892197db41                 0                0   \n",
       "19c39fe2af2b547e48708ca005c6ae74                 0                0   \n",
       "c96d629dc0c39f0c616d1949938a6ba6                 0                3   \n",
       "156c88bff4e9c4668b0f53df3d870f1b                 1                0   \n",
       "\n",
       "                                  d5_firstblood_claimed  \\\n",
       "match_id_hash                                             \n",
       "b9c57c450ce74a2af79c9ce96fac144d                      0   \n",
       "6db558535151ea18ca70a6892197db41                      0   \n",
       "19c39fe2af2b547e48708ca005c6ae74                      0   \n",
       "c96d629dc0c39f0c616d1949938a6ba6                      0   \n",
       "156c88bff4e9c4668b0f53df3d870f1b                      1   \n",
       "\n",
       "                                  d5_teamfight_participation  \\\n",
       "match_id_hash                                                  \n",
       "b9c57c450ce74a2af79c9ce96fac144d                        0.00   \n",
       "6db558535151ea18ca70a6892197db41                        0.00   \n",
       "19c39fe2af2b547e48708ca005c6ae74                        0.00   \n",
       "c96d629dc0c39f0c616d1949938a6ba6                        0.25   \n",
       "156c88bff4e9c4668b0f53df3d870f1b                        0.50   \n",
       "\n",
       "                                  d5_towers_killed  d5_roshans_killed  \\\n",
       "match_id_hash                                                           \n",
       "b9c57c450ce74a2af79c9ce96fac144d                 0                  0   \n",
       "6db558535151ea18ca70a6892197db41                 0                  0   \n",
       "19c39fe2af2b547e48708ca005c6ae74                 0                  0   \n",
       "c96d629dc0c39f0c616d1949938a6ba6                 0                  0   \n",
       "156c88bff4e9c4668b0f53df3d870f1b                 0                  0   \n",
       "\n",
       "                                  d5_obs_placed  d5_sen_placed  \n",
       "match_id_hash                                                   \n",
       "b9c57c450ce74a2af79c9ce96fac144d              0              0  \n",
       "6db558535151ea18ca70a6892197db41              0              0  \n",
       "19c39fe2af2b547e48708ca005c6ae74              0              0  \n",
       "c96d629dc0c39f0c616d1949938a6ba6              3              0  \n",
       "156c88bff4e9c4668b0f53df3d870f1b              3              0  \n",
       "\n",
       "[5 rows x 245 columns]"
      ]
     },
     "execution_count": 5,
     "metadata": {},
     "output_type": "execute_result"
    }
   ],
   "source": [
    "df_train_features.head()"
   ]
  },
  {
   "cell_type": "markdown",
   "id": "9ed06cd4",
   "metadata": {
    "papermill": {
     "duration": 0.043707,
     "end_time": "2022-02-13T23:28:26.261790",
     "exception": false,
     "start_time": "2022-02-13T23:28:26.218083",
     "status": "completed"
    },
    "tags": []
   },
   "source": [
    "Имеем ~32 тысячи наблюдений, каждое из которых характеризуется уникальным `match_id_hash` (захэшированное id матча), и 245 признаков. `game_time` показывает момент времени, в который получены эти данные. То есть по сути это не длительность самого матча, а например, его середина, таким образом, в итоге мы сможем получить модель, которая будет предсказывать вероятность победы каждой из команд в течение матча (хорошо подходит для букмекеров)."
   ]
  },
  {
   "cell_type": "markdown",
   "id": "9a1ffe73",
   "metadata": {
    "papermill": {
     "duration": 0.043619,
     "end_time": "2022-02-13T23:28:26.350788",
     "exception": false,
     "start_time": "2022-02-13T23:28:26.307169",
     "status": "completed"
    },
    "tags": []
   },
   "source": [
    "Нас интересует поле `radiant_win` (так называется одна из команд, вторая - dire). Остальные колоки здесь по сути получены из \"будущего\" и есть только для тренировочных данных, поэтому на них можно просто посмотреть)."
   ]
  },
  {
   "cell_type": "code",
   "execution_count": 6,
   "id": "b79dd345",
   "metadata": {
    "execution": {
     "iopub.execute_input": "2022-02-13T23:28:26.444111Z",
     "iopub.status.busy": "2022-02-13T23:28:26.442619Z",
     "iopub.status.idle": "2022-02-13T23:28:26.453906Z",
     "shell.execute_reply": "2022-02-13T23:28:26.454413Z",
     "shell.execute_reply.started": "2022-02-13T22:54:36.171466Z"
    },
    "papermill": {
     "duration": 0.059594,
     "end_time": "2022-02-13T23:28:26.454584",
     "exception": false,
     "start_time": "2022-02-13T23:28:26.394990",
     "status": "completed"
    },
    "tags": []
   },
   "outputs": [
    {
     "data": {
      "text/html": [
       "<div>\n",
       "<style scoped>\n",
       "    .dataframe tbody tr th:only-of-type {\n",
       "        vertical-align: middle;\n",
       "    }\n",
       "\n",
       "    .dataframe tbody tr th {\n",
       "        vertical-align: top;\n",
       "    }\n",
       "\n",
       "    .dataframe thead th {\n",
       "        text-align: right;\n",
       "    }\n",
       "</style>\n",
       "<table border=\"1\" class=\"dataframe\">\n",
       "  <thead>\n",
       "    <tr style=\"text-align: right;\">\n",
       "      <th></th>\n",
       "      <th>game_time</th>\n",
       "      <th>radiant_win</th>\n",
       "      <th>duration</th>\n",
       "      <th>time_remaining</th>\n",
       "      <th>next_roshan_team</th>\n",
       "    </tr>\n",
       "    <tr>\n",
       "      <th>match_id_hash</th>\n",
       "      <th></th>\n",
       "      <th></th>\n",
       "      <th></th>\n",
       "      <th></th>\n",
       "      <th></th>\n",
       "    </tr>\n",
       "  </thead>\n",
       "  <tbody>\n",
       "    <tr>\n",
       "      <th>b9c57c450ce74a2af79c9ce96fac144d</th>\n",
       "      <td>658</td>\n",
       "      <td>True</td>\n",
       "      <td>1154</td>\n",
       "      <td>496</td>\n",
       "      <td>NaN</td>\n",
       "    </tr>\n",
       "    <tr>\n",
       "      <th>6db558535151ea18ca70a6892197db41</th>\n",
       "      <td>21</td>\n",
       "      <td>True</td>\n",
       "      <td>1503</td>\n",
       "      <td>1482</td>\n",
       "      <td>Radiant</td>\n",
       "    </tr>\n",
       "    <tr>\n",
       "      <th>19c39fe2af2b547e48708ca005c6ae74</th>\n",
       "      <td>160</td>\n",
       "      <td>False</td>\n",
       "      <td>2063</td>\n",
       "      <td>1903</td>\n",
       "      <td>NaN</td>\n",
       "    </tr>\n",
       "    <tr>\n",
       "      <th>c96d629dc0c39f0c616d1949938a6ba6</th>\n",
       "      <td>1016</td>\n",
       "      <td>True</td>\n",
       "      <td>2147</td>\n",
       "      <td>1131</td>\n",
       "      <td>Radiant</td>\n",
       "    </tr>\n",
       "    <tr>\n",
       "      <th>156c88bff4e9c4668b0f53df3d870f1b</th>\n",
       "      <td>582</td>\n",
       "      <td>False</td>\n",
       "      <td>1927</td>\n",
       "      <td>1345</td>\n",
       "      <td>Dire</td>\n",
       "    </tr>\n",
       "  </tbody>\n",
       "</table>\n",
       "</div>"
      ],
      "text/plain": [
       "                                  game_time  radiant_win  duration  \\\n",
       "match_id_hash                                                        \n",
       "b9c57c450ce74a2af79c9ce96fac144d        658         True      1154   \n",
       "6db558535151ea18ca70a6892197db41         21         True      1503   \n",
       "19c39fe2af2b547e48708ca005c6ae74        160        False      2063   \n",
       "c96d629dc0c39f0c616d1949938a6ba6       1016         True      2147   \n",
       "156c88bff4e9c4668b0f53df3d870f1b        582        False      1927   \n",
       "\n",
       "                                  time_remaining next_roshan_team  \n",
       "match_id_hash                                                      \n",
       "b9c57c450ce74a2af79c9ce96fac144d             496              NaN  \n",
       "6db558535151ea18ca70a6892197db41            1482          Radiant  \n",
       "19c39fe2af2b547e48708ca005c6ae74            1903              NaN  \n",
       "c96d629dc0c39f0c616d1949938a6ba6            1131          Radiant  \n",
       "156c88bff4e9c4668b0f53df3d870f1b            1345             Dire  "
      ]
     },
     "execution_count": 6,
     "metadata": {},
     "output_type": "execute_result"
    }
   ],
   "source": [
    "df_train_targets.head()"
   ]
  },
  {
   "cell_type": "markdown",
   "id": "d2af2d73",
   "metadata": {
    "papermill": {
     "duration": 0.046788,
     "end_time": "2022-02-13T23:28:26.547845",
     "exception": false,
     "start_time": "2022-02-13T23:28:26.501057",
     "status": "completed"
    },
    "tags": []
   },
   "source": [
    "## <left>Наша первая модель"
   ]
  },
  {
   "cell_type": "code",
   "execution_count": 40,
   "id": "4c7eb98f",
   "metadata": {
    "execution": {
     "iopub.execute_input": "2022-02-13T23:28:26.647577Z",
     "iopub.status.busy": "2022-02-13T23:28:26.645040Z",
     "iopub.status.idle": "2022-02-13T23:28:26.671991Z",
     "shell.execute_reply": "2022-02-13T23:28:26.672585Z",
     "shell.execute_reply.started": "2022-02-13T22:54:39.221703Z"
    },
    "papermill": {
     "duration": 0.078234,
     "end_time": "2022-02-13T23:28:26.672769",
     "exception": false,
     "start_time": "2022-02-13T23:28:26.594535",
     "status": "completed"
    },
    "tags": []
   },
   "outputs": [],
   "source": [
    "X = df_train_features.values\n",
    "y = df_train_targets[\"radiant_win\"].values.astype(\"int8\")"
   ]
  },
  {
   "cell_type": "code",
   "execution_count": 5,
   "id": "33e4012a",
   "metadata": {
    "execution": {
     "iopub.execute_input": "2022-02-13T23:28:26.771678Z",
     "iopub.status.busy": "2022-02-13T23:28:26.768845Z",
     "iopub.status.idle": "2022-02-13T23:28:26.870676Z",
     "shell.execute_reply": "2022-02-13T23:28:26.871233Z",
     "shell.execute_reply.started": "2022-02-13T22:54:39.486872Z"
    },
    "papermill": {
     "duration": 0.152481,
     "end_time": "2022-02-13T23:28:26.871414",
     "exception": false,
     "start_time": "2022-02-13T23:28:26.718933",
     "status": "completed"
    },
    "tags": []
   },
   "outputs": [],
   "source": [
    "X_train, X_valid, y_train, y_valid = train_test_split(X, y, \n",
    "                                                      test_size=0.3, \n",
    "                                                      random_state=SEED)"
   ]
  },
  {
   "cell_type": "markdown",
   "id": "b1e71e48",
   "metadata": {
    "papermill": {
     "duration": 0.04485,
     "end_time": "2022-02-13T23:28:26.961156",
     "exception": false,
     "start_time": "2022-02-13T23:28:26.916306",
     "status": "completed"
    },
    "tags": []
   },
   "source": [
    "#### Обучим случайный лес"
   ]
  },
  {
   "cell_type": "code",
   "execution_count": 6,
   "id": "28eb619e",
   "metadata": {
    "execution": {
     "iopub.execute_input": "2022-02-13T23:28:27.054420Z",
     "iopub.status.busy": "2022-02-13T23:28:27.053634Z",
     "iopub.status.idle": "2022-02-13T23:28:36.072462Z",
     "shell.execute_reply": "2022-02-13T23:28:36.072928Z",
     "shell.execute_reply.started": "2022-02-13T22:55:21.167897Z"
    },
    "papermill": {
     "duration": 9.067224,
     "end_time": "2022-02-13T23:28:36.073116",
     "exception": false,
     "start_time": "2022-02-13T23:28:27.005892",
     "status": "completed"
    },
    "tags": []
   },
   "outputs": [
    {
     "name": "stdout",
     "output_type": "stream",
     "text": [
      "CPU times: user 115 µs, sys: 82 µs, total: 197 µs\n",
      "Wall time: 114 µs\n"
     ]
    }
   ],
   "source": [
    "%%time\n",
    "rf_model = RandomForestClassifier(n_estimators=300, max_depth=7, n_jobs=-1, random_state=SEED)\n",
    "rf_model.fit(X_train, y_train)"
   ]
  },
  {
   "cell_type": "markdown",
   "id": "442c6412",
   "metadata": {
    "papermill": {
     "duration": 0.045583,
     "end_time": "2022-02-13T23:28:36.165966",
     "exception": false,
     "start_time": "2022-02-13T23:28:36.120383",
     "status": "completed"
    },
    "tags": []
   },
   "source": [
    "#### Сделаем предсказания и оценим качество на отложенной части данных"
   ]
  },
  {
   "cell_type": "code",
   "execution_count": 10,
   "id": "ad7d1eec",
   "metadata": {
    "execution": {
     "iopub.execute_input": "2022-02-13T23:28:36.261354Z",
     "iopub.status.busy": "2022-02-13T23:28:36.260637Z",
     "iopub.status.idle": "2022-02-13T23:28:36.574159Z",
     "shell.execute_reply": "2022-02-13T23:28:36.573534Z",
     "shell.execute_reply.started": "2022-02-13T22:55:33.749369Z"
    },
    "papermill": {
     "duration": 0.362593,
     "end_time": "2022-02-13T23:28:36.574368",
     "exception": false,
     "start_time": "2022-02-13T23:28:36.211775",
     "status": "completed"
    },
    "tags": []
   },
   "outputs": [],
   "source": [
    "y_pred = rf_model.predict_proba(X_valid)[:, 1]"
   ]
  },
  {
   "cell_type": "code",
   "execution_count": 11,
   "id": "0b058e6c",
   "metadata": {
    "execution": {
     "iopub.execute_input": "2022-02-13T23:28:36.672682Z",
     "iopub.status.busy": "2022-02-13T23:28:36.671834Z",
     "iopub.status.idle": "2022-02-13T23:28:36.680646Z",
     "shell.execute_reply": "2022-02-13T23:28:36.680073Z",
     "shell.execute_reply.started": "2022-02-13T22:55:34.515933Z"
    },
    "papermill": {
     "duration": 0.060422,
     "end_time": "2022-02-13T23:28:36.680786",
     "exception": false,
     "start_time": "2022-02-13T23:28:36.620364",
     "status": "completed"
    },
    "tags": []
   },
   "outputs": [
    {
     "name": "stdout",
     "output_type": "stream",
     "text": [
      "ROC-AUC score на отложенной части: 0.7754387258058622\n"
     ]
    }
   ],
   "source": [
    "valid_score = roc_auc_score(y_valid, y_pred)\n",
    "print(\"ROC-AUC score на отложенной части:\", valid_score)"
   ]
  },
  {
   "cell_type": "markdown",
   "id": "ef573be5",
   "metadata": {
    "papermill": {
     "duration": 0.045999,
     "end_time": "2022-02-13T23:28:36.773926",
     "exception": false,
     "start_time": "2022-02-13T23:28:36.727927",
     "status": "completed"
    },
    "tags": []
   },
   "source": [
    "Посмотрим на accuracy:"
   ]
  },
  {
   "cell_type": "code",
   "execution_count": 12,
   "id": "445ac67c",
   "metadata": {
    "execution": {
     "iopub.execute_input": "2022-02-13T23:28:36.872122Z",
     "iopub.status.busy": "2022-02-13T23:28:36.871439Z",
     "iopub.status.idle": "2022-02-13T23:28:36.877567Z",
     "shell.execute_reply": "2022-02-13T23:28:36.877051Z",
     "shell.execute_reply.started": "2022-02-13T22:55:46.570239Z"
    },
    "papermill": {
     "duration": 0.057673,
     "end_time": "2022-02-13T23:28:36.877714",
     "exception": false,
     "start_time": "2022-02-13T23:28:36.820041",
     "status": "completed"
    },
    "tags": []
   },
   "outputs": [
    {
     "name": "stdout",
     "output_type": "stream",
     "text": [
      "Accuracy score (p > 0.5) на отложенной части: 0.6885383806519453\n"
     ]
    }
   ],
   "source": [
    "valid_accuracy = accuracy_score(y_valid, y_pred > 0.5)\n",
    "print(\"Accuracy score (p > 0.5) на отложенной части:\", valid_accuracy)"
   ]
  },
  {
   "cell_type": "markdown",
   "id": "d0f43906",
   "metadata": {
    "papermill": {
     "duration": 0.046013,
     "end_time": "2022-02-13T23:28:36.970038",
     "exception": false,
     "start_time": "2022-02-13T23:28:36.924025",
     "status": "completed"
    },
    "tags": []
   },
   "source": [
    "## <left>Посылка"
   ]
  },
  {
   "cell_type": "code",
   "execution_count": 89,
   "id": "bff9cb80",
   "metadata": {
    "execution": {
     "iopub.execute_input": "2022-02-13T23:28:37.066588Z",
     "iopub.status.busy": "2022-02-13T23:28:37.065534Z",
     "iopub.status.idle": "2022-02-13T23:28:37.589671Z",
     "shell.execute_reply": "2022-02-13T23:28:37.589074Z",
     "shell.execute_reply.started": "2022-02-13T22:55:54.636469Z"
    },
    "papermill": {
     "duration": 0.573434,
     "end_time": "2022-02-13T23:28:37.589831",
     "exception": false,
     "start_time": "2022-02-13T23:28:37.016397",
     "status": "completed"
    },
    "tags": []
   },
   "outputs": [],
   "source": [
    "df_test_features = pd.read_csv(os.path.join(PATH_TO_DATA, \"test_data.csv\"), \n",
    "                                   index_col=\"match_id_hash\")\n",
    "\n",
    "# X_test = df_test_features.values\n",
    "# y_test_pred = rf_model.predict_proba(X_test)[:, 1]\n",
    "\n",
    "# df_submission = pd.DataFrame({\"radiant_win_prob\": y_test_pred}, \n",
    "#                                  index=df_test_features.index)"
   ]
  },
  {
   "cell_type": "code",
   "execution_count": 14,
   "id": "57e3b96f",
   "metadata": {
    "execution": {
     "iopub.execute_input": "2022-02-13T23:28:37.693733Z",
     "iopub.status.busy": "2022-02-13T23:28:37.693041Z",
     "iopub.status.idle": "2022-02-13T23:28:37.732667Z",
     "shell.execute_reply": "2022-02-13T23:28:37.731983Z",
     "shell.execute_reply.started": "2022-02-13T22:55:58.549750Z"
    },
    "papermill": {
     "duration": 0.09114,
     "end_time": "2022-02-13T23:28:37.732839",
     "exception": false,
     "start_time": "2022-02-13T23:28:37.641699",
     "status": "completed"
    },
    "tags": []
   },
   "outputs": [
    {
     "name": "stdout",
     "output_type": "stream",
     "text": [
      "Файл посылки сохранен, как: submission_2023-03-30_18-38-01.csv\n"
     ]
    }
   ],
   "source": [
    "submission_filename = \"submission_{}.csv\".format(\n",
    "    datetime.datetime.now().strftime(\"%Y-%m-%d_%H-%M-%S\"))\n",
    "df_submission.to_csv(submission_filename)\n",
    "print(\"Файл посылки сохранен, как: {}\".format(submission_filename))"
   ]
  },
  {
   "cell_type": "markdown",
   "id": "ec960c57",
   "metadata": {
    "papermill": {
     "duration": 0.046122,
     "end_time": "2022-02-13T23:28:37.825794",
     "exception": false,
     "start_time": "2022-02-13T23:28:37.779672",
     "status": "completed"
    },
    "tags": []
   },
   "source": [
    "## <left>Кросс-валидация"
   ]
  },
  {
   "cell_type": "markdown",
   "id": "8cdb8acb",
   "metadata": {
    "papermill": {
     "duration": 0.047147,
     "end_time": "2022-02-13T23:28:37.919675",
     "exception": false,
     "start_time": "2022-02-13T23:28:37.872528",
     "status": "completed"
    },
    "tags": []
   },
   "source": [
    "Во многих случаях кросс-валидация оказывается лучше простого разбиения на test и train. Воспользуемся `ShuffleSplit` чтобы создать 5 70%/30% наборов данных."
   ]
  },
  {
   "cell_type": "code",
   "execution_count": 7,
   "id": "bf4f174d",
   "metadata": {
    "execution": {
     "iopub.execute_input": "2022-02-13T23:28:38.018868Z",
     "iopub.status.busy": "2022-02-13T23:28:38.018165Z",
     "iopub.status.idle": "2022-02-13T23:28:38.021030Z",
     "shell.execute_reply": "2022-02-13T23:28:38.020500Z",
     "shell.execute_reply.started": "2022-02-13T22:56:24.879618Z"
    },
    "papermill": {
     "duration": 0.054303,
     "end_time": "2022-02-13T23:28:38.021177",
     "exception": false,
     "start_time": "2022-02-13T23:28:37.966874",
     "status": "completed"
    },
    "tags": []
   },
   "outputs": [],
   "source": [
    "cv = ShuffleSplit(n_splits=5, test_size=0.3, random_state=SEED)"
   ]
  },
  {
   "cell_type": "code",
   "execution_count": 8,
   "id": "29132cd0",
   "metadata": {
    "execution": {
     "iopub.execute_input": "2022-02-13T23:28:38.124812Z",
     "iopub.status.busy": "2022-02-13T23:28:38.123342Z",
     "iopub.status.idle": "2022-02-13T23:29:32.720410Z",
     "shell.execute_reply": "2022-02-13T23:29:32.720941Z",
     "shell.execute_reply.started": "2022-02-13T22:56:42.398744Z"
    },
    "papermill": {
     "duration": 54.652614,
     "end_time": "2022-02-13T23:29:32.721125",
     "exception": false,
     "start_time": "2022-02-13T23:28:38.068511",
     "status": "completed"
    },
    "tags": []
   },
   "outputs": [
    {
     "name": "stdout",
     "output_type": "stream",
     "text": [
      "CPU times: user 125 µs, sys: 495 µs, total: 620 µs\n",
      "Wall time: 627 µs\n"
     ]
    }
   ],
   "source": [
    "%%time\n",
    "rf_model = RandomForestClassifier(n_estimators=300, max_depth=7, n_jobs=-1, random_state=SEED)\n",
    "cv_scores_rf = cross_val_score(rf_model, X, y, cv=cv, scoring=\"roc_auc\")"
   ]
  },
  {
   "cell_type": "code",
   "execution_count": 17,
   "id": "b3ba3af9",
   "metadata": {
    "execution": {
     "iopub.execute_input": "2022-02-13T23:29:32.819094Z",
     "iopub.status.busy": "2022-02-13T23:29:32.818432Z",
     "iopub.status.idle": "2022-02-13T23:29:32.823613Z",
     "shell.execute_reply": "2022-02-13T23:29:32.824240Z",
     "shell.execute_reply.started": "2022-02-13T22:57:33.757348Z"
    },
    "papermill": {
     "duration": 0.056037,
     "end_time": "2022-02-13T23:29:32.824411",
     "exception": false,
     "start_time": "2022-02-13T23:29:32.768374",
     "status": "completed"
    },
    "tags": []
   },
   "outputs": [
    {
     "data": {
      "text/plain": [
       "array([0.77543873, 0.77343884, 0.76649967, 0.7722681 , 0.77246001])"
      ]
     },
     "execution_count": 17,
     "metadata": {},
     "output_type": "execute_result"
    }
   ],
   "source": [
    "cv_scores_rf"
   ]
  },
  {
   "cell_type": "code",
   "execution_count": 18,
   "id": "c21c4b33",
   "metadata": {
    "execution": {
     "iopub.execute_input": "2022-02-13T23:29:32.923448Z",
     "iopub.status.busy": "2022-02-13T23:29:32.922737Z",
     "iopub.status.idle": "2022-02-13T23:29:32.928466Z",
     "shell.execute_reply": "2022-02-13T23:29:32.927601Z",
     "shell.execute_reply.started": "2022-02-13T22:57:38.647385Z"
    },
    "papermill": {
     "duration": 0.056776,
     "end_time": "2022-02-13T23:29:32.928669",
     "exception": false,
     "start_time": "2022-02-13T23:29:32.871893",
     "status": "completed"
    },
    "tags": []
   },
   "outputs": [
    {
     "name": "stdout",
     "output_type": "stream",
     "text": [
      "Среднее значение ROC-AUC на кросс-валидации: 0.7720210676055513\n"
     ]
    }
   ],
   "source": [
    "print(f\"Среднее значение ROC-AUC на кросс-валидации: {cv_scores_rf.mean()}\")"
   ]
  },
  {
   "cell_type": "markdown",
   "id": "ff5f2dd3",
   "metadata": {
    "papermill": {
     "duration": 0.04757,
     "end_time": "2022-02-13T23:29:33.025145",
     "exception": false,
     "start_time": "2022-02-13T23:29:32.977575",
     "status": "completed"
    },
    "tags": []
   },
   "source": [
    "## <left>Что есть в json файлах?"
   ]
  },
  {
   "cell_type": "markdown",
   "id": "d8622ed9",
   "metadata": {
    "papermill": {
     "duration": 0.048776,
     "end_time": "2022-02-13T23:29:33.122475",
     "exception": false,
     "start_time": "2022-02-13T23:29:33.073699",
     "status": "completed"
    },
    "tags": []
   },
   "source": [
    "Описание сырых данных можно найти в `train_matches.jsonl` и `test_matches.jsonl`. Каждый файл содержит одну запись для каждого матча в [JSON](https://en.wikipedia.org/wiki/JSON) формате. Его легко превратить в питоновский объект при помощи метода `json.loads`."
   ]
  },
  {
   "cell_type": "code",
   "execution_count": 19,
   "id": "f95989f7",
   "metadata": {
    "execution": {
     "iopub.execute_input": "2022-02-13T23:29:33.224143Z",
     "iopub.status.busy": "2022-02-13T23:29:33.223346Z",
     "iopub.status.idle": "2022-02-13T23:29:33.684926Z",
     "shell.execute_reply": "2022-02-13T23:29:33.684347Z",
     "shell.execute_reply.started": "2022-02-13T22:57:44.043572Z"
    },
    "papermill": {
     "duration": 0.514659,
     "end_time": "2022-02-13T23:29:33.685074",
     "exception": false,
     "start_time": "2022-02-13T23:29:33.170415",
     "status": "completed"
    },
    "tags": []
   },
   "outputs": [],
   "source": [
    "with open(os.path.join(PATH_TO_DATA, \"train_raw_data.jsonl\")) as fin:\n",
    "    # прочтем 419 строку\n",
    "    for i in range(419):\n",
    "        line = fin.readline()\n",
    "    \n",
    "    # переведем JSON в питоновский словарь \n",
    "    match = json.loads(line)"
   ]
  },
  {
   "cell_type": "code",
   "execution_count": 20,
   "id": "472abcf6",
   "metadata": {
    "execution": {
     "iopub.execute_input": "2022-02-13T23:29:33.789538Z",
     "iopub.status.busy": "2022-02-13T23:29:33.788717Z",
     "iopub.status.idle": "2022-02-13T23:29:33.792009Z",
     "shell.execute_reply": "2022-02-13T23:29:33.792529Z",
     "shell.execute_reply.started": "2022-02-13T22:57:45.161882Z"
    },
    "papermill": {
     "duration": 0.057975,
     "end_time": "2022-02-13T23:29:33.792713",
     "exception": false,
     "start_time": "2022-02-13T23:29:33.734738",
     "status": "completed"
    },
    "tags": []
   },
   "outputs": [
    {
     "data": {
      "text/plain": [
       "(0, 5, 5)"
      ]
     },
     "execution_count": 20,
     "metadata": {},
     "output_type": "execute_result"
    }
   ],
   "source": [
    "player = match[\"players\"][9]\n",
    "player[\"kills\"], player[\"deaths\"], player[\"assists\"]"
   ]
  },
  {
   "cell_type": "markdown",
   "id": "0aefe571",
   "metadata": {
    "papermill": {
     "duration": 0.047795,
     "end_time": "2022-02-13T23:29:33.888962",
     "exception": false,
     "start_time": "2022-02-13T23:29:33.841167",
     "status": "completed"
    },
    "tags": []
   },
   "source": [
    "KDA - может быть неплохим признаком, этот показатель считается как:\n",
    "    \n",
    "<center>$KDA = \\frac{K + A}{D}$"
   ]
  },
  {
   "cell_type": "markdown",
   "id": "980c7310",
   "metadata": {
    "papermill": {
     "duration": 0.047726,
     "end_time": "2022-02-13T23:29:33.984909",
     "exception": false,
     "start_time": "2022-02-13T23:29:33.937183",
     "status": "completed"
    },
    "tags": []
   },
   "source": [
    "Информация о количестве использованных способностей:"
   ]
  },
  {
   "cell_type": "code",
   "execution_count": 21,
   "id": "545de039",
   "metadata": {
    "execution": {
     "iopub.execute_input": "2022-02-13T23:29:34.088460Z",
     "iopub.status.busy": "2022-02-13T23:29:34.087529Z",
     "iopub.status.idle": "2022-02-13T23:29:34.091718Z",
     "shell.execute_reply": "2022-02-13T23:29:34.091168Z",
     "shell.execute_reply.started": "2022-02-13T22:57:47.094707Z"
    },
    "papermill": {
     "duration": 0.058567,
     "end_time": "2022-02-13T23:29:34.091868",
     "exception": false,
     "start_time": "2022-02-13T23:29:34.033301",
     "status": "completed"
    },
    "tags": []
   },
   "outputs": [
    {
     "data": {
      "text/plain": [
       "{'treant_living_armor': 52, 'treant_leech_seed': 5, 'treant_overgrowth': 5}"
      ]
     },
     "execution_count": 21,
     "metadata": {},
     "output_type": "execute_result"
    }
   ],
   "source": [
    "player[\"ability_uses\"]"
   ]
  },
  {
   "cell_type": "code",
   "execution_count": 22,
   "id": "1c908533",
   "metadata": {
    "execution": {
     "iopub.execute_input": "2022-02-13T23:29:34.201476Z",
     "iopub.status.busy": "2022-02-13T23:29:34.200495Z",
     "iopub.status.idle": "2022-02-13T23:29:34.636952Z",
     "shell.execute_reply": "2022-02-13T23:29:34.637463Z",
     "shell.execute_reply.started": "2022-02-13T22:57:52.249048Z"
    },
    "papermill": {
     "duration": 0.497079,
     "end_time": "2022-02-13T23:29:34.637657",
     "exception": false,
     "start_time": "2022-02-13T23:29:34.140578",
     "status": "completed"
    },
    "tags": []
   },
   "outputs": [
    {
     "data": {
      "image/png": "[encoded data removed]",
      "text/plain": [
       "<Figure size 1200x800 with 1 Axes>"
      ]
     },
     "metadata": {},
     "output_type": "display_data"
    }
   ],
   "source": [
    "for i, player in enumerate(match[\"players\"]):\n",
    "    plt.plot(player[\"times\"], player[\"xp_t\"], label=str(i+1))\n",
    "\n",
    "plt.legend()\n",
    "plt.xlabel(\"Time, s\")\n",
    "plt.ylabel(\"XP\")\n",
    "plt.title(\"XP change for all players\");"
   ]
  },
  {
   "cell_type": "markdown",
   "id": "e6fbd9c6",
   "metadata": {
    "papermill": {
     "duration": 0.052753,
     "end_time": "2022-02-13T23:29:34.742623",
     "exception": false,
     "start_time": "2022-02-13T23:29:34.689870",
     "status": "completed"
    },
    "tags": []
   },
   "source": [
    "#### Сделаем чтение файла с сырыми данными и добавление новых признаков удобным"
   ]
  },
  {
   "cell_type": "markdown",
   "id": "5109234f",
   "metadata": {
    "papermill": {
     "duration": 0.051195,
     "end_time": "2022-02-13T23:29:34.845611",
     "exception": false,
     "start_time": "2022-02-13T23:29:34.794416",
     "status": "completed"
    },
    "tags": []
   },
   "source": [
    "В этот раз для чтение `json` файлов лучше использовать библиотеку `ujson`, иначе все будет слишком долго :("
   ]
  },
  {
   "cell_type": "code",
   "execution_count": 9,
   "id": "360ea7a1",
   "metadata": {
    "execution": {
     "iopub.execute_input": "2022-02-13T23:29:34.952234Z",
     "iopub.status.busy": "2022-02-13T23:29:34.951534Z",
     "iopub.status.idle": "2022-02-13T23:29:34.966771Z",
     "shell.execute_reply": "2022-02-13T23:29:34.966081Z",
     "shell.execute_reply.started": "2022-02-13T22:57:54.823795Z"
    },
    "papermill": {
     "duration": 0.069503,
     "end_time": "2022-02-13T23:29:34.966941",
     "exception": false,
     "start_time": "2022-02-13T23:29:34.897438",
     "status": "completed"
    },
    "tags": []
   },
   "outputs": [],
   "source": [
    "try:\n",
    "    import ujson as json\n",
    "except ModuleNotFoundError:\n",
    "    import json\n",
    "    print (\"Подумайте об установке ujson, чтобы работать с JSON объектами быстрее\")\n",
    "    \n",
    "try:\n",
    "    from tqdm.notebook import tqdm\n",
    "except ModuleNotFoundError:\n",
    "    tqdm_notebook = lambda x: x\n",
    "    print (\"Подумайте об установке tqdm, чтобы следить за прогрессом\")"
   ]
  },
  {
   "cell_type": "code",
   "execution_count": 10,
   "id": "8539e8f8",
   "metadata": {
    "execution": {
     "iopub.execute_input": "2022-02-13T23:29:34.952234Z",
     "iopub.status.busy": "2022-02-13T23:29:34.951534Z",
     "iopub.status.idle": "2022-02-13T23:29:34.966771Z",
     "shell.execute_reply": "2022-02-13T23:29:34.966081Z",
     "shell.execute_reply.started": "2022-02-13T22:57:54.823795Z"
    },
    "papermill": {
     "duration": 0.069503,
     "end_time": "2022-02-13T23:29:34.966941",
     "exception": false,
     "start_time": "2022-02-13T23:29:34.897438",
     "status": "completed"
    },
    "tags": []
   },
   "outputs": [],
   "source": [
    "    \n",
    "def read_matches(matches_file, total_matches=31698, n_matches_to_read=None):\n",
    "    \"\"\"\n",
    "    Аргумент\n",
    "    -------\n",
    "    matches_file: JSON файл с сырыми данными\n",
    "    \n",
    "    Результат\n",
    "    ---------\n",
    "    Возвращает записи о каждом матче\n",
    "    \"\"\"\n",
    "    \n",
    "    if n_matches_to_read is None:\n",
    "        n_matches_to_read = total_matches\n",
    "        \n",
    "    c = 0\n",
    "    with open(matches_file, encoding='utf-8') as fin:\n",
    "        for line in tqdm(fin, total=total_matches):\n",
    "            if c >= n_matches_to_read:\n",
    "                break\n",
    "            else:\n",
    "                c += 1\n",
    "                yield json.loads(line)"
   ]
  },
  {
   "cell_type": "markdown",
   "id": "de8f8fac",
   "metadata": {
    "papermill": {
     "duration": 0.052275,
     "end_time": "2022-02-13T23:29:35.070860",
     "exception": false,
     "start_time": "2022-02-13T23:29:35.018585",
     "status": "completed"
    },
    "tags": []
   },
   "source": [
    "#### Чтение данных в цикле\n",
    "\n",
    "Чтение всех данных занимает 1-2 минуты, поэтому для начала можно попробовать следующее:\n",
    "\n",
    "1. Читать 10-50 игр\n",
    "2. Написать код для работы с этими JSON объектами\n",
    "3. Убедиться, что все работает\n",
    "4. Запустить код на всем датасете\n",
    "5. Сохранить результат в `pickle` файл, чтобы в следующий раз не переделывать все заново"
   ]
  },
  {
   "cell_type": "markdown",
   "id": "4ba6832c",
   "metadata": {
    "papermill": {
     "duration": 0.051565,
     "end_time": "2022-02-13T23:29:35.175139",
     "exception": false,
     "start_time": "2022-02-13T23:29:35.123574",
     "status": "completed"
    },
    "tags": []
   },
   "source": [
    "## <left>Feature engineering"
   ]
  },
  {
   "cell_type": "markdown",
   "id": "d737b521",
   "metadata": {
    "papermill": {
     "duration": 0.051315,
     "end_time": "2022-02-13T23:29:35.278664",
     "exception": false,
     "start_time": "2022-02-13T23:29:35.227349",
     "status": "completed"
    },
    "tags": []
   },
   "source": [
    "Напишем функцию, которая поможет нам легче добавлять новые признаки."
   ]
  },
  {
   "cell_type": "code",
   "execution_count": 11,
   "id": "55c0bbf0",
   "metadata": {
    "execution": {
     "iopub.execute_input": "2022-02-13T23:29:35.392115Z",
     "iopub.status.busy": "2022-02-13T23:29:35.391360Z",
     "iopub.status.idle": "2022-02-13T23:29:35.393224Z",
     "shell.execute_reply": "2022-02-13T23:29:35.393803Z",
     "shell.execute_reply.started": "2022-02-13T22:57:58.423089Z"
    },
    "papermill": {
     "duration": 0.063047,
     "end_time": "2022-02-13T23:29:35.393977",
     "exception": false,
     "start_time": "2022-02-13T23:29:35.330930",
     "status": "completed"
    },
    "tags": []
   },
   "outputs": [],
   "source": [
    "def add_new_features(df_features, matches_file):\n",
    "    \"\"\"\n",
    "    Аргуенты\n",
    "    -------\n",
    "    df_features: таблица с данными\n",
    "    matches_file: JSON файл с сырыми данными\n",
    "    \n",
    "    Результат\n",
    "    ---------\n",
    "    Добавляет новые признаки в таблицу\n",
    "    \"\"\"\n",
    "    \n",
    "    for match in read_matches(matches_file):\n",
    "        match_id_hash = match['match_id_hash']\n",
    "\n",
    "        # Посчитаем количество разрушенных вышек обеими командами\n",
    "        radiant_tower_kills = 0\n",
    "        dire_tower_kills = 0\n",
    "        for objective in match[\"objectives\"]:\n",
    "            if objective[\"type\"] == \"CHAT_MESSAGE_TOWER_KILL\":\n",
    "                if objective[\"team\"] == 2:\n",
    "                    radiant_tower_kills += 1\n",
    "                if objective[\"team\"] == 3:\n",
    "                    dire_tower_kills += 1\n",
    "\n",
    "        df_features.loc[match_id_hash, \"radiant_tower_kills\"] = radiant_tower_kills\n",
    "        df_features.loc[match_id_hash, \"dire_tower_kills\"] = dire_tower_kills\n",
    "        df_features.loc[match_id_hash, \"diff_tower_kills\"] = radiant_tower_kills - dire_tower_kills\n",
    "        \n",
    "        # ... (/¯◡ ‿ ◡)/¯☆*:・ﾟ добавляем новые признаки ..."
   ]
  },
  {
   "cell_type": "code",
   "execution_count": null,
   "id": "06478e17",
   "metadata": {
    "execution": {
     "iopub.execute_input": "2022-02-13T23:29:35.500607Z",
     "iopub.status.busy": "2022-02-13T23:29:35.499947Z",
     "iopub.status.idle": "2022-02-13T23:31:15.695377Z",
     "shell.execute_reply": "2022-02-13T23:31:15.695887Z",
     "shell.execute_reply.started": "2022-02-13T22:58:02.081870Z"
    },
    "papermill": {
     "duration": 100.250385,
     "end_time": "2022-02-13T23:31:15.696073",
     "exception": false,
     "start_time": "2022-02-13T23:29:35.445688",
     "status": "completed"
    },
    "tags": []
   },
   "outputs": [],
   "source": [
    "# Скопируем таблицу с признаками\n",
    "df_train_features_extended = df_train_features.copy()\n",
    "\n",
    "# Добавим новые\n",
    "add_new_features(df_train_features_extended, \n",
    "                 os.path.join(PATH_TO_DATA, \n",
    "                              \"train_raw_data.jsonl\"))"
   ]
  },
  {
   "cell_type": "code",
   "execution_count": 91,
   "id": "8dffb1db",
   "metadata": {
    "execution": {
     "iopub.execute_input": "2022-02-13T23:29:35.500607Z",
     "iopub.status.busy": "2022-02-13T23:29:35.499947Z",
     "iopub.status.idle": "2022-02-13T23:31:15.695377Z",
     "shell.execute_reply": "2022-02-13T23:31:15.695887Z",
     "shell.execute_reply.started": "2022-02-13T22:58:02.081870Z"
    },
    "papermill": {
     "duration": 100.250385,
     "end_time": "2022-02-13T23:31:15.696073",
     "exception": false,
     "start_time": "2022-02-13T23:29:35.445688",
     "status": "completed"
    },
    "tags": []
   },
   "outputs": [
    {
     "data": {
      "application/vnd.jupyter.widget-view+json": {
       "model_id": "6536a19587794d95a905ddf3e6ff9333",
       "version_major": 2,
       "version_minor": 0
      },
      "text/plain": [
       "  0%|          | 0/31698 [00:00<?, ?it/s]"
      ]
     },
     "metadata": {},
     "output_type": "display_data"
    }
   ],
   "source": [
    "df_test_features_extended = df_test_features.copy()\n",
    "\n",
    "\n",
    "add_new_features(df_test_features_extended, \n",
    "                 os.path.join(PATH_TO_DATA, \n",
    "                              \"test_raw_data.jsonl\"))"
   ]
  },
  {
   "cell_type": "code",
   "execution_count": 27,
   "id": "341c0a53",
   "metadata": {
    "execution": {
     "iopub.execute_input": "2022-02-13T23:31:15.806982Z",
     "iopub.status.busy": "2022-02-13T23:31:15.805915Z",
     "iopub.status.idle": "2022-02-13T23:31:15.829554Z",
     "shell.execute_reply": "2022-02-13T23:31:15.830087Z",
     "shell.execute_reply.started": "2022-02-13T23:00:24.658661Z"
    },
    "papermill": {
     "duration": 0.08167,
     "end_time": "2022-02-13T23:31:15.830290",
     "exception": false,
     "start_time": "2022-02-13T23:31:15.748620",
     "status": "completed"
    },
    "tags": []
   },
   "outputs": [
    {
     "data": {
      "text/html": [
       "<div>\n",
       "<style scoped>\n",
       "    .dataframe tbody tr th:only-of-type {\n",
       "        vertical-align: middle;\n",
       "    }\n",
       "\n",
       "    .dataframe tbody tr th {\n",
       "        vertical-align: top;\n",
       "    }\n",
       "\n",
       "    .dataframe thead th {\n",
       "        text-align: right;\n",
       "    }\n",
       "</style>\n",
       "<table border=\"1\" class=\"dataframe\">\n",
       "  <thead>\n",
       "    <tr style=\"text-align: right;\">\n",
       "      <th></th>\n",
       "      <th>game_time</th>\n",
       "      <th>game_mode</th>\n",
       "      <th>lobby_type</th>\n",
       "      <th>objectives_len</th>\n",
       "      <th>chat_len</th>\n",
       "      <th>r1_hero_id</th>\n",
       "      <th>r1_kills</th>\n",
       "      <th>r1_deaths</th>\n",
       "      <th>r1_assists</th>\n",
       "      <th>r1_denies</th>\n",
       "      <th>...</th>\n",
       "      <th>d5_rune_pickups</th>\n",
       "      <th>d5_firstblood_claimed</th>\n",
       "      <th>d5_teamfight_participation</th>\n",
       "      <th>d5_towers_killed</th>\n",
       "      <th>d5_roshans_killed</th>\n",
       "      <th>d5_obs_placed</th>\n",
       "      <th>d5_sen_placed</th>\n",
       "      <th>radiant_tower_kills</th>\n",
       "      <th>dire_tower_kills</th>\n",
       "      <th>diff_tower_kills</th>\n",
       "    </tr>\n",
       "    <tr>\n",
       "      <th>match_id_hash</th>\n",
       "      <th></th>\n",
       "      <th></th>\n",
       "      <th></th>\n",
       "      <th></th>\n",
       "      <th></th>\n",
       "      <th></th>\n",
       "      <th></th>\n",
       "      <th></th>\n",
       "      <th></th>\n",
       "      <th></th>\n",
       "      <th></th>\n",
       "      <th></th>\n",
       "      <th></th>\n",
       "      <th></th>\n",
       "      <th></th>\n",
       "      <th></th>\n",
       "      <th></th>\n",
       "      <th></th>\n",
       "      <th></th>\n",
       "      <th></th>\n",
       "      <th></th>\n",
       "    </tr>\n",
       "  </thead>\n",
       "  <tbody>\n",
       "    <tr>\n",
       "      <th>b9c57c450ce74a2af79c9ce96fac144d</th>\n",
       "      <td>658</td>\n",
       "      <td>4</td>\n",
       "      <td>0</td>\n",
       "      <td>3</td>\n",
       "      <td>10</td>\n",
       "      <td>15</td>\n",
       "      <td>7</td>\n",
       "      <td>2</td>\n",
       "      <td>0</td>\n",
       "      <td>7</td>\n",
       "      <td>...</td>\n",
       "      <td>0</td>\n",
       "      <td>0</td>\n",
       "      <td>0.00</td>\n",
       "      <td>0</td>\n",
       "      <td>0</td>\n",
       "      <td>0</td>\n",
       "      <td>0</td>\n",
       "      <td>2.0</td>\n",
       "      <td>0.0</td>\n",
       "      <td>2.0</td>\n",
       "    </tr>\n",
       "    <tr>\n",
       "      <th>6db558535151ea18ca70a6892197db41</th>\n",
       "      <td>21</td>\n",
       "      <td>23</td>\n",
       "      <td>0</td>\n",
       "      <td>0</td>\n",
       "      <td>0</td>\n",
       "      <td>101</td>\n",
       "      <td>0</td>\n",
       "      <td>0</td>\n",
       "      <td>0</td>\n",
       "      <td>0</td>\n",
       "      <td>...</td>\n",
       "      <td>0</td>\n",
       "      <td>0</td>\n",
       "      <td>0.00</td>\n",
       "      <td>0</td>\n",
       "      <td>0</td>\n",
       "      <td>0</td>\n",
       "      <td>0</td>\n",
       "      <td>0.0</td>\n",
       "      <td>0.0</td>\n",
       "      <td>0.0</td>\n",
       "    </tr>\n",
       "    <tr>\n",
       "      <th>19c39fe2af2b547e48708ca005c6ae74</th>\n",
       "      <td>160</td>\n",
       "      <td>22</td>\n",
       "      <td>7</td>\n",
       "      <td>0</td>\n",
       "      <td>0</td>\n",
       "      <td>57</td>\n",
       "      <td>0</td>\n",
       "      <td>0</td>\n",
       "      <td>0</td>\n",
       "      <td>1</td>\n",
       "      <td>...</td>\n",
       "      <td>0</td>\n",
       "      <td>0</td>\n",
       "      <td>0.00</td>\n",
       "      <td>0</td>\n",
       "      <td>0</td>\n",
       "      <td>0</td>\n",
       "      <td>0</td>\n",
       "      <td>0.0</td>\n",
       "      <td>0.0</td>\n",
       "      <td>0.0</td>\n",
       "    </tr>\n",
       "    <tr>\n",
       "      <th>c96d629dc0c39f0c616d1949938a6ba6</th>\n",
       "      <td>1016</td>\n",
       "      <td>22</td>\n",
       "      <td>0</td>\n",
       "      <td>1</td>\n",
       "      <td>0</td>\n",
       "      <td>119</td>\n",
       "      <td>0</td>\n",
       "      <td>3</td>\n",
       "      <td>3</td>\n",
       "      <td>5</td>\n",
       "      <td>...</td>\n",
       "      <td>3</td>\n",
       "      <td>0</td>\n",
       "      <td>0.25</td>\n",
       "      <td>0</td>\n",
       "      <td>0</td>\n",
       "      <td>3</td>\n",
       "      <td>0</td>\n",
       "      <td>0.0</td>\n",
       "      <td>0.0</td>\n",
       "      <td>0.0</td>\n",
       "    </tr>\n",
       "    <tr>\n",
       "      <th>156c88bff4e9c4668b0f53df3d870f1b</th>\n",
       "      <td>582</td>\n",
       "      <td>22</td>\n",
       "      <td>7</td>\n",
       "      <td>2</td>\n",
       "      <td>2</td>\n",
       "      <td>12</td>\n",
       "      <td>3</td>\n",
       "      <td>1</td>\n",
       "      <td>2</td>\n",
       "      <td>9</td>\n",
       "      <td>...</td>\n",
       "      <td>0</td>\n",
       "      <td>1</td>\n",
       "      <td>0.50</td>\n",
       "      <td>0</td>\n",
       "      <td>0</td>\n",
       "      <td>3</td>\n",
       "      <td>0</td>\n",
       "      <td>0.0</td>\n",
       "      <td>1.0</td>\n",
       "      <td>-1.0</td>\n",
       "    </tr>\n",
       "  </tbody>\n",
       "</table>\n",
       "<p>5 rows × 248 columns</p>\n",
       "</div>"
      ],
      "text/plain": [
       "                                  game_time  game_mode  lobby_type  \\\n",
       "match_id_hash                                                        \n",
       "b9c57c450ce74a2af79c9ce96fac144d        658          4           0   \n",
       "6db558535151ea18ca70a6892197db41         21         23           0   \n",
       "19c39fe2af2b547e48708ca005c6ae74        160         22           7   \n",
       "c96d629dc0c39f0c616d1949938a6ba6       1016         22           0   \n",
       "156c88bff4e9c4668b0f53df3d870f1b        582         22           7   \n",
       "\n",
       "                                  objectives_len  chat_len  r1_hero_id  \\\n",
       "match_id_hash                                                            \n",
       "b9c57c450ce74a2af79c9ce96fac144d               3        10          15   \n",
       "6db558535151ea18ca70a6892197db41               0         0         101   \n",
       "19c39fe2af2b547e48708ca005c6ae74               0         0          57   \n",
       "c96d629dc0c39f0c616d1949938a6ba6               1         0         119   \n",
       "156c88bff4e9c4668b0f53df3d870f1b               2         2          12   \n",
       "\n",
       "                                  r1_kills  r1_deaths  r1_assists  r1_denies  \\\n",
       "match_id_hash                                                                  \n",
       "b9c57c450ce74a2af79c9ce96fac144d         7          2           0          7   \n",
       "6db558535151ea18ca70a6892197db41         0          0           0          0   \n",
       "19c39fe2af2b547e48708ca005c6ae74         0          0           0          1   \n",
       "c96d629dc0c39f0c616d1949938a6ba6         0          3           3          5   \n",
       "156c88bff4e9c4668b0f53df3d870f1b         3          1           2          9   \n",
       "\n",
       "                                  ...  d5_rune_pickups  d5_firstblood_claimed  \\\n",
       "match_id_hash                     ...                                           \n",
       "b9c57c450ce74a2af79c9ce96fac144d  ...                0                      0   \n",
       "6db558535151ea18ca70a6892197db41  ...                0                      0   \n",
       "19c39fe2af2b547e48708ca005c6ae74  ...                0                      0   \n",
       "c96d629dc0c39f0c616d1949938a6ba6  ...                3                      0   \n",
       "156c88bff4e9c4668b0f53df3d870f1b  ...                0                      1   \n",
       "\n",
       "                                  d5_teamfight_participation  \\\n",
       "match_id_hash                                                  \n",
       "b9c57c450ce74a2af79c9ce96fac144d                        0.00   \n",
       "6db558535151ea18ca70a6892197db41                        0.00   \n",
       "19c39fe2af2b547e48708ca005c6ae74                        0.00   \n",
       "c96d629dc0c39f0c616d1949938a6ba6                        0.25   \n",
       "156c88bff4e9c4668b0f53df3d870f1b                        0.50   \n",
       "\n",
       "                                  d5_towers_killed  d5_roshans_killed  \\\n",
       "match_id_hash                                                           \n",
       "b9c57c450ce74a2af79c9ce96fac144d                 0                  0   \n",
       "6db558535151ea18ca70a6892197db41                 0                  0   \n",
       "19c39fe2af2b547e48708ca005c6ae74                 0                  0   \n",
       "c96d629dc0c39f0c616d1949938a6ba6                 0                  0   \n",
       "156c88bff4e9c4668b0f53df3d870f1b                 0                  0   \n",
       "\n",
       "                                  d5_obs_placed  d5_sen_placed  \\\n",
       "match_id_hash                                                    \n",
       "b9c57c450ce74a2af79c9ce96fac144d              0              0   \n",
       "6db558535151ea18ca70a6892197db41              0              0   \n",
       "19c39fe2af2b547e48708ca005c6ae74              0              0   \n",
       "c96d629dc0c39f0c616d1949938a6ba6              3              0   \n",
       "156c88bff4e9c4668b0f53df3d870f1b              3              0   \n",
       "\n",
       "                                  radiant_tower_kills  dire_tower_kills  \\\n",
       "match_id_hash                                                             \n",
       "b9c57c450ce74a2af79c9ce96fac144d                  2.0               0.0   \n",
       "6db558535151ea18ca70a6892197db41                  0.0               0.0   \n",
       "19c39fe2af2b547e48708ca005c6ae74                  0.0               0.0   \n",
       "c96d629dc0c39f0c616d1949938a6ba6                  0.0               0.0   \n",
       "156c88bff4e9c4668b0f53df3d870f1b                  0.0               1.0   \n",
       "\n",
       "                                  diff_tower_kills  \n",
       "match_id_hash                                       \n",
       "b9c57c450ce74a2af79c9ce96fac144d               2.0  \n",
       "6db558535151ea18ca70a6892197db41               0.0  \n",
       "19c39fe2af2b547e48708ca005c6ae74               0.0  \n",
       "c96d629dc0c39f0c616d1949938a6ba6               0.0  \n",
       "156c88bff4e9c4668b0f53df3d870f1b              -1.0  \n",
       "\n",
       "[5 rows x 248 columns]"
      ]
     },
     "execution_count": 27,
     "metadata": {},
     "output_type": "execute_result"
    }
   ],
   "source": [
    "df_train_features_extended.head()"
   ]
  },
  {
   "cell_type": "code",
   "execution_count": 28,
   "id": "f72d30f3",
   "metadata": {
    "execution": {
     "iopub.execute_input": "2022-02-13T23:31:15.940354Z",
     "iopub.status.busy": "2022-02-13T23:31:15.939295Z",
     "iopub.status.idle": "2022-02-13T23:32:55.255752Z",
     "shell.execute_reply": "2022-02-13T23:32:55.256364Z",
     "shell.execute_reply.started": "2022-02-13T23:00:39.716567Z"
    },
    "papermill": {
     "duration": 99.37327,
     "end_time": "2022-02-13T23:32:55.256572",
     "exception": false,
     "start_time": "2022-02-13T23:31:15.883302",
     "status": "completed"
    },
    "tags": []
   },
   "outputs": [
    {
     "name": "stdout",
     "output_type": "stream",
     "text": [
      "CPU times: user 149 ms, sys: 481 ms, total: 630 ms\n",
      "Wall time: 2min 3s\n"
     ]
    }
   ],
   "source": [
    "%%time\n",
    "cv_scores_base = cross_val_score(rf_model, X, y, cv=cv, scoring=\"roc_auc\", n_jobs=-1)\n",
    "cv_scores_extended = cross_val_score(rf_model, df_train_features_extended.values, y, \n",
    "                                     cv=cv, scoring=\"roc_auc\", n_jobs=-1)"
   ]
  },
  {
   "cell_type": "code",
   "execution_count": 29,
   "id": "b832ee4f",
   "metadata": {
    "execution": {
     "iopub.execute_input": "2022-02-13T23:32:55.369159Z",
     "iopub.status.busy": "2022-02-13T23:32:55.368145Z",
     "iopub.status.idle": "2022-02-13T23:32:55.371820Z",
     "shell.execute_reply": "2022-02-13T23:32:55.372356Z",
     "shell.execute_reply.started": "2022-02-13T23:02:14.824997Z"
    },
    "papermill": {
     "duration": 0.062721,
     "end_time": "2022-02-13T23:32:55.372536",
     "exception": false,
     "start_time": "2022-02-13T23:32:55.309815",
     "status": "completed"
    },
    "tags": []
   },
   "outputs": [
    {
     "name": "stdout",
     "output_type": "stream",
     "text": [
      "ROC-AUC на кросс-валидации для базовых признаков: 0.7720210676055513\n",
      "ROC-AUC на кросс-валидации для новых признаков: 0.778796825263235\n"
     ]
    }
   ],
   "source": [
    "print(f\"ROC-AUC на кросс-валидации для базовых признаков: {cv_scores_base.mean()}\")\n",
    "print(f\"ROC-AUC на кросс-валидации для новых признаков: {cv_scores_extended.mean()}\")"
   ]
  },
  {
   "cell_type": "markdown",
   "id": "d7aae25c",
   "metadata": {
    "papermill": {
     "duration": 0.053505,
     "end_time": "2022-02-13T23:32:55.479766",
     "exception": false,
     "start_time": "2022-02-13T23:32:55.426261",
     "status": "completed"
    },
    "tags": []
   },
   "source": [
    "Видно, что случайный лес стал работать немного лучше при добавлении новых признаков. A еще нужно, наверное, как-то по-умному закодировать категориальные признаки."
   ]
  },
  {
   "cell_type": "markdown",
   "id": "330c4355",
   "metadata": {
    "papermill": {
     "duration": 0.053776,
     "end_time": "2022-02-13T23:32:55.587047",
     "exception": false,
     "start_time": "2022-02-13T23:32:55.533271",
     "status": "completed"
    },
    "tags": []
   },
   "source": [
    "Дальше дело за малым. Добавляйте новые признаки, пробуйте другие методы, которые мы изучили, а также что-то интересное, что мы не прошли. Удачи!"
   ]
  },
  {
   "cell_type": "markdown",
   "id": "fa6b497d",
   "metadata": {},
   "source": [
    "# Приступим"
   ]
  },
  {
   "cell_type": "markdown",
   "id": "8e07401c",
   "metadata": {},
   "source": [
    "### Признаки для 1 игрока из готового датасета:"
   ]
  },
  {
   "cell_type": "code",
   "execution_count": 13,
   "id": "bd11d165",
   "metadata": {},
   "outputs": [
    {
     "data": {
      "text/plain": [
       "Index(['d5_denies', 'd5_gold', 'd5_lh', 'd5_xp', 'd5_health', 'd5_max_health',\n",
       "       'd5_max_mana', 'd5_level', 'd5_x', 'd5_y', 'd5_stuns',\n",
       "       'd5_creeps_stacked', 'd5_camps_stacked', 'd5_rune_pickups',\n",
       "       'd5_firstblood_claimed', 'd5_teamfight_participation',\n",
       "       'd5_towers_killed', 'd5_roshans_killed', 'd5_obs_placed'],\n",
       "      dtype='object')"
      ]
     },
     "execution_count": 13,
     "metadata": {},
     "output_type": "execute_result"
    }
   ],
   "source": [
    "df_train_features.columns[-20:-1]"
   ]
  },
  {
   "cell_type": "code",
   "execution_count": 14,
   "id": "1c75d307",
   "metadata": {},
   "outputs": [
    {
     "name": "stdout",
     "output_type": "stream",
     "text": [
      "<class 'pandas.core.frame.DataFrame'>\n",
      "Index: 31698 entries, b9c57c450ce74a2af79c9ce96fac144d to e2ca68ac1a6847f4a37f6c9c8ee8695b\n",
      "Data columns (total 24 columns):\n",
      " #   Column                      Non-Null Count  Dtype  \n",
      "---  ------                      --------------  -----  \n",
      " 0   r1_hero_id                  31698 non-null  int64  \n",
      " 1   r1_kills                    31698 non-null  int64  \n",
      " 2   r1_deaths                   31698 non-null  int64  \n",
      " 3   r1_assists                  31698 non-null  int64  \n",
      " 4   r1_denies                   31698 non-null  int64  \n",
      " 5   r1_gold                     31698 non-null  int64  \n",
      " 6   r1_lh                       31698 non-null  int64  \n",
      " 7   r1_xp                       31698 non-null  int64  \n",
      " 8   r1_health                   31698 non-null  int64  \n",
      " 9   r1_max_health               31698 non-null  int64  \n",
      " 10  r1_max_mana                 31698 non-null  float64\n",
      " 11  r1_level                    31698 non-null  int64  \n",
      " 12  r1_x                        31698 non-null  int64  \n",
      " 13  r1_y                        31698 non-null  int64  \n",
      " 14  r1_stuns                    31698 non-null  float64\n",
      " 15  r1_creeps_stacked           31698 non-null  int64  \n",
      " 16  r1_camps_stacked            31698 non-null  int64  \n",
      " 17  r1_rune_pickups             31698 non-null  int64  \n",
      " 18  r1_firstblood_claimed       31698 non-null  int64  \n",
      " 19  r1_teamfight_participation  31698 non-null  float64\n",
      " 20  r1_towers_killed            31698 non-null  int64  \n",
      " 21  r1_roshans_killed           31698 non-null  int64  \n",
      " 22  r1_obs_placed               31698 non-null  int64  \n",
      " 23  r1_sen_placed               31698 non-null  int64  \n",
      "dtypes: float64(3), int64(21)\n",
      "memory usage: 7.1+ MB\n"
     ]
    }
   ],
   "source": [
    "df_train_features.iloc[:, 5:29].info()"
   ]
  },
  {
   "cell_type": "code",
   "execution_count": 15,
   "id": "410e0a8c",
   "metadata": {},
   "outputs": [
    {
     "data": {
      "text/html": [
       "<div>\n",
       "<style scoped>\n",
       "    .dataframe tbody tr th:only-of-type {\n",
       "        vertical-align: middle;\n",
       "    }\n",
       "\n",
       "    .dataframe tbody tr th {\n",
       "        vertical-align: top;\n",
       "    }\n",
       "\n",
       "    .dataframe thead th {\n",
       "        text-align: right;\n",
       "    }\n",
       "</style>\n",
       "<table border=\"1\" class=\"dataframe\">\n",
       "  <thead>\n",
       "    <tr style=\"text-align: right;\">\n",
       "      <th></th>\n",
       "      <th>r1_hero_id</th>\n",
       "      <th>r1_kills</th>\n",
       "      <th>r1_deaths</th>\n",
       "      <th>r1_assists</th>\n",
       "      <th>r1_denies</th>\n",
       "      <th>r1_gold</th>\n",
       "      <th>r1_lh</th>\n",
       "      <th>r1_xp</th>\n",
       "      <th>r1_health</th>\n",
       "      <th>r1_max_health</th>\n",
       "      <th>...</th>\n",
       "      <th>r1_stuns</th>\n",
       "      <th>r1_creeps_stacked</th>\n",
       "      <th>r1_camps_stacked</th>\n",
       "      <th>r1_rune_pickups</th>\n",
       "      <th>r1_firstblood_claimed</th>\n",
       "      <th>r1_teamfight_participation</th>\n",
       "      <th>r1_towers_killed</th>\n",
       "      <th>r1_roshans_killed</th>\n",
       "      <th>r1_obs_placed</th>\n",
       "      <th>r1_sen_placed</th>\n",
       "    </tr>\n",
       "  </thead>\n",
       "  <tbody>\n",
       "    <tr>\n",
       "      <th>count</th>\n",
       "      <td>31698.000000</td>\n",
       "      <td>31698.000000</td>\n",
       "      <td>31698.000000</td>\n",
       "      <td>31698.000000</td>\n",
       "      <td>31698.000000</td>\n",
       "      <td>31698.000000</td>\n",
       "      <td>31698.000000</td>\n",
       "      <td>31698.000000</td>\n",
       "      <td>31698.000000</td>\n",
       "      <td>31698.000000</td>\n",
       "      <td>...</td>\n",
       "      <td>31698.000000</td>\n",
       "      <td>31698.000000</td>\n",
       "      <td>31698.000000</td>\n",
       "      <td>31698.000000</td>\n",
       "      <td>31698.000000</td>\n",
       "      <td>31698.000000</td>\n",
       "      <td>31698.000000</td>\n",
       "      <td>31698.000000</td>\n",
       "      <td>31698.000000</td>\n",
       "      <td>31698.000000</td>\n",
       "    </tr>\n",
       "    <tr>\n",
       "      <th>mean</th>\n",
       "      <td>51.081614</td>\n",
       "      <td>3.151713</td>\n",
       "      <td>3.273361</td>\n",
       "      <td>4.661998</td>\n",
       "      <td>6.255600</td>\n",
       "      <td>7202.005079</td>\n",
       "      <td>65.033882</td>\n",
       "      <td>8300.697457</td>\n",
       "      <td>943.584012</td>\n",
       "      <td>1318.727428</td>\n",
       "      <td>...</td>\n",
       "      <td>11.770936</td>\n",
       "      <td>0.790681</td>\n",
       "      <td>0.265758</td>\n",
       "      <td>4.346331</td>\n",
       "      <td>0.091488</td>\n",
       "      <td>0.418969</td>\n",
       "      <td>0.339864</td>\n",
       "      <td>0.029339</td>\n",
       "      <td>1.204776</td>\n",
       "      <td>0.766547</td>\n",
       "    </tr>\n",
       "    <tr>\n",
       "      <th>std</th>\n",
       "      <td>34.573173</td>\n",
       "      <td>3.727116</td>\n",
       "      <td>3.281208</td>\n",
       "      <td>5.207887</td>\n",
       "      <td>8.144267</td>\n",
       "      <td>6514.917959</td>\n",
       "      <td>77.233353</td>\n",
       "      <td>7482.636072</td>\n",
       "      <td>681.995335</td>\n",
       "      <td>623.145054</td>\n",
       "      <td>...</td>\n",
       "      <td>20.454084</td>\n",
       "      <td>2.766434</td>\n",
       "      <td>0.771435</td>\n",
       "      <td>4.315433</td>\n",
       "      <td>0.288307</td>\n",
       "      <td>0.267317</td>\n",
       "      <td>0.774504</td>\n",
       "      <td>0.185331</td>\n",
       "      <td>2.493819</td>\n",
       "      <td>2.352856</td>\n",
       "    </tr>\n",
       "    <tr>\n",
       "      <th>min</th>\n",
       "      <td>1.000000</td>\n",
       "      <td>0.000000</td>\n",
       "      <td>0.000000</td>\n",
       "      <td>0.000000</td>\n",
       "      <td>0.000000</td>\n",
       "      <td>2.000000</td>\n",
       "      <td>0.000000</td>\n",
       "      <td>0.000000</td>\n",
       "      <td>0.000000</td>\n",
       "      <td>300.000000</td>\n",
       "      <td>...</td>\n",
       "      <td>-6.724344</td>\n",
       "      <td>0.000000</td>\n",
       "      <td>0.000000</td>\n",
       "      <td>0.000000</td>\n",
       "      <td>0.000000</td>\n",
       "      <td>0.000000</td>\n",
       "      <td>0.000000</td>\n",
       "      <td>0.000000</td>\n",
       "      <td>0.000000</td>\n",
       "      <td>0.000000</td>\n",
       "    </tr>\n",
       "    <tr>\n",
       "      <th>25%</th>\n",
       "      <td>20.000000</td>\n",
       "      <td>0.000000</td>\n",
       "      <td>1.000000</td>\n",
       "      <td>1.000000</td>\n",
       "      <td>1.000000</td>\n",
       "      <td>2208.250000</td>\n",
       "      <td>11.000000</td>\n",
       "      <td>2304.000000</td>\n",
       "      <td>527.000000</td>\n",
       "      <td>840.000000</td>\n",
       "      <td>...</td>\n",
       "      <td>0.000000</td>\n",
       "      <td>0.000000</td>\n",
       "      <td>0.000000</td>\n",
       "      <td>1.000000</td>\n",
       "      <td>0.000000</td>\n",
       "      <td>0.243243</td>\n",
       "      <td>0.000000</td>\n",
       "      <td>0.000000</td>\n",
       "      <td>0.000000</td>\n",
       "      <td>0.000000</td>\n",
       "    </tr>\n",
       "    <tr>\n",
       "      <th>50%</th>\n",
       "      <td>44.000000</td>\n",
       "      <td>2.000000</td>\n",
       "      <td>2.000000</td>\n",
       "      <td>3.000000</td>\n",
       "      <td>3.000000</td>\n",
       "      <td>5433.500000</td>\n",
       "      <td>37.000000</td>\n",
       "      <td>6014.000000</td>\n",
       "      <td>845.500000</td>\n",
       "      <td>1160.000000</td>\n",
       "      <td>...</td>\n",
       "      <td>1.499617</td>\n",
       "      <td>0.000000</td>\n",
       "      <td>0.000000</td>\n",
       "      <td>3.000000</td>\n",
       "      <td>0.000000</td>\n",
       "      <td>0.444444</td>\n",
       "      <td>0.000000</td>\n",
       "      <td>0.000000</td>\n",
       "      <td>0.000000</td>\n",
       "      <td>0.000000</td>\n",
       "    </tr>\n",
       "    <tr>\n",
       "      <th>75%</th>\n",
       "      <td>81.000000</td>\n",
       "      <td>5.000000</td>\n",
       "      <td>5.000000</td>\n",
       "      <td>7.000000</td>\n",
       "      <td>9.000000</td>\n",
       "      <td>10370.000000</td>\n",
       "      <td>92.000000</td>\n",
       "      <td>12392.000000</td>\n",
       "      <td>1301.000000</td>\n",
       "      <td>1640.000000</td>\n",
       "      <td>...</td>\n",
       "      <td>16.029322</td>\n",
       "      <td>0.000000</td>\n",
       "      <td>0.000000</td>\n",
       "      <td>6.000000</td>\n",
       "      <td>0.000000</td>\n",
       "      <td>0.600000</td>\n",
       "      <td>0.000000</td>\n",
       "      <td>0.000000</td>\n",
       "      <td>1.000000</td>\n",
       "      <td>0.000000</td>\n",
       "    </tr>\n",
       "    <tr>\n",
       "      <th>max</th>\n",
       "      <td>120.000000</td>\n",
       "      <td>32.000000</td>\n",
       "      <td>27.000000</td>\n",
       "      <td>40.000000</td>\n",
       "      <td>83.000000</td>\n",
       "      <td>58437.000000</td>\n",
       "      <td>846.000000</td>\n",
       "      <td>31004.000000</td>\n",
       "      <td>7780.000000</td>\n",
       "      <td>7780.000000</td>\n",
       "      <td>...</td>\n",
       "      <td>328.755220</td>\n",
       "      <td>69.000000</td>\n",
       "      <td>13.000000</td>\n",
       "      <td>45.000000</td>\n",
       "      <td>1.000000</td>\n",
       "      <td>2.000000</td>\n",
       "      <td>8.000000</td>\n",
       "      <td>3.000000</td>\n",
       "      <td>29.000000</td>\n",
       "      <td>48.000000</td>\n",
       "    </tr>\n",
       "  </tbody>\n",
       "</table>\n",
       "<p>8 rows × 24 columns</p>\n",
       "</div>"
      ],
      "text/plain": [
       "         r1_hero_id      r1_kills     r1_deaths    r1_assists     r1_denies  \\\n",
       "count  31698.000000  31698.000000  31698.000000  31698.000000  31698.000000   \n",
       "mean      51.081614      3.151713      3.273361      4.661998      6.255600   \n",
       "std       34.573173      3.727116      3.281208      5.207887      8.144267   \n",
       "min        1.000000      0.000000      0.000000      0.000000      0.000000   \n",
       "25%       20.000000      0.000000      1.000000      1.000000      1.000000   \n",
       "50%       44.000000      2.000000      2.000000      3.000000      3.000000   \n",
       "75%       81.000000      5.000000      5.000000      7.000000      9.000000   \n",
       "max      120.000000     32.000000     27.000000     40.000000     83.000000   \n",
       "\n",
       "            r1_gold         r1_lh         r1_xp     r1_health  r1_max_health  \\\n",
       "count  31698.000000  31698.000000  31698.000000  31698.000000   31698.000000   \n",
       "mean    7202.005079     65.033882   8300.697457    943.584012    1318.727428   \n",
       "std     6514.917959     77.233353   7482.636072    681.995335     623.145054   \n",
       "min        2.000000      0.000000      0.000000      0.000000     300.000000   \n",
       "25%     2208.250000     11.000000   2304.000000    527.000000     840.000000   \n",
       "50%     5433.500000     37.000000   6014.000000    845.500000    1160.000000   \n",
       "75%    10370.000000     92.000000  12392.000000   1301.000000    1640.000000   \n",
       "max    58437.000000    846.000000  31004.000000   7780.000000    7780.000000   \n",
       "\n",
       "       ...      r1_stuns  r1_creeps_stacked  r1_camps_stacked  \\\n",
       "count  ...  31698.000000       31698.000000      31698.000000   \n",
       "mean   ...     11.770936           0.790681          0.265758   \n",
       "std    ...     20.454084           2.766434          0.771435   \n",
       "min    ...     -6.724344           0.000000          0.000000   \n",
       "25%    ...      0.000000           0.000000          0.000000   \n",
       "50%    ...      1.499617           0.000000          0.000000   \n",
       "75%    ...     16.029322           0.000000          0.000000   \n",
       "max    ...    328.755220          69.000000         13.000000   \n",
       "\n",
       "       r1_rune_pickups  r1_firstblood_claimed  r1_teamfight_participation  \\\n",
       "count     31698.000000           31698.000000                31698.000000   \n",
       "mean          4.346331               0.091488                    0.418969   \n",
       "std           4.315433               0.288307                    0.267317   \n",
       "min           0.000000               0.000000                    0.000000   \n",
       "25%           1.000000               0.000000                    0.243243   \n",
       "50%           3.000000               0.000000                    0.444444   \n",
       "75%           6.000000               0.000000                    0.600000   \n",
       "max          45.000000               1.000000                    2.000000   \n",
       "\n",
       "       r1_towers_killed  r1_roshans_killed  r1_obs_placed  r1_sen_placed  \n",
       "count      31698.000000       31698.000000   31698.000000   31698.000000  \n",
       "mean           0.339864           0.029339       1.204776       0.766547  \n",
       "std            0.774504           0.185331       2.493819       2.352856  \n",
       "min            0.000000           0.000000       0.000000       0.000000  \n",
       "25%            0.000000           0.000000       0.000000       0.000000  \n",
       "50%            0.000000           0.000000       0.000000       0.000000  \n",
       "75%            0.000000           0.000000       1.000000       0.000000  \n",
       "max            8.000000           3.000000      29.000000      48.000000  \n",
       "\n",
       "[8 rows x 24 columns]"
      ]
     },
     "execution_count": 15,
     "metadata": {},
     "output_type": "execute_result"
    }
   ],
   "source": [
    "df_train_features.iloc[:, 5:29].describe()"
   ]
  },
  {
   "cell_type": "code",
   "execution_count": 16,
   "id": "2a3b4712",
   "metadata": {},
   "outputs": [
    {
     "data": {
      "image/png": "[encoded data removed]",
      "text/plain": [
       "<Figure size 1200x800 with 2 Axes>"
      ]
     },
     "metadata": {},
     "output_type": "display_data"
    }
   ],
   "source": [
    "sns.histplot(df_train_features, x='d1_x', y='d1_y', discrete=(True, True), \n",
    "             cbar=True, cbar_kws=dict(shrink=.75));"
   ]
  },
  {
   "cell_type": "markdown",
   "id": "5bde4e3b",
   "metadata": {},
   "source": [
    "Абсолютно рандомные признаки, связанные с координатами. Еще не понятно на какой момент игры сделаны "
   ]
  },
  {
   "cell_type": "code",
   "execution_count": 17,
   "id": "38b965a7",
   "metadata": {},
   "outputs": [],
   "source": [
    "df_new = df_train_features.drop(['r1_y','r2_y','r3_y','r4_y','r5_y',\n",
    "                       'r1_x','r2_x','r3_x','r4_x','r5_x',\n",
    "                       'd1_y','d2_y','d3_y','d4_y','d5_y',\n",
    "                       'd1_x','d2_x','d3_x','d4_x','d5_y'], axis=1)"
   ]
  },
  {
   "cell_type": "markdown",
   "id": "7cb6f8be",
   "metadata": {},
   "source": [
    "## Найдем процент побед каждого из героев в ту эпоху (мету)"
   ]
  },
  {
   "cell_type": "code",
   "execution_count": 35,
   "id": "f08a798e",
   "metadata": {},
   "outputs": [],
   "source": [
    "import requests\n",
    "from bs4 import BeautifulSoup"
   ]
  },
  {
   "cell_type": "markdown",
   "id": "8f237046",
   "metadata": {},
   "source": [
    "Кажется, героев меньше чем сейчас в доте. Какой это год...?"
   ]
  },
  {
   "cell_type": "code",
   "execution_count": 36,
   "id": "858f4a66",
   "metadata": {},
   "outputs": [],
   "source": [
    "df_200 = read_matches('bi-ml-competition-2023/train_raw_data.jsonl', n_matches_to_read=200)\n",
    "\n",
    "df_id = pd.DataFrame(columns=['id', 'Hero'])"
   ]
  },
  {
   "cell_type": "code",
   "execution_count": 37,
   "id": "347607c9",
   "metadata": {},
   "outputs": [
    {
     "data": {
      "application/vnd.jupyter.widget-view+json": {
       "model_id": "00386b91237247e9bba5c4ddcb5ee499",
       "version_major": 2,
       "version_minor": 0
      },
      "text/plain": [
       "  0%|          | 0/31698 [00:00<?, ?it/s]"
      ]
     },
     "metadata": {},
     "output_type": "display_data"
    }
   ],
   "source": [
    "c = 0\n",
    "for game in df_200:\n",
    "    for i in range(10):\n",
    "        df_id.loc[c] = [game['players'][i]['hero_id'],\n",
    "                            game['players'][i]['hero_name']]\n",
    "        c += 1\n",
    "\n"
   ]
  },
  {
   "cell_type": "code",
   "execution_count": 38,
   "id": "96908f1a",
   "metadata": {},
   "outputs": [
    {
     "data": {
      "text/plain": [
       "array(['npc_dota_hero_dark_willow', 'npc_dota_hero_pangolier'],\n",
       "      dtype=object)"
      ]
     },
     "execution_count": 38,
     "metadata": {},
     "output_type": "execute_result"
    }
   ],
   "source": [
    "df_id.loc[df_id.id > 118].Hero.unique()"
   ]
  },
  {
   "cell_type": "markdown",
   "id": "520fbc33",
   "metadata": {},
   "source": [
    "**Это патч 7.07 конца 2017 года. Именно тогда добавили этих героев...**"
   ]
  },
  {
   "cell_type": "markdown",
   "id": "f130f819",
   "metadata": {},
   "source": [
    "### Посмотрим процент побед героев то время"
   ]
  },
  {
   "cell_type": "code",
   "execution_count": 39,
   "id": "92ce62f9",
   "metadata": {},
   "outputs": [],
   "source": [
    "response = requests.get('https://web.archive.org/web/20171227161324/https://www.dotabuff.com/heroes/winning')"
   ]
  },
  {
   "cell_type": "code",
   "execution_count": 40,
   "id": "fa632616",
   "metadata": {},
   "outputs": [],
   "source": [
    "soup = BeautifulSoup(response.content, 'lxml')"
   ]
  },
  {
   "cell_type": "code",
   "execution_count": 41,
   "id": "bf07bc0e",
   "metadata": {},
   "outputs": [],
   "source": [
    "heroes = soup.find_all('tr')"
   ]
  },
  {
   "cell_type": "code",
   "execution_count": 42,
   "id": "add6fa17",
   "metadata": {},
   "outputs": [],
   "source": [
    "hero_wr = pd.DataFrame(columns=['Hero', 'WR'])\n",
    "\n",
    "for hero in range(1,116):    \n",
    "    hero_wr.loc[hero] = [heroes[hero].find('td', class_='cell-xlarge').text,\n",
    "                        heroes[hero].find_all('td')[2].attrs['data-value']]\n",
    "    "
   ]
  },
  {
   "cell_type": "code",
   "execution_count": 43,
   "id": "79d0c6d1",
   "metadata": {},
   "outputs": [
    {
     "data": {
      "text/html": [
       "<div>\n",
       "<style scoped>\n",
       "    .dataframe tbody tr th:only-of-type {\n",
       "        vertical-align: middle;\n",
       "    }\n",
       "\n",
       "    .dataframe tbody tr th {\n",
       "        vertical-align: top;\n",
       "    }\n",
       "\n",
       "    .dataframe thead th {\n",
       "        text-align: right;\n",
       "    }\n",
       "</style>\n",
       "<table border=\"1\" class=\"dataframe\">\n",
       "  <thead>\n",
       "    <tr style=\"text-align: right;\">\n",
       "      <th></th>\n",
       "      <th>Hero</th>\n",
       "      <th>WR</th>\n",
       "    </tr>\n",
       "  </thead>\n",
       "  <tbody>\n",
       "    <tr>\n",
       "      <th>1</th>\n",
       "      <td>Zeus</td>\n",
       "      <td>56.383</td>\n",
       "    </tr>\n",
       "    <tr>\n",
       "      <th>2</th>\n",
       "      <td>Spectre</td>\n",
       "      <td>55.5249</td>\n",
       "    </tr>\n",
       "    <tr>\n",
       "      <th>3</th>\n",
       "      <td>Vengeful Spirit</td>\n",
       "      <td>55.2188</td>\n",
       "    </tr>\n",
       "    <tr>\n",
       "      <th>4</th>\n",
       "      <td>Underlord</td>\n",
       "      <td>55.1138</td>\n",
       "    </tr>\n",
       "    <tr>\n",
       "      <th>5</th>\n",
       "      <td>Wraith King</td>\n",
       "      <td>55.0822</td>\n",
       "    </tr>\n",
       "    <tr>\n",
       "      <th>...</th>\n",
       "      <td>...</td>\n",
       "      <td>...</td>\n",
       "    </tr>\n",
       "    <tr>\n",
       "      <th>111</th>\n",
       "      <td>Broodmother</td>\n",
       "      <td>41.8562</td>\n",
       "    </tr>\n",
       "    <tr>\n",
       "      <th>112</th>\n",
       "      <td>Nature's Prophet</td>\n",
       "      <td>41.3607</td>\n",
       "    </tr>\n",
       "    <tr>\n",
       "      <th>113</th>\n",
       "      <td>Alchemist</td>\n",
       "      <td>40.9507</td>\n",
       "    </tr>\n",
       "    <tr>\n",
       "      <th>114</th>\n",
       "      <td>Io</td>\n",
       "      <td>37.7753</td>\n",
       "    </tr>\n",
       "    <tr>\n",
       "      <th>115</th>\n",
       "      <td>Lone Druid</td>\n",
       "      <td>37.6354</td>\n",
       "    </tr>\n",
       "  </tbody>\n",
       "</table>\n",
       "<p>115 rows × 2 columns</p>\n",
       "</div>"
      ],
      "text/plain": [
       "                 Hero       WR\n",
       "1                Zeus   56.383\n",
       "2             Spectre  55.5249\n",
       "3     Vengeful Spirit  55.2188\n",
       "4           Underlord  55.1138\n",
       "5         Wraith King  55.0822\n",
       "..                ...      ...\n",
       "111       Broodmother  41.8562\n",
       "112  Nature's Prophet  41.3607\n",
       "113         Alchemist  40.9507\n",
       "114                Io  37.7753\n",
       "115        Lone Druid  37.6354\n",
       "\n",
       "[115 rows x 2 columns]"
      ]
     },
     "execution_count": 43,
     "metadata": {},
     "output_type": "execute_result"
    }
   ],
   "source": [
    "hero_wr"
   ]
  },
  {
   "cell_type": "markdown",
   "id": "2a246e08",
   "metadata": {},
   "source": [
    "### Найдем id каждого из героев"
   ]
  },
  {
   "cell_type": "code",
   "execution_count": 44,
   "id": "701a62b7",
   "metadata": {},
   "outputs": [
    {
     "data": {
      "text/plain": [
       "0               Razor\n",
       "1             Centaur\n",
       "2       Shadow Shaman\n",
       "3              Weaver\n",
       "4          Naga Siren\n",
       "            ...      \n",
       "1995          Slardar\n",
       "1996           Furion\n",
       "1997            Lycan\n",
       "1998           Dazzle\n",
       "1999             Riki\n",
       "Name: Hero, Length: 2000, dtype: object"
      ]
     },
     "execution_count": 44,
     "metadata": {},
     "output_type": "execute_result"
    }
   ],
   "source": [
    "df_id.Hero = list(map(lambda x: x.replace('npc_dota_hero_','').replace('_',' ').title(), df_id.Hero))\n",
    "df_id.Hero"
   ]
  },
  {
   "cell_type": "code",
   "execution_count": 46,
   "id": "fd6d3a31",
   "metadata": {},
   "outputs": [
    {
     "data": {
      "text/plain": [
       "array(['Centaur', 'Antimage', 'Rattletrap', 'Furion', 'Shredder',\n",
       "       'Abyssal Underlord', 'Keeper Of The Light', 'Wisp',\n",
       "       'Obsidian Destroyer', 'Nevermore', 'Skeleton King', 'Windrunner',\n",
       "       'Doom Bringer', 'Queenofpain', 'Life Stealer', 'Necrolyte', 'Zuus',\n",
       "       'Treant', 'Vengefulspirit', 'Magnataur'], dtype=object)"
      ]
     },
     "execution_count": 46,
     "metadata": {},
     "output_type": "execute_result"
    }
   ],
   "source": [
    "Names = pd.merge(df_id, hero_wr, on='Hero').Hero\n",
    "Names\n",
    "df_id.loc[-df_id.Hero.isin(Names)].Hero.unique()"
   ]
  },
  {
   "cell_type": "markdown",
   "id": "610f068f",
   "metadata": {},
   "source": [
    "**Видно, что в json файлах некоторые герои называются _ПО-ДРУГОМУ_. Исправим это**"
   ]
  },
  {
   "cell_type": "code",
   "execution_count": 47,
   "id": "91b399f9",
   "metadata": {},
   "outputs": [],
   "source": [
    "df_id.id = df_id.id.astype('int64')\n",
    "id_old_df = df_id.drop_duplicates().sort_values(by='id')\n",
    "id_old_df.loc[id_old_df.Hero == 'Rattletrap', 'Hero'] = 'Clockwerk'\n",
    "id_old_df.loc[id_old_df.Hero == 'Vengefulspirit', 'Hero'] = 'Vengeful Spirit'\n",
    "id_old_df.loc[id_old_df.Hero == 'Queenofpain', 'Hero'] = 'Queen of Pain'\n",
    "id_old_df.loc[id_old_df.Hero == 'Treant', 'Hero'] = 'Treant Protector'\n",
    "id_old_df.loc[id_old_df.Hero == 'Nevermore', 'Hero'] = 'Shadow Fiend'\n",
    "id_old_df.loc[id_old_df.Hero == 'Obsidian Destroyer', 'Hero'] = 'Outworld Devourer'\n",
    "id_old_df.loc[id_old_df.Hero == 'Necrolyte', 'Hero'] = 'Necrophos'\n",
    "id_old_df.loc[id_old_df.Hero == 'Magnataur', 'Hero'] = 'Magnus'\n",
    "id_old_df.loc[id_old_df.Hero == 'Skeleton King', 'Hero'] = 'Wraith King'\n",
    "id_old_df.loc[id_old_df.Hero == 'Wisp', 'Hero'] = 'Io'\n",
    "id_old_df.loc[id_old_df.Hero == 'Abyssal Underlord', 'Hero'] = 'Underlord'\n",
    "id_old_df.loc[id_old_df.Hero == 'Shredder', 'Hero'] = 'Timbersaw'\n",
    "id_old_df.loc[id_old_df.Hero == 'Doom Bringer', 'Hero'] = 'Doom'\n",
    "id_old_df.loc[id_old_df.Hero == 'Zuus', 'Hero'] = 'Zeus'\n",
    "id_old_df.loc[id_old_df.Hero == 'Antimage', 'Hero'] = 'Anti-Mage'\n",
    "id_old_df.loc[id_old_df.Hero == 'Centaur', 'Hero'] = 'Centaur Warrunner'\n",
    "id_old_df.loc[id_old_df.Hero == 'Furion', 'Hero'] = \"Nature's Prophet\"\n",
    "id_old_df.loc[id_old_df.Hero == 'Windrunner', 'Hero'] = \"Windranger\"\n",
    "id_old_df.loc[id_old_df.Hero == 'Life Stealer', 'Hero'] = \"Lifestealer\"\n",
    "id_old_df.loc[id_old_df.Hero == 'Keeper Of The Light', 'Hero'] = \"Keeper of the Light\""
   ]
  },
  {
   "cell_type": "code",
   "execution_count": 48,
   "id": "8d05284b",
   "metadata": {},
   "outputs": [
    {
     "data": {
      "text/html": [
       "<div>\n",
       "<style scoped>\n",
       "    .dataframe tbody tr th:only-of-type {\n",
       "        vertical-align: middle;\n",
       "    }\n",
       "\n",
       "    .dataframe tbody tr th {\n",
       "        vertical-align: top;\n",
       "    }\n",
       "\n",
       "    .dataframe thead th {\n",
       "        text-align: right;\n",
       "    }\n",
       "</style>\n",
       "<table border=\"1\" class=\"dataframe\">\n",
       "  <thead>\n",
       "    <tr style=\"text-align: right;\">\n",
       "      <th></th>\n",
       "      <th>id</th>\n",
       "      <th>Hero</th>\n",
       "      <th>WR</th>\n",
       "    </tr>\n",
       "  </thead>\n",
       "  <tbody>\n",
       "    <tr>\n",
       "      <th>0</th>\n",
       "      <td>1</td>\n",
       "      <td>Anti-Mage</td>\n",
       "      <td>48.8014</td>\n",
       "    </tr>\n",
       "    <tr>\n",
       "      <th>1</th>\n",
       "      <td>2</td>\n",
       "      <td>Axe</td>\n",
       "      <td>52.7625</td>\n",
       "    </tr>\n",
       "    <tr>\n",
       "      <th>2</th>\n",
       "      <td>3</td>\n",
       "      <td>Bane</td>\n",
       "      <td>48.4074</td>\n",
       "    </tr>\n",
       "    <tr>\n",
       "      <th>3</th>\n",
       "      <td>4</td>\n",
       "      <td>Bloodseeker</td>\n",
       "      <td>50.0014</td>\n",
       "    </tr>\n",
       "    <tr>\n",
       "      <th>4</th>\n",
       "      <td>5</td>\n",
       "      <td>Crystal Maiden</td>\n",
       "      <td>54.4539</td>\n",
       "    </tr>\n",
       "    <tr>\n",
       "      <th>...</th>\n",
       "      <td>...</td>\n",
       "      <td>...</td>\n",
       "      <td>...</td>\n",
       "    </tr>\n",
       "    <tr>\n",
       "      <th>110</th>\n",
       "      <td>112</td>\n",
       "      <td>Winter Wyvern</td>\n",
       "      <td>48.9429</td>\n",
       "    </tr>\n",
       "    <tr>\n",
       "      <th>111</th>\n",
       "      <td>113</td>\n",
       "      <td>Arc Warden</td>\n",
       "      <td>44.8681</td>\n",
       "    </tr>\n",
       "    <tr>\n",
       "      <th>112</th>\n",
       "      <td>114</td>\n",
       "      <td>Monkey King</td>\n",
       "      <td>44.3234</td>\n",
       "    </tr>\n",
       "    <tr>\n",
       "      <th>113</th>\n",
       "      <td>119</td>\n",
       "      <td>Dark Willow</td>\n",
       "      <td>49.6747</td>\n",
       "    </tr>\n",
       "    <tr>\n",
       "      <th>114</th>\n",
       "      <td>120</td>\n",
       "      <td>Pangolier</td>\n",
       "      <td>46.4918</td>\n",
       "    </tr>\n",
       "  </tbody>\n",
       "</table>\n",
       "<p>115 rows × 3 columns</p>\n",
       "</div>"
      ],
      "text/plain": [
       "      id            Hero       WR\n",
       "0      1       Anti-Mage  48.8014\n",
       "1      2             Axe  52.7625\n",
       "2      3            Bane  48.4074\n",
       "3      4     Bloodseeker  50.0014\n",
       "4      5  Crystal Maiden  54.4539\n",
       "..   ...             ...      ...\n",
       "110  112   Winter Wyvern  48.9429\n",
       "111  113      Arc Warden  44.8681\n",
       "112  114     Monkey King  44.3234\n",
       "113  119     Dark Willow  49.6747\n",
       "114  120       Pangolier  46.4918\n",
       "\n",
       "[115 rows x 3 columns]"
      ]
     },
     "execution_count": 48,
     "metadata": {},
     "output_type": "execute_result"
    }
   ],
   "source": [
    "hero_df = pd.merge(id_old_df, hero_wr, on='Hero')\n",
    "hero_df"
   ]
  },
  {
   "cell_type": "code",
   "execution_count": 49,
   "id": "fa6ec303",
   "metadata": {},
   "outputs": [],
   "source": [
    "df_new_2 = df_new.copy()\n",
    "\n",
    "for i in range(1,6):\n",
    "    df_new_2 = pd.merge(df_new_2, hero_df.rename(columns={'id':f'r{i}_hero_id', 'WR':f'r{i}_wr_hero'}).iloc[:,[0,2]],\n",
    "                on = f'r{i}_hero_id')\n",
    "    \n",
    "for i in range(1,6):\n",
    "    df_new_2 = pd.merge(df_new_2, hero_df.rename(columns={'id':f'd{i}_hero_id', 'WR':f'd{i}_wr_hero'}).iloc[:,[0,2]],\n",
    "                on = f'd{i}_hero_id')"
   ]
  },
  {
   "cell_type": "code",
   "execution_count": 50,
   "id": "c796cfdb",
   "metadata": {},
   "outputs": [],
   "source": [
    "df_new_2.iloc[:,-10:] = df_new_2.iloc[:,-10:].astype('float64')"
   ]
  },
  {
   "cell_type": "markdown",
   "id": "b1edd0b6",
   "metadata": {},
   "source": [
    "### id героя и winrate, очевидно связаны...\n",
    "Сейчас попробуем убрать.."
   ]
  },
  {
   "cell_type": "code",
   "execution_count": 51,
   "id": "173254f4",
   "metadata": {},
   "outputs": [],
   "source": [
    "df_new_3 = df_new_2.drop(['r1_hero_id','r2_hero_id','r3_hero_id','r4_hero_id','r5_hero_id',\n",
    "               'd1_hero_id','d2_hero_id','d3_hero_id','d4_hero_id','d5_hero_id'], axis=1)"
   ]
  },
  {
   "cell_type": "markdown",
   "id": "e7247f8d",
   "metadata": {},
   "source": [
    "### Проверим"
   ]
  },
  {
   "cell_type": "code",
   "execution_count": 52,
   "id": "69d9bcb0",
   "metadata": {
    "scrolled": true
   },
   "outputs": [
    {
     "name": "stdout",
     "output_type": "stream",
     "text": [
      "CPU times: user 198 ms, sys: 426 ms, total: 624 ms\n",
      "Wall time: 2min 1s\n"
     ]
    }
   ],
   "source": [
    "%%time\n",
    "cv_scores_new_2 = cross_val_score(rf_model, df_new_3.values, y, cv=cv, scoring=\"roc_auc\", n_jobs=-1)\n",
    "cv_scores_extended = cross_val_score(rf_model, df_train_features_extended.values, y, \n",
    "                                     cv=cv, scoring=\"roc_auc\", n_jobs=-1)"
   ]
  },
  {
   "cell_type": "code",
   "execution_count": 53,
   "id": "ef5677cb",
   "metadata": {},
   "outputs": [
    {
     "name": "stdout",
     "output_type": "stream",
     "text": [
      "ROC-AUC на кросс-валидации для старых признаков: 0.778796825263235\n",
      "ROC-AUC на кросс-валидации для новых признаков: 0.49830107445157446\n"
     ]
    }
   ],
   "source": [
    "print(f\"ROC-AUC на кросс-валидации для старых признаков: {cv_scores_extended.mean()}\")\n",
    "print(f\"ROC-AUC на кросс-валидации для новых признаков: {cv_scores_new_2.mean()}\")"
   ]
  },
  {
   "cell_type": "markdown",
   "id": "ca3c0456",
   "metadata": {},
   "source": [
    "## Видели бы вы сейчас моё лицо спустя несколько часов создания этих признаков..."
   ]
  },
  {
   "cell_type": "markdown",
   "id": "f4bea9a2",
   "metadata": {},
   "source": [
    "### Создадим признак KDA"
   ]
  },
  {
   "cell_type": "code",
   "execution_count": 21,
   "id": "9e064073",
   "metadata": {},
   "outputs": [],
   "source": [
    "df_4_kda = df_train_features_extended.copy()"
   ]
  },
  {
   "cell_type": "code",
   "execution_count": 22,
   "id": "dd2aa373",
   "metadata": {},
   "outputs": [],
   "source": [
    "for i in range(1,6):\n",
    "    df_4_kda.loc[df_4_kda[f'r{i}_deaths'] == 0, f'r{i}_deaths'] = 1\n",
    "    \n",
    "for i in range(1,6):\n",
    "    df_4_kda.loc[df_4_kda[f'd{i}_deaths'] == 0, f'd{i}_deaths'] = 1"
   ]
  },
  {
   "cell_type": "code",
   "execution_count": 23,
   "id": "6ac429df",
   "metadata": {},
   "outputs": [],
   "source": [
    "for i in range(1,6):\n",
    "    df_4_kda[f'r{i}_kda'] = (df_4_kda[f'r{i}_kills'] + df_4_kda[f'r{i}_assists']) / df_4_kda[f'r{i}_deaths']\n",
    "    \n",
    "for i in range(1,6):\n",
    "    df_4_kda[f'd{i}_kda'] = (df_4_kda[f'd{i}_kills'] + df_4_kda[f'd{i}_assists']) / df_4_kda[f'd{i}_deaths']"
   ]
  },
  {
   "cell_type": "markdown",
   "id": "a8c194b8",
   "metadata": {},
   "source": [
    "### Уберем скоррелиованные признаки (kills, deaths, assists)"
   ]
  },
  {
   "cell_type": "code",
   "execution_count": 24,
   "id": "0d1d227b",
   "metadata": {},
   "outputs": [],
   "source": [
    "for i in range(1,6):\n",
    "    df_4_kda = df_4_kda.drop([f'r{i}_kills', f'r{i}_assists', f'r{i}_deaths'], axis=1)\n",
    "    \n",
    "for i in range(1,6):\n",
    "    df_4_kda = df_4_kda.drop([f'd{i}_kills', f'd{i}_assists', f'd{i}_deaths'], axis=1)"
   ]
  },
  {
   "cell_type": "code",
   "execution_count": 25,
   "id": "20ae6d08",
   "metadata": {},
   "outputs": [
    {
     "data": {
      "text/html": [
       "<div>\n",
       "<style scoped>\n",
       "    .dataframe tbody tr th:only-of-type {\n",
       "        vertical-align: middle;\n",
       "    }\n",
       "\n",
       "    .dataframe tbody tr th {\n",
       "        vertical-align: top;\n",
       "    }\n",
       "\n",
       "    .dataframe thead th {\n",
       "        text-align: right;\n",
       "    }\n",
       "</style>\n",
       "<table border=\"1\" class=\"dataframe\">\n",
       "  <thead>\n",
       "    <tr style=\"text-align: right;\">\n",
       "      <th></th>\n",
       "      <th>game_time</th>\n",
       "      <th>game_mode</th>\n",
       "      <th>lobby_type</th>\n",
       "      <th>objectives_len</th>\n",
       "      <th>chat_len</th>\n",
       "      <th>r1_hero_id</th>\n",
       "      <th>r1_denies</th>\n",
       "      <th>r1_gold</th>\n",
       "      <th>r1_lh</th>\n",
       "      <th>r1_xp</th>\n",
       "      <th>...</th>\n",
       "      <th>r1_kda</th>\n",
       "      <th>r2_kda</th>\n",
       "      <th>r3_kda</th>\n",
       "      <th>r4_kda</th>\n",
       "      <th>r5_kda</th>\n",
       "      <th>d1_kda</th>\n",
       "      <th>d2_kda</th>\n",
       "      <th>d3_kda</th>\n",
       "      <th>d4_kda</th>\n",
       "      <th>d5_kda</th>\n",
       "    </tr>\n",
       "    <tr>\n",
       "      <th>match_id_hash</th>\n",
       "      <th></th>\n",
       "      <th></th>\n",
       "      <th></th>\n",
       "      <th></th>\n",
       "      <th></th>\n",
       "      <th></th>\n",
       "      <th></th>\n",
       "      <th></th>\n",
       "      <th></th>\n",
       "      <th></th>\n",
       "      <th></th>\n",
       "      <th></th>\n",
       "      <th></th>\n",
       "      <th></th>\n",
       "      <th></th>\n",
       "      <th></th>\n",
       "      <th></th>\n",
       "      <th></th>\n",
       "      <th></th>\n",
       "      <th></th>\n",
       "      <th></th>\n",
       "    </tr>\n",
       "  </thead>\n",
       "  <tbody>\n",
       "    <tr>\n",
       "      <th>b9c57c450ce74a2af79c9ce96fac144d</th>\n",
       "      <td>658</td>\n",
       "      <td>4</td>\n",
       "      <td>0</td>\n",
       "      <td>3</td>\n",
       "      <td>10</td>\n",
       "      <td>15</td>\n",
       "      <td>7</td>\n",
       "      <td>5257</td>\n",
       "      <td>52</td>\n",
       "      <td>3937</td>\n",
       "      <td>...</td>\n",
       "      <td>3.500000</td>\n",
       "      <td>5.000000</td>\n",
       "      <td>5.000</td>\n",
       "      <td>7.000000</td>\n",
       "      <td>6.000000</td>\n",
       "      <td>0.500000</td>\n",
       "      <td>0.166667</td>\n",
       "      <td>0.666667</td>\n",
       "      <td>0.666667</td>\n",
       "      <td>0.000000</td>\n",
       "    </tr>\n",
       "    <tr>\n",
       "      <th>6db558535151ea18ca70a6892197db41</th>\n",
       "      <td>21</td>\n",
       "      <td>23</td>\n",
       "      <td>0</td>\n",
       "      <td>0</td>\n",
       "      <td>0</td>\n",
       "      <td>101</td>\n",
       "      <td>0</td>\n",
       "      <td>176</td>\n",
       "      <td>0</td>\n",
       "      <td>0</td>\n",
       "      <td>...</td>\n",
       "      <td>0.000000</td>\n",
       "      <td>0.000000</td>\n",
       "      <td>0.000</td>\n",
       "      <td>0.000000</td>\n",
       "      <td>0.000000</td>\n",
       "      <td>0.000000</td>\n",
       "      <td>0.000000</td>\n",
       "      <td>0.000000</td>\n",
       "      <td>0.000000</td>\n",
       "      <td>0.000000</td>\n",
       "    </tr>\n",
       "    <tr>\n",
       "      <th>19c39fe2af2b547e48708ca005c6ae74</th>\n",
       "      <td>160</td>\n",
       "      <td>22</td>\n",
       "      <td>7</td>\n",
       "      <td>0</td>\n",
       "      <td>0</td>\n",
       "      <td>57</td>\n",
       "      <td>1</td>\n",
       "      <td>403</td>\n",
       "      <td>0</td>\n",
       "      <td>359</td>\n",
       "      <td>...</td>\n",
       "      <td>0.000000</td>\n",
       "      <td>0.000000</td>\n",
       "      <td>0.000</td>\n",
       "      <td>0.000000</td>\n",
       "      <td>0.000000</td>\n",
       "      <td>0.000000</td>\n",
       "      <td>0.000000</td>\n",
       "      <td>0.000000</td>\n",
       "      <td>0.000000</td>\n",
       "      <td>0.000000</td>\n",
       "    </tr>\n",
       "    <tr>\n",
       "      <th>c96d629dc0c39f0c616d1949938a6ba6</th>\n",
       "      <td>1016</td>\n",
       "      <td>22</td>\n",
       "      <td>0</td>\n",
       "      <td>1</td>\n",
       "      <td>0</td>\n",
       "      <td>119</td>\n",
       "      <td>5</td>\n",
       "      <td>3085</td>\n",
       "      <td>1</td>\n",
       "      <td>2828</td>\n",
       "      <td>...</td>\n",
       "      <td>1.000000</td>\n",
       "      <td>1.600000</td>\n",
       "      <td>2.000</td>\n",
       "      <td>4.000000</td>\n",
       "      <td>2.000000</td>\n",
       "      <td>1.000000</td>\n",
       "      <td>4.000000</td>\n",
       "      <td>3.500000</td>\n",
       "      <td>2.000000</td>\n",
       "      <td>3.000000</td>\n",
       "    </tr>\n",
       "    <tr>\n",
       "      <th>156c88bff4e9c4668b0f53df3d870f1b</th>\n",
       "      <td>582</td>\n",
       "      <td>22</td>\n",
       "      <td>7</td>\n",
       "      <td>2</td>\n",
       "      <td>2</td>\n",
       "      <td>12</td>\n",
       "      <td>9</td>\n",
       "      <td>3516</td>\n",
       "      <td>40</td>\n",
       "      <td>3964</td>\n",
       "      <td>...</td>\n",
       "      <td>5.000000</td>\n",
       "      <td>0.500000</td>\n",
       "      <td>4.000</td>\n",
       "      <td>1.000000</td>\n",
       "      <td>0.000000</td>\n",
       "      <td>6.000000</td>\n",
       "      <td>1.000000</td>\n",
       "      <td>5.000000</td>\n",
       "      <td>2.000000</td>\n",
       "      <td>2.500000</td>\n",
       "    </tr>\n",
       "    <tr>\n",
       "      <th>...</th>\n",
       "      <td>...</td>\n",
       "      <td>...</td>\n",
       "      <td>...</td>\n",
       "      <td>...</td>\n",
       "      <td>...</td>\n",
       "      <td>...</td>\n",
       "      <td>...</td>\n",
       "      <td>...</td>\n",
       "      <td>...</td>\n",
       "      <td>...</td>\n",
       "      <td>...</td>\n",
       "      <td>...</td>\n",
       "      <td>...</td>\n",
       "      <td>...</td>\n",
       "      <td>...</td>\n",
       "      <td>...</td>\n",
       "      <td>...</td>\n",
       "      <td>...</td>\n",
       "      <td>...</td>\n",
       "      <td>...</td>\n",
       "      <td>...</td>\n",
       "    </tr>\n",
       "    <tr>\n",
       "      <th>b794aa55646841a03c7783226e6f6bc8</th>\n",
       "      <td>2666</td>\n",
       "      <td>22</td>\n",
       "      <td>0</td>\n",
       "      <td>23</td>\n",
       "      <td>8</td>\n",
       "      <td>99</td>\n",
       "      <td>3</td>\n",
       "      <td>19850</td>\n",
       "      <td>251</td>\n",
       "      <td>25448</td>\n",
       "      <td>...</td>\n",
       "      <td>1.636364</td>\n",
       "      <td>2.000000</td>\n",
       "      <td>1.875</td>\n",
       "      <td>3.333333</td>\n",
       "      <td>2.833333</td>\n",
       "      <td>1.437500</td>\n",
       "      <td>3.875000</td>\n",
       "      <td>26.000000</td>\n",
       "      <td>5.600000</td>\n",
       "      <td>4.000000</td>\n",
       "    </tr>\n",
       "    <tr>\n",
       "      <th>308faee28efee2e66b39f9f2ba6ea9cf</th>\n",
       "      <td>2525</td>\n",
       "      <td>22</td>\n",
       "      <td>0</td>\n",
       "      <td>15</td>\n",
       "      <td>5</td>\n",
       "      <td>22</td>\n",
       "      <td>3</td>\n",
       "      <td>13914</td>\n",
       "      <td>151</td>\n",
       "      <td>19592</td>\n",
       "      <td>...</td>\n",
       "      <td>1.888889</td>\n",
       "      <td>1.833333</td>\n",
       "      <td>10.000</td>\n",
       "      <td>15.000000</td>\n",
       "      <td>3.333333</td>\n",
       "      <td>2.333333</td>\n",
       "      <td>1.333333</td>\n",
       "      <td>1.333333</td>\n",
       "      <td>0.333333</td>\n",
       "      <td>0.714286</td>\n",
       "    </tr>\n",
       "    <tr>\n",
       "      <th>6066cc7417b43c749d551e123d00f0c8</th>\n",
       "      <td>1002</td>\n",
       "      <td>4</td>\n",
       "      <td>0</td>\n",
       "      <td>4</td>\n",
       "      <td>0</td>\n",
       "      <td>1</td>\n",
       "      <td>0</td>\n",
       "      <td>4613</td>\n",
       "      <td>59</td>\n",
       "      <td>4478</td>\n",
       "      <td>...</td>\n",
       "      <td>1.000000</td>\n",
       "      <td>0.750000</td>\n",
       "      <td>0.500</td>\n",
       "      <td>1.333333</td>\n",
       "      <td>1.666667</td>\n",
       "      <td>8.000000</td>\n",
       "      <td>5.000000</td>\n",
       "      <td>5.000000</td>\n",
       "      <td>3.000000</td>\n",
       "      <td>10.000000</td>\n",
       "    </tr>\n",
       "    <tr>\n",
       "      <th>bc7a87ed5f9c2bca55f9f7a93da0b0c5</th>\n",
       "      <td>377</td>\n",
       "      <td>22</td>\n",
       "      <td>7</td>\n",
       "      <td>1</td>\n",
       "      <td>0</td>\n",
       "      <td>14</td>\n",
       "      <td>1</td>\n",
       "      <td>809</td>\n",
       "      <td>2</td>\n",
       "      <td>1102</td>\n",
       "      <td>...</td>\n",
       "      <td>0.500000</td>\n",
       "      <td>1.000000</td>\n",
       "      <td>1.000</td>\n",
       "      <td>2.000000</td>\n",
       "      <td>0.000000</td>\n",
       "      <td>1.000000</td>\n",
       "      <td>1.000000</td>\n",
       "      <td>1.000000</td>\n",
       "      <td>0.000000</td>\n",
       "      <td>0.000000</td>\n",
       "    </tr>\n",
       "    <tr>\n",
       "      <th>e2ca68ac1a6847f4a37f6c9c8ee8695b</th>\n",
       "      <td>643</td>\n",
       "      <td>22</td>\n",
       "      <td>7</td>\n",
       "      <td>1</td>\n",
       "      <td>23</td>\n",
       "      <td>63</td>\n",
       "      <td>2</td>\n",
       "      <td>1747</td>\n",
       "      <td>4</td>\n",
       "      <td>2677</td>\n",
       "      <td>...</td>\n",
       "      <td>0.250000</td>\n",
       "      <td>0.666667</td>\n",
       "      <td>0.100</td>\n",
       "      <td>1.500000</td>\n",
       "      <td>0.000000</td>\n",
       "      <td>4.000000</td>\n",
       "      <td>1.333333</td>\n",
       "      <td>5.000000</td>\n",
       "      <td>6.000000</td>\n",
       "      <td>10.000000</td>\n",
       "    </tr>\n",
       "  </tbody>\n",
       "</table>\n",
       "<p>31698 rows × 228 columns</p>\n",
       "</div>"
      ],
      "text/plain": [
       "                                  game_time  game_mode  lobby_type  \\\n",
       "match_id_hash                                                        \n",
       "b9c57c450ce74a2af79c9ce96fac144d        658          4           0   \n",
       "6db558535151ea18ca70a6892197db41         21         23           0   \n",
       "19c39fe2af2b547e48708ca005c6ae74        160         22           7   \n",
       "c96d629dc0c39f0c616d1949938a6ba6       1016         22           0   \n",
       "156c88bff4e9c4668b0f53df3d870f1b        582         22           7   \n",
       "...                                     ...        ...         ...   \n",
       "b794aa55646841a03c7783226e6f6bc8       2666         22           0   \n",
       "308faee28efee2e66b39f9f2ba6ea9cf       2525         22           0   \n",
       "6066cc7417b43c749d551e123d00f0c8       1002          4           0   \n",
       "bc7a87ed5f9c2bca55f9f7a93da0b0c5        377         22           7   \n",
       "e2ca68ac1a6847f4a37f6c9c8ee8695b        643         22           7   \n",
       "\n",
       "                                  objectives_len  chat_len  r1_hero_id  \\\n",
       "match_id_hash                                                            \n",
       "b9c57c450ce74a2af79c9ce96fac144d               3        10          15   \n",
       "6db558535151ea18ca70a6892197db41               0         0         101   \n",
       "19c39fe2af2b547e48708ca005c6ae74               0         0          57   \n",
       "c96d629dc0c39f0c616d1949938a6ba6               1         0         119   \n",
       "156c88bff4e9c4668b0f53df3d870f1b               2         2          12   \n",
       "...                                          ...       ...         ...   \n",
       "b794aa55646841a03c7783226e6f6bc8              23         8          99   \n",
       "308faee28efee2e66b39f9f2ba6ea9cf              15         5          22   \n",
       "6066cc7417b43c749d551e123d00f0c8               4         0           1   \n",
       "bc7a87ed5f9c2bca55f9f7a93da0b0c5               1         0          14   \n",
       "e2ca68ac1a6847f4a37f6c9c8ee8695b               1        23          63   \n",
       "\n",
       "                                  r1_denies  r1_gold  r1_lh  r1_xp  ...  \\\n",
       "match_id_hash                                                       ...   \n",
       "b9c57c450ce74a2af79c9ce96fac144d          7     5257     52   3937  ...   \n",
       "6db558535151ea18ca70a6892197db41          0      176      0      0  ...   \n",
       "19c39fe2af2b547e48708ca005c6ae74          1      403      0    359  ...   \n",
       "c96d629dc0c39f0c616d1949938a6ba6          5     3085      1   2828  ...   \n",
       "156c88bff4e9c4668b0f53df3d870f1b          9     3516     40   3964  ...   \n",
       "...                                     ...      ...    ...    ...  ...   \n",
       "b794aa55646841a03c7783226e6f6bc8          3    19850    251  25448  ...   \n",
       "308faee28efee2e66b39f9f2ba6ea9cf          3    13914    151  19592  ...   \n",
       "6066cc7417b43c749d551e123d00f0c8          0     4613     59   4478  ...   \n",
       "bc7a87ed5f9c2bca55f9f7a93da0b0c5          1      809      2   1102  ...   \n",
       "e2ca68ac1a6847f4a37f6c9c8ee8695b          2     1747      4   2677  ...   \n",
       "\n",
       "                                    r1_kda    r2_kda  r3_kda     r4_kda  \\\n",
       "match_id_hash                                                             \n",
       "b9c57c450ce74a2af79c9ce96fac144d  3.500000  5.000000   5.000   7.000000   \n",
       "6db558535151ea18ca70a6892197db41  0.000000  0.000000   0.000   0.000000   \n",
       "19c39fe2af2b547e48708ca005c6ae74  0.000000  0.000000   0.000   0.000000   \n",
       "c96d629dc0c39f0c616d1949938a6ba6  1.000000  1.600000   2.000   4.000000   \n",
       "156c88bff4e9c4668b0f53df3d870f1b  5.000000  0.500000   4.000   1.000000   \n",
       "...                                    ...       ...     ...        ...   \n",
       "b794aa55646841a03c7783226e6f6bc8  1.636364  2.000000   1.875   3.333333   \n",
       "308faee28efee2e66b39f9f2ba6ea9cf  1.888889  1.833333  10.000  15.000000   \n",
       "6066cc7417b43c749d551e123d00f0c8  1.000000  0.750000   0.500   1.333333   \n",
       "bc7a87ed5f9c2bca55f9f7a93da0b0c5  0.500000  1.000000   1.000   2.000000   \n",
       "e2ca68ac1a6847f4a37f6c9c8ee8695b  0.250000  0.666667   0.100   1.500000   \n",
       "\n",
       "                                    r5_kda    d1_kda    d2_kda     d3_kda  \\\n",
       "match_id_hash                                                               \n",
       "b9c57c450ce74a2af79c9ce96fac144d  6.000000  0.500000  0.166667   0.666667   \n",
       "6db558535151ea18ca70a6892197db41  0.000000  0.000000  0.000000   0.000000   \n",
       "19c39fe2af2b547e48708ca005c6ae74  0.000000  0.000000  0.000000   0.000000   \n",
       "c96d629dc0c39f0c616d1949938a6ba6  2.000000  1.000000  4.000000   3.500000   \n",
       "156c88bff4e9c4668b0f53df3d870f1b  0.000000  6.000000  1.000000   5.000000   \n",
       "...                                    ...       ...       ...        ...   \n",
       "b794aa55646841a03c7783226e6f6bc8  2.833333  1.437500  3.875000  26.000000   \n",
       "308faee28efee2e66b39f9f2ba6ea9cf  3.333333  2.333333  1.333333   1.333333   \n",
       "6066cc7417b43c749d551e123d00f0c8  1.666667  8.000000  5.000000   5.000000   \n",
       "bc7a87ed5f9c2bca55f9f7a93da0b0c5  0.000000  1.000000  1.000000   1.000000   \n",
       "e2ca68ac1a6847f4a37f6c9c8ee8695b  0.000000  4.000000  1.333333   5.000000   \n",
       "\n",
       "                                    d4_kda     d5_kda  \n",
       "match_id_hash                                          \n",
       "b9c57c450ce74a2af79c9ce96fac144d  0.666667   0.000000  \n",
       "6db558535151ea18ca70a6892197db41  0.000000   0.000000  \n",
       "19c39fe2af2b547e48708ca005c6ae74  0.000000   0.000000  \n",
       "c96d629dc0c39f0c616d1949938a6ba6  2.000000   3.000000  \n",
       "156c88bff4e9c4668b0f53df3d870f1b  2.000000   2.500000  \n",
       "...                                    ...        ...  \n",
       "b794aa55646841a03c7783226e6f6bc8  5.600000   4.000000  \n",
       "308faee28efee2e66b39f9f2ba6ea9cf  0.333333   0.714286  \n",
       "6066cc7417b43c749d551e123d00f0c8  3.000000  10.000000  \n",
       "bc7a87ed5f9c2bca55f9f7a93da0b0c5  0.000000   0.000000  \n",
       "e2ca68ac1a6847f4a37f6c9c8ee8695b  6.000000  10.000000  \n",
       "\n",
       "[31698 rows x 228 columns]"
      ]
     },
     "execution_count": 25,
     "metadata": {},
     "output_type": "execute_result"
    }
   ],
   "source": [
    "df_4_kda"
   ]
  },
  {
   "cell_type": "markdown",
   "id": "d36c5717",
   "metadata": {},
   "source": [
    "### Проверяем"
   ]
  },
  {
   "cell_type": "code",
   "execution_count": 59,
   "id": "b31eadbd",
   "metadata": {
    "scrolled": true
   },
   "outputs": [
    {
     "name": "stdout",
     "output_type": "stream",
     "text": [
      "CPU times: user 144 ms, sys: 290 ms, total: 434 ms\n",
      "Wall time: 1min 53s\n"
     ]
    }
   ],
   "source": [
    "%%time\n",
    "cv_scores_new_2 = cross_val_score(rf_model, df_4_kda.values, y, cv=cv, scoring=\"roc_auc\", n_jobs=-1)\n",
    "cv_scores_extended = cross_val_score(rf_model, df_train_features_extended.values, y, \n",
    "                                     cv=cv, scoring=\"roc_auc\", n_jobs=-1)"
   ]
  },
  {
   "cell_type": "code",
   "execution_count": 60,
   "id": "50077e04",
   "metadata": {
    "scrolled": true
   },
   "outputs": [
    {
     "name": "stdout",
     "output_type": "stream",
     "text": [
      "ROC-AUC на кросс-валидации для старых признаков: 0.778796825263235\n",
      "ROC-AUC на кросс-валидации для новых признаков: 0.7842910359037607\n"
     ]
    }
   ],
   "source": [
    "print(f\"ROC-AUC на кросс-валидации для старых признаков: {cv_scores_extended.mean()}\")\n",
    "print(f\"ROC-AUC на кросс-валидации для новых признаков: {cv_scores_new_2.mean()}\")"
   ]
  },
  {
   "cell_type": "markdown",
   "id": "2e98fa63",
   "metadata": {},
   "source": [
    "**Отлично!**"
   ]
  },
  {
   "cell_type": "code",
   "execution_count": 127,
   "id": "d820e846",
   "metadata": {},
   "outputs": [],
   "source": [
    "damage_df = pd.DataFrame(columns = [f'r{i}_dmage' for i in range(1,6)] + [f'd{i}_dmage' for i in range(1,6)])"
   ]
  },
  {
   "cell_type": "code",
   "execution_count": 128,
   "id": "4f99bf6e",
   "metadata": {},
   "outputs": [
    {
     "data": {
      "application/vnd.jupyter.widget-view+json": {
       "model_id": "44cb39003a004b3aac5439183d557643",
       "version_major": 2,
       "version_minor": 0
      },
      "text/plain": [
       "  0%|          | 0/31698 [00:00<?, ?it/s]"
      ]
     },
     "metadata": {},
     "output_type": "display_data"
    }
   ],
   "source": [
    "for n, game in enumerate(read_matches('bi-ml-competition-2023/train_raw_data.jsonl')):\n",
    "        for i in range(1,6):\n",
    "            damage_df.loc[n, f'r{i}_dmage'] = sum(game['players'][i-1]['damage'].values())\n",
    "        for i in range(1,6):\n",
    "            damage_df.loc[n, f'd{i}_dmage'] = sum(game['players'][i+4]['damage'].values())"
   ]
  },
  {
   "cell_type": "code",
   "execution_count": 33,
   "id": "59bd7630",
   "metadata": {},
   "outputs": [],
   "source": [
    "damage_df = damage_df.rename(index=dict(zip(damage_df.index, df_4_kda.index)))"
   ]
  },
  {
   "cell_type": "code",
   "execution_count": 34,
   "id": "97f677b3",
   "metadata": {},
   "outputs": [],
   "source": [
    "idx_low_dmg = damage_df.sum(axis=1) > 3000"
   ]
  },
  {
   "cell_type": "code",
   "execution_count": 77,
   "id": "8890d0db",
   "metadata": {},
   "outputs": [],
   "source": [
    "df_w_dmg = pd.concat([df_4_kda, damage_df], axis=1, join='inner', ignore_index=False)\n",
    "df_w_dmg = df_w_dmg[idx_low_dmg]\n",
    "y_dmg = y[idx_low_dmg]"
   ]
  },
  {
   "cell_type": "code",
   "execution_count": 81,
   "id": "002c84b9",
   "metadata": {},
   "outputs": [],
   "source": [
    "df_w_dmg = df_w_dmg.drop('Unnamed: 0', axis=1)"
   ]
  },
  {
   "cell_type": "code",
   "execution_count": 153,
   "id": "fd64d107",
   "metadata": {
    "scrolled": true
   },
   "outputs": [
    {
     "name": "stdout",
     "output_type": "stream",
     "text": [
      "CPU times: user 3.38 s, sys: 1.15 s, total: 4.53 s\n",
      "Wall time: 1min 6s\n"
     ]
    }
   ],
   "source": [
    "%%time\n",
    "cv_scores_new_dmg = cross_val_score(rf_model, df_w_dmg.values, y_dmg, cv=cv, scoring=\"roc_auc\", n_jobs=-1)"
   ]
  },
  {
   "cell_type": "code",
   "execution_count": 154,
   "id": "80475cd4",
   "metadata": {
    "scrolled": true
   },
   "outputs": [
    {
     "name": "stdout",
     "output_type": "stream",
     "text": [
      "ROC-AUC на кросс-валидации для старых признаков: 0.7842910359037607\n",
      "ROC-AUC на кросс-валидации для новых признаков: 0.7909945080844669\n"
     ]
    }
   ],
   "source": [
    "print(f\"ROC-AUC на кросс-валидации для старых признаков: {cv_scores_new_2.mean()}\")\n",
    "print(f\"ROC-AUC на кросс-валидации для новых признаков: {cv_scores_new_dmg.mean()}\")"
   ]
  },
  {
   "cell_type": "markdown",
   "id": "66d4c571",
   "metadata": {},
   "source": [
    "**Отлично!**"
   ]
  },
  {
   "cell_type": "markdown",
   "id": "5b09fea2",
   "metadata": {},
   "source": [
    "## Creating TEST"
   ]
  },
  {
   "cell_type": "markdown",
   "id": "36d93673",
   "metadata": {},
   "source": [
    "#### KDA"
   ]
  },
  {
   "cell_type": "code",
   "execution_count": 92,
   "id": "0004b213",
   "metadata": {},
   "outputs": [],
   "source": [
    "df_4_kda_test = df_test_features_extended.copy()"
   ]
  },
  {
   "cell_type": "code",
   "execution_count": 93,
   "id": "cd4c09c3",
   "metadata": {},
   "outputs": [],
   "source": [
    "for i in range(1,6):\n",
    "    df_4_kda_test.loc[df_4_kda_test[f'r{i}_deaths'] == 0, f'r{i}_deaths'] = 1\n",
    "    \n",
    "for i in range(1,6):\n",
    "    df_4_kda_test.loc[df_4_kda_test[f'd{i}_deaths'] == 0, f'd{i}_deaths'] = 1"
   ]
  },
  {
   "cell_type": "code",
   "execution_count": 94,
   "id": "ac4799b9",
   "metadata": {},
   "outputs": [],
   "source": [
    "for i in range(1,6):\n",
    "    df_4_kda_test[f'r{i}_kda'] = (df_4_kda_test[f'r{i}_kills'] + df_4_kda_test[f'r{i}_assists']) / df_4_kda_test[f'r{i}_deaths']\n",
    "    \n",
    "for i in range(1,6):\n",
    "    df_4_kda_test[f'd{i}_kda'] = (df_4_kda_test[f'd{i}_kills'] + df_4_kda_test[f'd{i}_assists']) / df_4_kda_test[f'd{i}_deaths']"
   ]
  },
  {
   "cell_type": "code",
   "execution_count": 95,
   "id": "bcf1d18f",
   "metadata": {},
   "outputs": [],
   "source": [
    "for i in range(1,6):\n",
    "    df_4_kda_test = df_4_kda_test.drop([f'r{i}_kills', f'r{i}_assists', f'r{i}_deaths'], axis=1)\n",
    "    \n",
    "for i in range(1,6):\n",
    "    df_4_kda_test = df_4_kda_test.drop([f'd{i}_kills', f'd{i}_assists', f'd{i}_deaths'], axis=1)"
   ]
  },
  {
   "cell_type": "code",
   "execution_count": 96,
   "id": "a8935f0e",
   "metadata": {},
   "outputs": [
    {
     "data": {
      "text/html": [
       "<div>\n",
       "<style scoped>\n",
       "    .dataframe tbody tr th:only-of-type {\n",
       "        vertical-align: middle;\n",
       "    }\n",
       "\n",
       "    .dataframe tbody tr th {\n",
       "        vertical-align: top;\n",
       "    }\n",
       "\n",
       "    .dataframe thead th {\n",
       "        text-align: right;\n",
       "    }\n",
       "</style>\n",
       "<table border=\"1\" class=\"dataframe\">\n",
       "  <thead>\n",
       "    <tr style=\"text-align: right;\">\n",
       "      <th></th>\n",
       "      <th>game_time</th>\n",
       "      <th>game_mode</th>\n",
       "      <th>lobby_type</th>\n",
       "      <th>objectives_len</th>\n",
       "      <th>chat_len</th>\n",
       "      <th>r1_hero_id</th>\n",
       "      <th>r1_denies</th>\n",
       "      <th>r1_gold</th>\n",
       "      <th>r1_lh</th>\n",
       "      <th>r1_xp</th>\n",
       "      <th>...</th>\n",
       "      <th>r1_kda</th>\n",
       "      <th>r2_kda</th>\n",
       "      <th>r3_kda</th>\n",
       "      <th>r4_kda</th>\n",
       "      <th>r5_kda</th>\n",
       "      <th>d1_kda</th>\n",
       "      <th>d2_kda</th>\n",
       "      <th>d3_kda</th>\n",
       "      <th>d4_kda</th>\n",
       "      <th>d5_kda</th>\n",
       "    </tr>\n",
       "    <tr>\n",
       "      <th>match_id_hash</th>\n",
       "      <th></th>\n",
       "      <th></th>\n",
       "      <th></th>\n",
       "      <th></th>\n",
       "      <th></th>\n",
       "      <th></th>\n",
       "      <th></th>\n",
       "      <th></th>\n",
       "      <th></th>\n",
       "      <th></th>\n",
       "      <th></th>\n",
       "      <th></th>\n",
       "      <th></th>\n",
       "      <th></th>\n",
       "      <th></th>\n",
       "      <th></th>\n",
       "      <th></th>\n",
       "      <th></th>\n",
       "      <th></th>\n",
       "      <th></th>\n",
       "      <th></th>\n",
       "    </tr>\n",
       "  </thead>\n",
       "  <tbody>\n",
       "    <tr>\n",
       "      <th>a400b8f29dece5f4d266f49f1ae2e98a</th>\n",
       "      <td>155</td>\n",
       "      <td>22</td>\n",
       "      <td>7</td>\n",
       "      <td>1</td>\n",
       "      <td>11</td>\n",
       "      <td>11</td>\n",
       "      <td>0</td>\n",
       "      <td>543</td>\n",
       "      <td>7</td>\n",
       "      <td>533</td>\n",
       "      <td>...</td>\n",
       "      <td>0.000000</td>\n",
       "      <td>0.000000</td>\n",
       "      <td>0.000000</td>\n",
       "      <td>0.000000</td>\n",
       "      <td>0.000000</td>\n",
       "      <td>1.000000</td>\n",
       "      <td>0.000000</td>\n",
       "      <td>0.000000</td>\n",
       "      <td>1.000000</td>\n",
       "      <td>0.000000</td>\n",
       "    </tr>\n",
       "    <tr>\n",
       "      <th>46a0ddce8f7ed2a8d9bd5edcbb925682</th>\n",
       "      <td>576</td>\n",
       "      <td>22</td>\n",
       "      <td>7</td>\n",
       "      <td>1</td>\n",
       "      <td>4</td>\n",
       "      <td>14</td>\n",
       "      <td>1</td>\n",
       "      <td>1613</td>\n",
       "      <td>0</td>\n",
       "      <td>1471</td>\n",
       "      <td>...</td>\n",
       "      <td>4.000000</td>\n",
       "      <td>2.000000</td>\n",
       "      <td>4.000000</td>\n",
       "      <td>3.000000</td>\n",
       "      <td>1.000000</td>\n",
       "      <td>0.000000</td>\n",
       "      <td>0.333333</td>\n",
       "      <td>1.000000</td>\n",
       "      <td>0.000000</td>\n",
       "      <td>0.000000</td>\n",
       "    </tr>\n",
       "    <tr>\n",
       "      <th>b1b35ff97723d9b7ade1c9c3cf48f770</th>\n",
       "      <td>453</td>\n",
       "      <td>22</td>\n",
       "      <td>7</td>\n",
       "      <td>1</td>\n",
       "      <td>3</td>\n",
       "      <td>42</td>\n",
       "      <td>0</td>\n",
       "      <td>1404</td>\n",
       "      <td>9</td>\n",
       "      <td>1351</td>\n",
       "      <td>...</td>\n",
       "      <td>1.000000</td>\n",
       "      <td>1.000000</td>\n",
       "      <td>0.000000</td>\n",
       "      <td>2.000000</td>\n",
       "      <td>0.500000</td>\n",
       "      <td>1.000000</td>\n",
       "      <td>1.000000</td>\n",
       "      <td>1.000000</td>\n",
       "      <td>2.000000</td>\n",
       "      <td>1.000000</td>\n",
       "    </tr>\n",
       "    <tr>\n",
       "      <th>ab3cc6ccac661a1385e73a2e9f21313a</th>\n",
       "      <td>721</td>\n",
       "      <td>4</td>\n",
       "      <td>0</td>\n",
       "      <td>2</td>\n",
       "      <td>1</td>\n",
       "      <td>30</td>\n",
       "      <td>3</td>\n",
       "      <td>2306</td>\n",
       "      <td>6</td>\n",
       "      <td>3088</td>\n",
       "      <td>...</td>\n",
       "      <td>1.500000</td>\n",
       "      <td>1.500000</td>\n",
       "      <td>0.500000</td>\n",
       "      <td>3.000000</td>\n",
       "      <td>2.000000</td>\n",
       "      <td>1.400000</td>\n",
       "      <td>4.000000</td>\n",
       "      <td>4.000000</td>\n",
       "      <td>5.000000</td>\n",
       "      <td>0.500000</td>\n",
       "    </tr>\n",
       "    <tr>\n",
       "      <th>54aaab1cb8cc5df3c253641618673266</th>\n",
       "      <td>752</td>\n",
       "      <td>22</td>\n",
       "      <td>7</td>\n",
       "      <td>1</td>\n",
       "      <td>0</td>\n",
       "      <td>8</td>\n",
       "      <td>8</td>\n",
       "      <td>3917</td>\n",
       "      <td>46</td>\n",
       "      <td>5081</td>\n",
       "      <td>...</td>\n",
       "      <td>4.000000</td>\n",
       "      <td>1.000000</td>\n",
       "      <td>3.000000</td>\n",
       "      <td>5.000000</td>\n",
       "      <td>1.500000</td>\n",
       "      <td>0.000000</td>\n",
       "      <td>1.000000</td>\n",
       "      <td>0.000000</td>\n",
       "      <td>1.000000</td>\n",
       "      <td>1.000000</td>\n",
       "    </tr>\n",
       "    <tr>\n",
       "      <th>...</th>\n",
       "      <td>...</td>\n",
       "      <td>...</td>\n",
       "      <td>...</td>\n",
       "      <td>...</td>\n",
       "      <td>...</td>\n",
       "      <td>...</td>\n",
       "      <td>...</td>\n",
       "      <td>...</td>\n",
       "      <td>...</td>\n",
       "      <td>...</td>\n",
       "      <td>...</td>\n",
       "      <td>...</td>\n",
       "      <td>...</td>\n",
       "      <td>...</td>\n",
       "      <td>...</td>\n",
       "      <td>...</td>\n",
       "      <td>...</td>\n",
       "      <td>...</td>\n",
       "      <td>...</td>\n",
       "      <td>...</td>\n",
       "      <td>...</td>\n",
       "    </tr>\n",
       "    <tr>\n",
       "      <th>03f683fed8cf6f03b735e2ee2a942698</th>\n",
       "      <td>509</td>\n",
       "      <td>4</td>\n",
       "      <td>0</td>\n",
       "      <td>1</td>\n",
       "      <td>0</td>\n",
       "      <td>16</td>\n",
       "      <td>1</td>\n",
       "      <td>2621</td>\n",
       "      <td>16</td>\n",
       "      <td>2794</td>\n",
       "      <td>...</td>\n",
       "      <td>2.000000</td>\n",
       "      <td>1.000000</td>\n",
       "      <td>2.000000</td>\n",
       "      <td>2.000000</td>\n",
       "      <td>0.000000</td>\n",
       "      <td>1.000000</td>\n",
       "      <td>0.000000</td>\n",
       "      <td>0.000000</td>\n",
       "      <td>0.000000</td>\n",
       "      <td>0.000000</td>\n",
       "    </tr>\n",
       "    <tr>\n",
       "      <th>06e2b42495855647830ccc6d466f913c</th>\n",
       "      <td>2561</td>\n",
       "      <td>22</td>\n",
       "      <td>7</td>\n",
       "      <td>17</td>\n",
       "      <td>7</td>\n",
       "      <td>76</td>\n",
       "      <td>6</td>\n",
       "      <td>7223</td>\n",
       "      <td>46</td>\n",
       "      <td>9094</td>\n",
       "      <td>...</td>\n",
       "      <td>0.333333</td>\n",
       "      <td>5.000000</td>\n",
       "      <td>1.058824</td>\n",
       "      <td>1.000000</td>\n",
       "      <td>3.714286</td>\n",
       "      <td>1.250000</td>\n",
       "      <td>2.727273</td>\n",
       "      <td>2.555556</td>\n",
       "      <td>3.000000</td>\n",
       "      <td>2.714286</td>\n",
       "    </tr>\n",
       "    <tr>\n",
       "      <th>defd0caeed6ea83d7d5fbdec013fe7d1</th>\n",
       "      <td>1783</td>\n",
       "      <td>22</td>\n",
       "      <td>0</td>\n",
       "      <td>8</td>\n",
       "      <td>23</td>\n",
       "      <td>3</td>\n",
       "      <td>0</td>\n",
       "      <td>6283</td>\n",
       "      <td>13</td>\n",
       "      <td>7847</td>\n",
       "      <td>...</td>\n",
       "      <td>1.111111</td>\n",
       "      <td>1.428571</td>\n",
       "      <td>1.714286</td>\n",
       "      <td>3.333333</td>\n",
       "      <td>1.500000</td>\n",
       "      <td>2.428571</td>\n",
       "      <td>19.000000</td>\n",
       "      <td>4.250000</td>\n",
       "      <td>3.200000</td>\n",
       "      <td>4.500000</td>\n",
       "    </tr>\n",
       "    <tr>\n",
       "      <th>47ad6454ede66c1c78fdaa9391dfc556</th>\n",
       "      <td>2405</td>\n",
       "      <td>22</td>\n",
       "      <td>7</td>\n",
       "      <td>12</td>\n",
       "      <td>4</td>\n",
       "      <td>22</td>\n",
       "      <td>7</td>\n",
       "      <td>14375</td>\n",
       "      <td>168</td>\n",
       "      <td>19847</td>\n",
       "      <td>...</td>\n",
       "      <td>2.125000</td>\n",
       "      <td>1.583333</td>\n",
       "      <td>5.666667</td>\n",
       "      <td>1.000000</td>\n",
       "      <td>9.333333</td>\n",
       "      <td>2.181818</td>\n",
       "      <td>1.916667</td>\n",
       "      <td>2.000000</td>\n",
       "      <td>3.833333</td>\n",
       "      <td>3.571429</td>\n",
       "    </tr>\n",
       "    <tr>\n",
       "      <th>9928dfde50efcbdb2055da23dcdbc101</th>\n",
       "      <td>1775</td>\n",
       "      <td>22</td>\n",
       "      <td>0</td>\n",
       "      <td>10</td>\n",
       "      <td>13</td>\n",
       "      <td>32</td>\n",
       "      <td>0</td>\n",
       "      <td>8847</td>\n",
       "      <td>20</td>\n",
       "      <td>11151</td>\n",
       "      <td>...</td>\n",
       "      <td>4.500000</td>\n",
       "      <td>2.285714</td>\n",
       "      <td>15.000000</td>\n",
       "      <td>1.800000</td>\n",
       "      <td>5.000000</td>\n",
       "      <td>0.714286</td>\n",
       "      <td>0.900000</td>\n",
       "      <td>3.500000</td>\n",
       "      <td>4.666667</td>\n",
       "      <td>1.833333</td>\n",
       "    </tr>\n",
       "  </tbody>\n",
       "</table>\n",
       "<p>7977 rows × 228 columns</p>\n",
       "</div>"
      ],
      "text/plain": [
       "                                  game_time  game_mode  lobby_type  \\\n",
       "match_id_hash                                                        \n",
       "a400b8f29dece5f4d266f49f1ae2e98a        155         22           7   \n",
       "46a0ddce8f7ed2a8d9bd5edcbb925682        576         22           7   \n",
       "b1b35ff97723d9b7ade1c9c3cf48f770        453         22           7   \n",
       "ab3cc6ccac661a1385e73a2e9f21313a        721          4           0   \n",
       "54aaab1cb8cc5df3c253641618673266        752         22           7   \n",
       "...                                     ...        ...         ...   \n",
       "03f683fed8cf6f03b735e2ee2a942698        509          4           0   \n",
       "06e2b42495855647830ccc6d466f913c       2561         22           7   \n",
       "defd0caeed6ea83d7d5fbdec013fe7d1       1783         22           0   \n",
       "47ad6454ede66c1c78fdaa9391dfc556       2405         22           7   \n",
       "9928dfde50efcbdb2055da23dcdbc101       1775         22           0   \n",
       "\n",
       "                                  objectives_len  chat_len  r1_hero_id  \\\n",
       "match_id_hash                                                            \n",
       "a400b8f29dece5f4d266f49f1ae2e98a               1        11          11   \n",
       "46a0ddce8f7ed2a8d9bd5edcbb925682               1         4          14   \n",
       "b1b35ff97723d9b7ade1c9c3cf48f770               1         3          42   \n",
       "ab3cc6ccac661a1385e73a2e9f21313a               2         1          30   \n",
       "54aaab1cb8cc5df3c253641618673266               1         0           8   \n",
       "...                                          ...       ...         ...   \n",
       "03f683fed8cf6f03b735e2ee2a942698               1         0          16   \n",
       "06e2b42495855647830ccc6d466f913c              17         7          76   \n",
       "defd0caeed6ea83d7d5fbdec013fe7d1               8        23           3   \n",
       "47ad6454ede66c1c78fdaa9391dfc556              12         4          22   \n",
       "9928dfde50efcbdb2055da23dcdbc101              10        13          32   \n",
       "\n",
       "                                  r1_denies  r1_gold  r1_lh  r1_xp  ...  \\\n",
       "match_id_hash                                                       ...   \n",
       "a400b8f29dece5f4d266f49f1ae2e98a          0      543      7    533  ...   \n",
       "46a0ddce8f7ed2a8d9bd5edcbb925682          1     1613      0   1471  ...   \n",
       "b1b35ff97723d9b7ade1c9c3cf48f770          0     1404      9   1351  ...   \n",
       "ab3cc6ccac661a1385e73a2e9f21313a          3     2306      6   3088  ...   \n",
       "54aaab1cb8cc5df3c253641618673266          8     3917     46   5081  ...   \n",
       "...                                     ...      ...    ...    ...  ...   \n",
       "03f683fed8cf6f03b735e2ee2a942698          1     2621     16   2794  ...   \n",
       "06e2b42495855647830ccc6d466f913c          6     7223     46   9094  ...   \n",
       "defd0caeed6ea83d7d5fbdec013fe7d1          0     6283     13   7847  ...   \n",
       "47ad6454ede66c1c78fdaa9391dfc556          7    14375    168  19847  ...   \n",
       "9928dfde50efcbdb2055da23dcdbc101          0     8847     20  11151  ...   \n",
       "\n",
       "                                    r1_kda    r2_kda     r3_kda    r4_kda  \\\n",
       "match_id_hash                                                               \n",
       "a400b8f29dece5f4d266f49f1ae2e98a  0.000000  0.000000   0.000000  0.000000   \n",
       "46a0ddce8f7ed2a8d9bd5edcbb925682  4.000000  2.000000   4.000000  3.000000   \n",
       "b1b35ff97723d9b7ade1c9c3cf48f770  1.000000  1.000000   0.000000  2.000000   \n",
       "ab3cc6ccac661a1385e73a2e9f21313a  1.500000  1.500000   0.500000  3.000000   \n",
       "54aaab1cb8cc5df3c253641618673266  4.000000  1.000000   3.000000  5.000000   \n",
       "...                                    ...       ...        ...       ...   \n",
       "03f683fed8cf6f03b735e2ee2a942698  2.000000  1.000000   2.000000  2.000000   \n",
       "06e2b42495855647830ccc6d466f913c  0.333333  5.000000   1.058824  1.000000   \n",
       "defd0caeed6ea83d7d5fbdec013fe7d1  1.111111  1.428571   1.714286  3.333333   \n",
       "47ad6454ede66c1c78fdaa9391dfc556  2.125000  1.583333   5.666667  1.000000   \n",
       "9928dfde50efcbdb2055da23dcdbc101  4.500000  2.285714  15.000000  1.800000   \n",
       "\n",
       "                                    r5_kda    d1_kda     d2_kda    d3_kda  \\\n",
       "match_id_hash                                                               \n",
       "a400b8f29dece5f4d266f49f1ae2e98a  0.000000  1.000000   0.000000  0.000000   \n",
       "46a0ddce8f7ed2a8d9bd5edcbb925682  1.000000  0.000000   0.333333  1.000000   \n",
       "b1b35ff97723d9b7ade1c9c3cf48f770  0.500000  1.000000   1.000000  1.000000   \n",
       "ab3cc6ccac661a1385e73a2e9f21313a  2.000000  1.400000   4.000000  4.000000   \n",
       "54aaab1cb8cc5df3c253641618673266  1.500000  0.000000   1.000000  0.000000   \n",
       "...                                    ...       ...        ...       ...   \n",
       "03f683fed8cf6f03b735e2ee2a942698  0.000000  1.000000   0.000000  0.000000   \n",
       "06e2b42495855647830ccc6d466f913c  3.714286  1.250000   2.727273  2.555556   \n",
       "defd0caeed6ea83d7d5fbdec013fe7d1  1.500000  2.428571  19.000000  4.250000   \n",
       "47ad6454ede66c1c78fdaa9391dfc556  9.333333  2.181818   1.916667  2.000000   \n",
       "9928dfde50efcbdb2055da23dcdbc101  5.000000  0.714286   0.900000  3.500000   \n",
       "\n",
       "                                    d4_kda    d5_kda  \n",
       "match_id_hash                                         \n",
       "a400b8f29dece5f4d266f49f1ae2e98a  1.000000  0.000000  \n",
       "46a0ddce8f7ed2a8d9bd5edcbb925682  0.000000  0.000000  \n",
       "b1b35ff97723d9b7ade1c9c3cf48f770  2.000000  1.000000  \n",
       "ab3cc6ccac661a1385e73a2e9f21313a  5.000000  0.500000  \n",
       "54aaab1cb8cc5df3c253641618673266  1.000000  1.000000  \n",
       "...                                    ...       ...  \n",
       "03f683fed8cf6f03b735e2ee2a942698  0.000000  0.000000  \n",
       "06e2b42495855647830ccc6d466f913c  3.000000  2.714286  \n",
       "defd0caeed6ea83d7d5fbdec013fe7d1  3.200000  4.500000  \n",
       "47ad6454ede66c1c78fdaa9391dfc556  3.833333  3.571429  \n",
       "9928dfde50efcbdb2055da23dcdbc101  4.666667  1.833333  \n",
       "\n",
       "[7977 rows x 228 columns]"
      ]
     },
     "execution_count": 96,
     "metadata": {},
     "output_type": "execute_result"
    }
   ],
   "source": [
    "df_4_kda_test"
   ]
  },
  {
   "cell_type": "markdown",
   "id": "c4216aa6",
   "metadata": {},
   "source": [
    "#### Damage"
   ]
  },
  {
   "cell_type": "code",
   "execution_count": 109,
   "id": "ec287804",
   "metadata": {},
   "outputs": [],
   "source": [
    "damage_df_test = pd.DataFrame(columns = [f'r{i}_dmage' for i in range(1,6)] + [f'd{i}_dmage' for i in range(1,6)])"
   ]
  },
  {
   "cell_type": "code",
   "execution_count": 110,
   "id": "dcedcb56",
   "metadata": {},
   "outputs": [
    {
     "data": {
      "application/vnd.jupyter.widget-view+json": {
       "model_id": "ee4c3a86bb9f4a60b2290a8e674f38c8",
       "version_major": 2,
       "version_minor": 0
      },
      "text/plain": [
       "  0%|          | 0/31698 [00:00<?, ?it/s]"
      ]
     },
     "metadata": {},
     "output_type": "display_data"
    }
   ],
   "source": [
    "for n, game in enumerate(read_matches('bi-ml-competition-2023/test_raw_data.jsonl')):\n",
    "        for i in range(1,6):\n",
    "            damage_df_test.loc[n, f'r{i}_dmage'] = sum(game['players'][i-1]['damage'].values())\n",
    "        for i in range(1,6):\n",
    "            damage_df_test.loc[n, f'd{i}_dmage'] = sum(game['players'][i+4]['damage'].values())"
   ]
  },
  {
   "cell_type": "code",
   "execution_count": 112,
   "id": "eba4c0c4",
   "metadata": {},
   "outputs": [
    {
     "data": {
      "text/html": [
       "<div>\n",
       "<style scoped>\n",
       "    .dataframe tbody tr th:only-of-type {\n",
       "        vertical-align: middle;\n",
       "    }\n",
       "\n",
       "    .dataframe tbody tr th {\n",
       "        vertical-align: top;\n",
       "    }\n",
       "\n",
       "    .dataframe thead th {\n",
       "        text-align: right;\n",
       "    }\n",
       "</style>\n",
       "<table border=\"1\" class=\"dataframe\">\n",
       "  <thead>\n",
       "    <tr style=\"text-align: right;\">\n",
       "      <th></th>\n",
       "      <th>r1_dmage</th>\n",
       "      <th>r2_dmage</th>\n",
       "      <th>r3_dmage</th>\n",
       "      <th>r4_dmage</th>\n",
       "      <th>r5_dmage</th>\n",
       "      <th>d1_dmage</th>\n",
       "      <th>d2_dmage</th>\n",
       "      <th>d3_dmage</th>\n",
       "      <th>d4_dmage</th>\n",
       "      <th>d5_dmage</th>\n",
       "    </tr>\n",
       "  </thead>\n",
       "  <tbody>\n",
       "    <tr>\n",
       "      <th>0</th>\n",
       "      <td>1287</td>\n",
       "      <td>1327</td>\n",
       "      <td>32</td>\n",
       "      <td>1000</td>\n",
       "      <td>5090</td>\n",
       "      <td>3521</td>\n",
       "      <td>1977</td>\n",
       "      <td>747</td>\n",
       "      <td>868</td>\n",
       "      <td>2332</td>\n",
       "    </tr>\n",
       "    <tr>\n",
       "      <th>1</th>\n",
       "      <td>3350</td>\n",
       "      <td>19497</td>\n",
       "      <td>14140</td>\n",
       "      <td>1819</td>\n",
       "      <td>11575</td>\n",
       "      <td>36761</td>\n",
       "      <td>8913</td>\n",
       "      <td>13392</td>\n",
       "      <td>6010</td>\n",
       "      <td>3955</td>\n",
       "    </tr>\n",
       "    <tr>\n",
       "      <th>2</th>\n",
       "      <td>4547</td>\n",
       "      <td>8519</td>\n",
       "      <td>9178</td>\n",
       "      <td>8946</td>\n",
       "      <td>6723</td>\n",
       "      <td>11833</td>\n",
       "      <td>9431</td>\n",
       "      <td>13832</td>\n",
       "      <td>8388</td>\n",
       "      <td>10739</td>\n",
       "    </tr>\n",
       "    <tr>\n",
       "      <th>3</th>\n",
       "      <td>7101</td>\n",
       "      <td>13829</td>\n",
       "      <td>19926</td>\n",
       "      <td>8474</td>\n",
       "      <td>17700</td>\n",
       "      <td>12293</td>\n",
       "      <td>25386</td>\n",
       "      <td>14207</td>\n",
       "      <td>5053</td>\n",
       "      <td>15255</td>\n",
       "    </tr>\n",
       "    <tr>\n",
       "      <th>4</th>\n",
       "      <td>18537</td>\n",
       "      <td>13834</td>\n",
       "      <td>5096</td>\n",
       "      <td>8403</td>\n",
       "      <td>26871</td>\n",
       "      <td>27741</td>\n",
       "      <td>3510</td>\n",
       "      <td>30676</td>\n",
       "      <td>21681</td>\n",
       "      <td>16086</td>\n",
       "    </tr>\n",
       "    <tr>\n",
       "      <th>...</th>\n",
       "      <td>...</td>\n",
       "      <td>...</td>\n",
       "      <td>...</td>\n",
       "      <td>...</td>\n",
       "      <td>...</td>\n",
       "      <td>...</td>\n",
       "      <td>...</td>\n",
       "      <td>...</td>\n",
       "      <td>...</td>\n",
       "      <td>...</td>\n",
       "    </tr>\n",
       "    <tr>\n",
       "      <th>7972</th>\n",
       "      <td>9917</td>\n",
       "      <td>6367</td>\n",
       "      <td>13444</td>\n",
       "      <td>4878</td>\n",
       "      <td>30993</td>\n",
       "      <td>14204</td>\n",
       "      <td>16929</td>\n",
       "      <td>8440</td>\n",
       "      <td>8134</td>\n",
       "      <td>15720</td>\n",
       "    </tr>\n",
       "    <tr>\n",
       "      <th>7973</th>\n",
       "      <td>26572</td>\n",
       "      <td>100160</td>\n",
       "      <td>121742</td>\n",
       "      <td>116884</td>\n",
       "      <td>137210</td>\n",
       "      <td>152089</td>\n",
       "      <td>80847</td>\n",
       "      <td>77992</td>\n",
       "      <td>151818</td>\n",
       "      <td>61435</td>\n",
       "    </tr>\n",
       "    <tr>\n",
       "      <th>7974</th>\n",
       "      <td>11790</td>\n",
       "      <td>47945</td>\n",
       "      <td>48950</td>\n",
       "      <td>89862</td>\n",
       "      <td>52639</td>\n",
       "      <td>43112</td>\n",
       "      <td>93180</td>\n",
       "      <td>20333</td>\n",
       "      <td>115497</td>\n",
       "      <td>26995</td>\n",
       "    </tr>\n",
       "    <tr>\n",
       "      <th>7975</th>\n",
       "      <td>148826</td>\n",
       "      <td>26285</td>\n",
       "      <td>238951</td>\n",
       "      <td>21674</td>\n",
       "      <td>403088</td>\n",
       "      <td>30657</td>\n",
       "      <td>241951</td>\n",
       "      <td>147625</td>\n",
       "      <td>87676</td>\n",
       "      <td>124292</td>\n",
       "    </tr>\n",
       "    <tr>\n",
       "      <th>7976</th>\n",
       "      <td>16837</td>\n",
       "      <td>58748</td>\n",
       "      <td>98858</td>\n",
       "      <td>113406</td>\n",
       "      <td>35399</td>\n",
       "      <td>60071</td>\n",
       "      <td>41003</td>\n",
       "      <td>9789</td>\n",
       "      <td>99251</td>\n",
       "      <td>137446</td>\n",
       "    </tr>\n",
       "  </tbody>\n",
       "</table>\n",
       "<p>7977 rows × 10 columns</p>\n",
       "</div>"
      ],
      "text/plain": [
       "     r1_dmage r2_dmage r3_dmage r4_dmage r5_dmage d1_dmage d2_dmage d3_dmage  \\\n",
       "0        1287     1327       32     1000     5090     3521     1977      747   \n",
       "1        3350    19497    14140     1819    11575    36761     8913    13392   \n",
       "2        4547     8519     9178     8946     6723    11833     9431    13832   \n",
       "3        7101    13829    19926     8474    17700    12293    25386    14207   \n",
       "4       18537    13834     5096     8403    26871    27741     3510    30676   \n",
       "...       ...      ...      ...      ...      ...      ...      ...      ...   \n",
       "7972     9917     6367    13444     4878    30993    14204    16929     8440   \n",
       "7973    26572   100160   121742   116884   137210   152089    80847    77992   \n",
       "7974    11790    47945    48950    89862    52639    43112    93180    20333   \n",
       "7975   148826    26285   238951    21674   403088    30657   241951   147625   \n",
       "7976    16837    58748    98858   113406    35399    60071    41003     9789   \n",
       "\n",
       "     d4_dmage d5_dmage  \n",
       "0         868     2332  \n",
       "1        6010     3955  \n",
       "2        8388    10739  \n",
       "3        5053    15255  \n",
       "4       21681    16086  \n",
       "...       ...      ...  \n",
       "7972     8134    15720  \n",
       "7973   151818    61435  \n",
       "7974   115497    26995  \n",
       "7975    87676   124292  \n",
       "7976    99251   137446  \n",
       "\n",
       "[7977 rows x 10 columns]"
      ]
     },
     "execution_count": 112,
     "metadata": {},
     "output_type": "execute_result"
    }
   ],
   "source": [
    "damage_df_test"
   ]
  },
  {
   "cell_type": "code",
   "execution_count": 115,
   "id": "f148741b",
   "metadata": {},
   "outputs": [],
   "source": [
    "damage_df_test = damage_df_test.rename(index=dict(zip(damage_df_test.index, df_4_kda_test.index)))"
   ]
  },
  {
   "cell_type": "code",
   "execution_count": 116,
   "id": "7686a0a6",
   "metadata": {},
   "outputs": [],
   "source": [
    "df_w_dmg_test = pd.concat([df_4_kda_test, damage_df_test], axis=1)"
   ]
  },
  {
   "cell_type": "code",
   "execution_count": 117,
   "id": "b010103a",
   "metadata": {},
   "outputs": [
    {
     "data": {
      "text/html": [
       "<div>\n",
       "<style scoped>\n",
       "    .dataframe tbody tr th:only-of-type {\n",
       "        vertical-align: middle;\n",
       "    }\n",
       "\n",
       "    .dataframe tbody tr th {\n",
       "        vertical-align: top;\n",
       "    }\n",
       "\n",
       "    .dataframe thead th {\n",
       "        text-align: right;\n",
       "    }\n",
       "</style>\n",
       "<table border=\"1\" class=\"dataframe\">\n",
       "  <thead>\n",
       "    <tr style=\"text-align: right;\">\n",
       "      <th></th>\n",
       "      <th>game_time</th>\n",
       "      <th>game_mode</th>\n",
       "      <th>lobby_type</th>\n",
       "      <th>objectives_len</th>\n",
       "      <th>chat_len</th>\n",
       "      <th>r1_hero_id</th>\n",
       "      <th>r1_denies</th>\n",
       "      <th>r1_gold</th>\n",
       "      <th>r1_lh</th>\n",
       "      <th>r1_xp</th>\n",
       "      <th>...</th>\n",
       "      <th>r1_dmage</th>\n",
       "      <th>r2_dmage</th>\n",
       "      <th>r3_dmage</th>\n",
       "      <th>r4_dmage</th>\n",
       "      <th>r5_dmage</th>\n",
       "      <th>d1_dmage</th>\n",
       "      <th>d2_dmage</th>\n",
       "      <th>d3_dmage</th>\n",
       "      <th>d4_dmage</th>\n",
       "      <th>d5_dmage</th>\n",
       "    </tr>\n",
       "  </thead>\n",
       "  <tbody>\n",
       "    <tr>\n",
       "      <th>a400b8f29dece5f4d266f49f1ae2e98a</th>\n",
       "      <td>155</td>\n",
       "      <td>22</td>\n",
       "      <td>7</td>\n",
       "      <td>1</td>\n",
       "      <td>11</td>\n",
       "      <td>11</td>\n",
       "      <td>0</td>\n",
       "      <td>543</td>\n",
       "      <td>7</td>\n",
       "      <td>533</td>\n",
       "      <td>...</td>\n",
       "      <td>1287</td>\n",
       "      <td>1327</td>\n",
       "      <td>32</td>\n",
       "      <td>1000</td>\n",
       "      <td>5090</td>\n",
       "      <td>3521</td>\n",
       "      <td>1977</td>\n",
       "      <td>747</td>\n",
       "      <td>868</td>\n",
       "      <td>2332</td>\n",
       "    </tr>\n",
       "    <tr>\n",
       "      <th>46a0ddce8f7ed2a8d9bd5edcbb925682</th>\n",
       "      <td>576</td>\n",
       "      <td>22</td>\n",
       "      <td>7</td>\n",
       "      <td>1</td>\n",
       "      <td>4</td>\n",
       "      <td>14</td>\n",
       "      <td>1</td>\n",
       "      <td>1613</td>\n",
       "      <td>0</td>\n",
       "      <td>1471</td>\n",
       "      <td>...</td>\n",
       "      <td>3350</td>\n",
       "      <td>19497</td>\n",
       "      <td>14140</td>\n",
       "      <td>1819</td>\n",
       "      <td>11575</td>\n",
       "      <td>36761</td>\n",
       "      <td>8913</td>\n",
       "      <td>13392</td>\n",
       "      <td>6010</td>\n",
       "      <td>3955</td>\n",
       "    </tr>\n",
       "    <tr>\n",
       "      <th>b1b35ff97723d9b7ade1c9c3cf48f770</th>\n",
       "      <td>453</td>\n",
       "      <td>22</td>\n",
       "      <td>7</td>\n",
       "      <td>1</td>\n",
       "      <td>3</td>\n",
       "      <td>42</td>\n",
       "      <td>0</td>\n",
       "      <td>1404</td>\n",
       "      <td>9</td>\n",
       "      <td>1351</td>\n",
       "      <td>...</td>\n",
       "      <td>4547</td>\n",
       "      <td>8519</td>\n",
       "      <td>9178</td>\n",
       "      <td>8946</td>\n",
       "      <td>6723</td>\n",
       "      <td>11833</td>\n",
       "      <td>9431</td>\n",
       "      <td>13832</td>\n",
       "      <td>8388</td>\n",
       "      <td>10739</td>\n",
       "    </tr>\n",
       "    <tr>\n",
       "      <th>ab3cc6ccac661a1385e73a2e9f21313a</th>\n",
       "      <td>721</td>\n",
       "      <td>4</td>\n",
       "      <td>0</td>\n",
       "      <td>2</td>\n",
       "      <td>1</td>\n",
       "      <td>30</td>\n",
       "      <td>3</td>\n",
       "      <td>2306</td>\n",
       "      <td>6</td>\n",
       "      <td>3088</td>\n",
       "      <td>...</td>\n",
       "      <td>7101</td>\n",
       "      <td>13829</td>\n",
       "      <td>19926</td>\n",
       "      <td>8474</td>\n",
       "      <td>17700</td>\n",
       "      <td>12293</td>\n",
       "      <td>25386</td>\n",
       "      <td>14207</td>\n",
       "      <td>5053</td>\n",
       "      <td>15255</td>\n",
       "    </tr>\n",
       "    <tr>\n",
       "      <th>54aaab1cb8cc5df3c253641618673266</th>\n",
       "      <td>752</td>\n",
       "      <td>22</td>\n",
       "      <td>7</td>\n",
       "      <td>1</td>\n",
       "      <td>0</td>\n",
       "      <td>8</td>\n",
       "      <td>8</td>\n",
       "      <td>3917</td>\n",
       "      <td>46</td>\n",
       "      <td>5081</td>\n",
       "      <td>...</td>\n",
       "      <td>18537</td>\n",
       "      <td>13834</td>\n",
       "      <td>5096</td>\n",
       "      <td>8403</td>\n",
       "      <td>26871</td>\n",
       "      <td>27741</td>\n",
       "      <td>3510</td>\n",
       "      <td>30676</td>\n",
       "      <td>21681</td>\n",
       "      <td>16086</td>\n",
       "    </tr>\n",
       "    <tr>\n",
       "      <th>...</th>\n",
       "      <td>...</td>\n",
       "      <td>...</td>\n",
       "      <td>...</td>\n",
       "      <td>...</td>\n",
       "      <td>...</td>\n",
       "      <td>...</td>\n",
       "      <td>...</td>\n",
       "      <td>...</td>\n",
       "      <td>...</td>\n",
       "      <td>...</td>\n",
       "      <td>...</td>\n",
       "      <td>...</td>\n",
       "      <td>...</td>\n",
       "      <td>...</td>\n",
       "      <td>...</td>\n",
       "      <td>...</td>\n",
       "      <td>...</td>\n",
       "      <td>...</td>\n",
       "      <td>...</td>\n",
       "      <td>...</td>\n",
       "      <td>...</td>\n",
       "    </tr>\n",
       "    <tr>\n",
       "      <th>03f683fed8cf6f03b735e2ee2a942698</th>\n",
       "      <td>509</td>\n",
       "      <td>4</td>\n",
       "      <td>0</td>\n",
       "      <td>1</td>\n",
       "      <td>0</td>\n",
       "      <td>16</td>\n",
       "      <td>1</td>\n",
       "      <td>2621</td>\n",
       "      <td>16</td>\n",
       "      <td>2794</td>\n",
       "      <td>...</td>\n",
       "      <td>9917</td>\n",
       "      <td>6367</td>\n",
       "      <td>13444</td>\n",
       "      <td>4878</td>\n",
       "      <td>30993</td>\n",
       "      <td>14204</td>\n",
       "      <td>16929</td>\n",
       "      <td>8440</td>\n",
       "      <td>8134</td>\n",
       "      <td>15720</td>\n",
       "    </tr>\n",
       "    <tr>\n",
       "      <th>06e2b42495855647830ccc6d466f913c</th>\n",
       "      <td>2561</td>\n",
       "      <td>22</td>\n",
       "      <td>7</td>\n",
       "      <td>17</td>\n",
       "      <td>7</td>\n",
       "      <td>76</td>\n",
       "      <td>6</td>\n",
       "      <td>7223</td>\n",
       "      <td>46</td>\n",
       "      <td>9094</td>\n",
       "      <td>...</td>\n",
       "      <td>26572</td>\n",
       "      <td>100160</td>\n",
       "      <td>121742</td>\n",
       "      <td>116884</td>\n",
       "      <td>137210</td>\n",
       "      <td>152089</td>\n",
       "      <td>80847</td>\n",
       "      <td>77992</td>\n",
       "      <td>151818</td>\n",
       "      <td>61435</td>\n",
       "    </tr>\n",
       "    <tr>\n",
       "      <th>defd0caeed6ea83d7d5fbdec013fe7d1</th>\n",
       "      <td>1783</td>\n",
       "      <td>22</td>\n",
       "      <td>0</td>\n",
       "      <td>8</td>\n",
       "      <td>23</td>\n",
       "      <td>3</td>\n",
       "      <td>0</td>\n",
       "      <td>6283</td>\n",
       "      <td>13</td>\n",
       "      <td>7847</td>\n",
       "      <td>...</td>\n",
       "      <td>11790</td>\n",
       "      <td>47945</td>\n",
       "      <td>48950</td>\n",
       "      <td>89862</td>\n",
       "      <td>52639</td>\n",
       "      <td>43112</td>\n",
       "      <td>93180</td>\n",
       "      <td>20333</td>\n",
       "      <td>115497</td>\n",
       "      <td>26995</td>\n",
       "    </tr>\n",
       "    <tr>\n",
       "      <th>47ad6454ede66c1c78fdaa9391dfc556</th>\n",
       "      <td>2405</td>\n",
       "      <td>22</td>\n",
       "      <td>7</td>\n",
       "      <td>12</td>\n",
       "      <td>4</td>\n",
       "      <td>22</td>\n",
       "      <td>7</td>\n",
       "      <td>14375</td>\n",
       "      <td>168</td>\n",
       "      <td>19847</td>\n",
       "      <td>...</td>\n",
       "      <td>148826</td>\n",
       "      <td>26285</td>\n",
       "      <td>238951</td>\n",
       "      <td>21674</td>\n",
       "      <td>403088</td>\n",
       "      <td>30657</td>\n",
       "      <td>241951</td>\n",
       "      <td>147625</td>\n",
       "      <td>87676</td>\n",
       "      <td>124292</td>\n",
       "    </tr>\n",
       "    <tr>\n",
       "      <th>9928dfde50efcbdb2055da23dcdbc101</th>\n",
       "      <td>1775</td>\n",
       "      <td>22</td>\n",
       "      <td>0</td>\n",
       "      <td>10</td>\n",
       "      <td>13</td>\n",
       "      <td>32</td>\n",
       "      <td>0</td>\n",
       "      <td>8847</td>\n",
       "      <td>20</td>\n",
       "      <td>11151</td>\n",
       "      <td>...</td>\n",
       "      <td>16837</td>\n",
       "      <td>58748</td>\n",
       "      <td>98858</td>\n",
       "      <td>113406</td>\n",
       "      <td>35399</td>\n",
       "      <td>60071</td>\n",
       "      <td>41003</td>\n",
       "      <td>9789</td>\n",
       "      <td>99251</td>\n",
       "      <td>137446</td>\n",
       "    </tr>\n",
       "  </tbody>\n",
       "</table>\n",
       "<p>7977 rows × 238 columns</p>\n",
       "</div>"
      ],
      "text/plain": [
       "                                  game_time  game_mode  lobby_type  \\\n",
       "a400b8f29dece5f4d266f49f1ae2e98a        155         22           7   \n",
       "46a0ddce8f7ed2a8d9bd5edcbb925682        576         22           7   \n",
       "b1b35ff97723d9b7ade1c9c3cf48f770        453         22           7   \n",
       "ab3cc6ccac661a1385e73a2e9f21313a        721          4           0   \n",
       "54aaab1cb8cc5df3c253641618673266        752         22           7   \n",
       "...                                     ...        ...         ...   \n",
       "03f683fed8cf6f03b735e2ee2a942698        509          4           0   \n",
       "06e2b42495855647830ccc6d466f913c       2561         22           7   \n",
       "defd0caeed6ea83d7d5fbdec013fe7d1       1783         22           0   \n",
       "47ad6454ede66c1c78fdaa9391dfc556       2405         22           7   \n",
       "9928dfde50efcbdb2055da23dcdbc101       1775         22           0   \n",
       "\n",
       "                                  objectives_len  chat_len  r1_hero_id  \\\n",
       "a400b8f29dece5f4d266f49f1ae2e98a               1        11          11   \n",
       "46a0ddce8f7ed2a8d9bd5edcbb925682               1         4          14   \n",
       "b1b35ff97723d9b7ade1c9c3cf48f770               1         3          42   \n",
       "ab3cc6ccac661a1385e73a2e9f21313a               2         1          30   \n",
       "54aaab1cb8cc5df3c253641618673266               1         0           8   \n",
       "...                                          ...       ...         ...   \n",
       "03f683fed8cf6f03b735e2ee2a942698               1         0          16   \n",
       "06e2b42495855647830ccc6d466f913c              17         7          76   \n",
       "defd0caeed6ea83d7d5fbdec013fe7d1               8        23           3   \n",
       "47ad6454ede66c1c78fdaa9391dfc556              12         4          22   \n",
       "9928dfde50efcbdb2055da23dcdbc101              10        13          32   \n",
       "\n",
       "                                  r1_denies  r1_gold  r1_lh  r1_xp  ...  \\\n",
       "a400b8f29dece5f4d266f49f1ae2e98a          0      543      7    533  ...   \n",
       "46a0ddce8f7ed2a8d9bd5edcbb925682          1     1613      0   1471  ...   \n",
       "b1b35ff97723d9b7ade1c9c3cf48f770          0     1404      9   1351  ...   \n",
       "ab3cc6ccac661a1385e73a2e9f21313a          3     2306      6   3088  ...   \n",
       "54aaab1cb8cc5df3c253641618673266          8     3917     46   5081  ...   \n",
       "...                                     ...      ...    ...    ...  ...   \n",
       "03f683fed8cf6f03b735e2ee2a942698          1     2621     16   2794  ...   \n",
       "06e2b42495855647830ccc6d466f913c          6     7223     46   9094  ...   \n",
       "defd0caeed6ea83d7d5fbdec013fe7d1          0     6283     13   7847  ...   \n",
       "47ad6454ede66c1c78fdaa9391dfc556          7    14375    168  19847  ...   \n",
       "9928dfde50efcbdb2055da23dcdbc101          0     8847     20  11151  ...   \n",
       "\n",
       "                                  r1_dmage  r2_dmage  r3_dmage  r4_dmage  \\\n",
       "a400b8f29dece5f4d266f49f1ae2e98a      1287      1327        32      1000   \n",
       "46a0ddce8f7ed2a8d9bd5edcbb925682      3350     19497     14140      1819   \n",
       "b1b35ff97723d9b7ade1c9c3cf48f770      4547      8519      9178      8946   \n",
       "ab3cc6ccac661a1385e73a2e9f21313a      7101     13829     19926      8474   \n",
       "54aaab1cb8cc5df3c253641618673266     18537     13834      5096      8403   \n",
       "...                                    ...       ...       ...       ...   \n",
       "03f683fed8cf6f03b735e2ee2a942698      9917      6367     13444      4878   \n",
       "06e2b42495855647830ccc6d466f913c     26572    100160    121742    116884   \n",
       "defd0caeed6ea83d7d5fbdec013fe7d1     11790     47945     48950     89862   \n",
       "47ad6454ede66c1c78fdaa9391dfc556    148826     26285    238951     21674   \n",
       "9928dfde50efcbdb2055da23dcdbc101     16837     58748     98858    113406   \n",
       "\n",
       "                                  r5_dmage  d1_dmage  d2_dmage  d3_dmage  \\\n",
       "a400b8f29dece5f4d266f49f1ae2e98a      5090      3521      1977       747   \n",
       "46a0ddce8f7ed2a8d9bd5edcbb925682     11575     36761      8913     13392   \n",
       "b1b35ff97723d9b7ade1c9c3cf48f770      6723     11833      9431     13832   \n",
       "ab3cc6ccac661a1385e73a2e9f21313a     17700     12293     25386     14207   \n",
       "54aaab1cb8cc5df3c253641618673266     26871     27741      3510     30676   \n",
       "...                                    ...       ...       ...       ...   \n",
       "03f683fed8cf6f03b735e2ee2a942698     30993     14204     16929      8440   \n",
       "06e2b42495855647830ccc6d466f913c    137210    152089     80847     77992   \n",
       "defd0caeed6ea83d7d5fbdec013fe7d1     52639     43112     93180     20333   \n",
       "47ad6454ede66c1c78fdaa9391dfc556    403088     30657    241951    147625   \n",
       "9928dfde50efcbdb2055da23dcdbc101     35399     60071     41003      9789   \n",
       "\n",
       "                                  d4_dmage  d5_dmage  \n",
       "a400b8f29dece5f4d266f49f1ae2e98a       868      2332  \n",
       "46a0ddce8f7ed2a8d9bd5edcbb925682      6010      3955  \n",
       "b1b35ff97723d9b7ade1c9c3cf48f770      8388     10739  \n",
       "ab3cc6ccac661a1385e73a2e9f21313a      5053     15255  \n",
       "54aaab1cb8cc5df3c253641618673266     21681     16086  \n",
       "...                                    ...       ...  \n",
       "03f683fed8cf6f03b735e2ee2a942698      8134     15720  \n",
       "06e2b42495855647830ccc6d466f913c    151818     61435  \n",
       "defd0caeed6ea83d7d5fbdec013fe7d1    115497     26995  \n",
       "47ad6454ede66c1c78fdaa9391dfc556     87676    124292  \n",
       "9928dfde50efcbdb2055da23dcdbc101     99251    137446  \n",
       "\n",
       "[7977 rows x 238 columns]"
      ]
     },
     "execution_count": 117,
     "metadata": {},
     "output_type": "execute_result"
    }
   ],
   "source": [
    "df_w_dmg_test"
   ]
  },
  {
   "cell_type": "code",
   "execution_count": 125,
   "id": "2f5754f4",
   "metadata": {},
   "outputs": [],
   "source": [
    "y_test_pred = rf_model.predict_proba(df_w_dmg_test.values)[:, 1]"
   ]
  },
  {
   "cell_type": "code",
   "execution_count": 126,
   "id": "61cd4a1b",
   "metadata": {
    "execution": {
     "iopub.execute_input": "2022-02-13T23:28:37.066588Z",
     "iopub.status.busy": "2022-02-13T23:28:37.065534Z",
     "iopub.status.idle": "2022-02-13T23:28:37.589671Z",
     "shell.execute_reply": "2022-02-13T23:28:37.589074Z",
     "shell.execute_reply.started": "2022-02-13T22:55:54.636469Z"
    },
    "papermill": {
     "duration": 0.573434,
     "end_time": "2022-02-13T23:28:37.589831",
     "exception": false,
     "start_time": "2022-02-13T23:28:37.016397",
     "status": "completed"
    },
    "tags": []
   },
   "outputs": [],
   "source": [
    "df_submission = pd.DataFrame({\"radiant_win_prob\": y_test_pred}, \n",
    "                                 index=df_test_features.index)"
   ]
  },
  {
   "cell_type": "code",
   "execution_count": 127,
   "id": "f67774c4",
   "metadata": {
    "execution": {
     "iopub.execute_input": "2022-02-13T23:28:37.693733Z",
     "iopub.status.busy": "2022-02-13T23:28:37.693041Z",
     "iopub.status.idle": "2022-02-13T23:28:37.732667Z",
     "shell.execute_reply": "2022-02-13T23:28:37.731983Z",
     "shell.execute_reply.started": "2022-02-13T22:55:58.549750Z"
    },
    "papermill": {
     "duration": 0.09114,
     "end_time": "2022-02-13T23:28:37.732839",
     "exception": false,
     "start_time": "2022-02-13T23:28:37.641699",
     "status": "completed"
    },
    "tags": []
   },
   "outputs": [
    {
     "name": "stdout",
     "output_type": "stream",
     "text": [
      "Файл посылки сохранен, как: submission_2023-04-03_22-14-10.csv\n"
     ]
    }
   ],
   "source": [
    "submission_filename = \"submission_{}.csv\".format(\n",
    "    datetime.datetime.now().strftime(\"%Y-%m-%d_%H-%M-%S\"))\n",
    "df_submission.to_csv(submission_filename)\n",
    "print(\"Файл посылки сохранен, как: {}\".format(submission_filename))"
   ]
  }
 ],
 "metadata": {
  "kernelspec": {
   "display_name": "Python 3 (ipykernel)",
   "language": "python",
   "name": "python3"
  },
  "language_info": {
   "codemirror_mode": {
    "name": "ipython",
    "version": 3
   },
   "file_extension": ".py",
   "mimetype": "text/x-python",
   "name": "python",
   "nbconvert_exporter": "python",
   "pygments_lexer": "ipython3",
   "version": "3.10.9"
  },
  "papermill": {
   "default_parameters": {},
   "duration": 284.624138,
   "end_time": "2022-02-13T23:32:56.553845",
   "environment_variables": {},
   "exception": null,
   "input_path": "__notebook__.ipynb",
   "output_path": "__notebook__.ipynb",
   "parameters": {},
   "start_time": "2022-02-13T23:28:11.929707",
   "version": "2.3.3"
  },
  "widgets": {
   "application/vnd.jupyter.widget-state+json": {
    "state": {
     "0d846e978a8143a2ba494b58420ed067": {
      "model_module": "@jupyter-widgets/controls",
      "model_module_version": "1.5.0",
      "model_name": "DescriptionStyleModel",
      "state": {
       "_model_module": "@jupyter-widgets/controls",
       "_model_module_version": "1.5.0",
       "_model_name": "DescriptionStyleModel",
       "_view_count": null,
       "_view_module": "@jupyter-widgets/base",
       "_view_module_version": "1.2.0",
       "_view_name": "StyleView",
       "description_width": ""
      }
     },
     "0f8b8404bb734f6db3a2c56c3c7ddc6e": {
      "model_module": "@jupyter-widgets/controls",
      "model_module_version": "1.5.0",
      "model_name": "HTMLModel",
      "state": {
       "_dom_classes": [],
       "_model_module": "@jupyter-widgets/controls",
       "_model_module_version": "1.5.0",
       "_model_name": "HTMLModel",
       "_view_count": null,
       "_view_module": "@jupyter-widgets/controls",
       "_view_module_version": "1.5.0",
       "_view_name": "HTMLView",
       "description": "",
       "description_tooltip": null,
       "layout": "IPY_MODEL_59ddf819389045a094a711175442dbbe",
       "placeholder": "​",
       "style": "IPY_MODEL_b3c47a606fc044ddb919678e9db33628",
       "value": " 31698/31698 [01:40&lt;00:00, 330.36it/s]"
      }
     },
     "3a6bb37584384e4383e29e115a610a9c": {
      "model_module": "@jupyter-widgets/controls",
      "model_module_version": "1.5.0",
      "model_name": "FloatProgressModel",
      "state": {
       "_dom_classes": [],
       "_model_module": "@jupyter-widgets/controls",
       "_model_module_version": "1.5.0",
       "_model_name": "FloatProgressModel",
       "_view_count": null,
       "_view_module": "@jupyter-widgets/controls",
       "_view_module_version": "1.5.0",
       "_view_name": "ProgressView",
       "bar_style": "success",
       "description": "",
       "description_tooltip": null,
       "layout": "IPY_MODEL_bb3a69bae1bf4f5f9967c6a0650ad8a7",
       "max": 31698,
       "min": 0,
       "orientation": "horizontal",
       "style": "IPY_MODEL_fdeafc39a9f24ec592cf3b625746cc77",
       "value": 31698
      }
     },
     "59ddf819389045a094a711175442dbbe": {
      "model_module": "@jupyter-widgets/base",
      "model_module_version": "1.2.0",
      "model_name": "LayoutModel",
      "state": {
       "_model_module": "@jupyter-widgets/base",
       "_model_module_version": "1.2.0",
       "_model_name": "LayoutModel",
       "_view_count": null,
       "_view_module": "@jupyter-widgets/base",
       "_view_module_version": "1.2.0",
       "_view_name": "LayoutView",
       "align_content": null,
       "align_items": null,
       "align_self": null,
       "border": null,
       "bottom": null,
       "display": null,
       "flex": null,
       "flex_flow": null,
       "grid_area": null,
       "grid_auto_columns": null,
       "grid_auto_flow": null,
       "grid_auto_rows": null,
       "grid_column": null,
       "grid_gap": null,
       "grid_row": null,
       "grid_template_areas": null,
       "grid_template_columns": null,
       "grid_template_rows": null,
       "height": null,
       "justify_content": null,
       "justify_items": null,
       "left": null,
       "margin": null,
       "max_height": null,
       "max_width": null,
       "min_height": null,
       "min_width": null,
       "object_fit": null,
       "object_position": null,
       "order": null,
       "overflow": null,
       "overflow_x": null,
       "overflow_y": null,
       "padding": null,
       "right": null,
       "top": null,
       "visibility": null,
       "width": null
      }
     },
     "87bfa925a1994dd9ad3d09fd2e7bce9d": {
      "model_module": "@jupyter-widgets/controls",
      "model_module_version": "1.5.0",
      "model_name": "HBoxModel",
      "state": {
       "_dom_classes": [],
       "_model_module": "@jupyter-widgets/controls",
       "_model_module_version": "1.5.0",
       "_model_name": "HBoxModel",
       "_view_count": null,
       "_view_module": "@jupyter-widgets/controls",
       "_view_module_version": "1.5.0",
       "_view_name": "HBoxView",
       "box_style": "",
       "children": [
        "IPY_MODEL_c1ea357b70b94a698befc40b4e7d7383",
        "IPY_MODEL_3a6bb37584384e4383e29e115a610a9c",
        "IPY_MODEL_0f8b8404bb734f6db3a2c56c3c7ddc6e"
       ],
       "layout": "IPY_MODEL_9689ed38e7c7461fa9c7467a1ce4a958"
      }
     },
     "9689ed38e7c7461fa9c7467a1ce4a958": {
      "model_module": "@jupyter-widgets/base",
      "model_module_version": "1.2.0",
      "model_name": "LayoutModel",
      "state": {
       "_model_module": "@jupyter-widgets/base",
       "_model_module_version": "1.2.0",
       "_model_name": "LayoutModel",
       "_view_count": null,
       "_view_module": "@jupyter-widgets/base",
       "_view_module_version": "1.2.0",
       "_view_name": "LayoutView",
       "align_content": null,
       "align_items": null,
       "align_self": null,
       "border": null,
       "bottom": null,
       "display": null,
       "flex": null,
       "flex_flow": null,
       "grid_area": null,
       "grid_auto_columns": null,
       "grid_auto_flow": null,
       "grid_auto_rows": null,
       "grid_column": null,
       "grid_gap": null,
       "grid_row": null,
       "grid_template_areas": null,
       "grid_template_columns": null,
       "grid_template_rows": null,
       "height": null,
       "justify_content": null,
       "justify_items": null,
       "left": null,
       "margin": null,
       "max_height": null,
       "max_width": null,
       "min_height": null,
       "min_width": null,
       "object_fit": null,
       "object_position": null,
       "order": null,
       "overflow": null,
       "overflow_x": null,
       "overflow_y": null,
       "padding": null,
       "right": null,
       "top": null,
       "visibility": null,
       "width": null
      }
     },
     "b33f8b0631ee42ee93456c2af9091912": {
      "model_module": "@jupyter-widgets/base",
      "model_module_version": "1.2.0",
      "model_name": "LayoutModel",
      "state": {
       "_model_module": "@jupyter-widgets/base",
       "_model_module_version": "1.2.0",
       "_model_name": "LayoutModel",
       "_view_count": null,
       "_view_module": "@jupyter-widgets/base",
       "_view_module_version": "1.2.0",
       "_view_name": "LayoutView",
       "align_content": null,
       "align_items": null,
       "align_self": null,
       "border": null,
       "bottom": null,
       "display": null,
       "flex": null,
       "flex_flow": null,
       "grid_area": null,
       "grid_auto_columns": null,
       "grid_auto_flow": null,
       "grid_auto_rows": null,
       "grid_column": null,
       "grid_gap": null,
       "grid_row": null,
       "grid_template_areas": null,
       "grid_template_columns": null,
       "grid_template_rows": null,
       "height": null,
       "justify_content": null,
       "justify_items": null,
       "left": null,
       "margin": null,
       "max_height": null,
       "max_width": null,
       "min_height": null,
       "min_width": null,
       "object_fit": null,
       "object_position": null,
       "order": null,
       "overflow": null,
       "overflow_x": null,
       "overflow_y": null,
       "padding": null,
       "right": null,
       "top": null,
       "visibility": null,
       "width": null
      }
     },
     "b3c47a606fc044ddb919678e9db33628": {
      "model_module": "@jupyter-widgets/controls",
      "model_module_version": "1.5.0",
      "model_name": "DescriptionStyleModel",
      "state": {
       "_model_module": "@jupyter-widgets/controls",
       "_model_module_version": "1.5.0",
       "_model_name": "DescriptionStyleModel",
       "_view_count": null,
       "_view_module": "@jupyter-widgets/base",
       "_view_module_version": "1.2.0",
       "_view_name": "StyleView",
       "description_width": ""
      }
     },
     "bb3a69bae1bf4f5f9967c6a0650ad8a7": {
      "model_module": "@jupyter-widgets/base",
      "model_module_version": "1.2.0",
      "model_name": "LayoutModel",
      "state": {
       "_model_module": "@jupyter-widgets/base",
       "_model_module_version": "1.2.0",
       "_model_name": "LayoutModel",
       "_view_count": null,
       "_view_module": "@jupyter-widgets/base",
       "_view_module_version": "1.2.0",
       "_view_name": "LayoutView",
       "align_content": null,
       "align_items": null,
       "align_self": null,
       "border": null,
       "bottom": null,
       "display": null,
       "flex": null,
       "flex_flow": null,
       "grid_area": null,
       "grid_auto_columns": null,
       "grid_auto_flow": null,
       "grid_auto_rows": null,
       "grid_column": null,
       "grid_gap": null,
       "grid_row": null,
       "grid_template_areas": null,
       "grid_template_columns": null,
       "grid_template_rows": null,
       "height": null,
       "justify_content": null,
       "justify_items": null,
       "left": null,
       "margin": null,
       "max_height": null,
       "max_width": null,
       "min_height": null,
       "min_width": null,
       "object_fit": null,
       "object_position": null,
       "order": null,
       "overflow": null,
       "overflow_x": null,
       "overflow_y": null,
       "padding": null,
       "right": null,
       "top": null,
       "visibility": null,
       "width": null
      }
     },
     "c1ea357b70b94a698befc40b4e7d7383": {
      "model_module": "@jupyter-widgets/controls",
      "model_module_version": "1.5.0",
      "model_name": "HTMLModel",
      "state": {
       "_dom_classes": [],
       "_model_module": "@jupyter-widgets/controls",
       "_model_module_version": "1.5.0",
       "_model_name": "HTMLModel",
       "_view_count": null,
       "_view_module": "@jupyter-widgets/controls",
       "_view_module_version": "1.5.0",
       "_view_name": "HTMLView",
       "description": "",
       "description_tooltip": null,
       "layout": "IPY_MODEL_b33f8b0631ee42ee93456c2af9091912",
       "placeholder": "​",
       "style": "IPY_MODEL_0d846e978a8143a2ba494b58420ed067",
       "value": "100%"
      }
     },
     "fdeafc39a9f24ec592cf3b625746cc77": {
      "model_module": "@jupyter-widgets/controls",
      "model_module_version": "1.5.0",
      "model_name": "ProgressStyleModel",
      "state": {
       "_model_module": "@jupyter-widgets/controls",
       "_model_module_version": "1.5.0",
       "_model_name": "ProgressStyleModel",
       "_view_count": null,
       "_view_module": "@jupyter-widgets/base",
       "_view_module_version": "1.2.0",
       "_view_name": "StyleView",
       "bar_color": null,
       "description_width": ""
      }
     }
    },
    "version_major": 2,
    "version_minor": 0
   }
  }
 },
 "nbformat": 4,
 "nbformat_minor": 5
}
